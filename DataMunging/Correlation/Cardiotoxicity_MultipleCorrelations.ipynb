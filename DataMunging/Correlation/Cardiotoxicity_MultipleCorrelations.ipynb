{
 "cells": [
  {
   "cell_type": "markdown",
   "metadata": {},
   "source": [
    "![Cardiotoxicity](cardiotoxicityProjectTitle.jpg)\n",
    "#Import Packages\n",
    "- Numpy, Pandas as usual. \n",
    "- Besides, we import another important package: Scipy.\n",
    "- ![Scipy](https://dl.dropboxusercontent.com/s/5ezofb5wqjcxlcr/Scipy.jpg?dl=0)"
   ]
  },
  {
   "cell_type": "code",
   "execution_count": null,
   "metadata": {
    "collapsed": true
   },
   "outputs": [],
   "source": [
    "import numpy as np\n",
    "import pandas as pd\n",
    "from scipy import stats\n",
    "import xlrd\n",
    "import sys"
   ]
  },
  {
   "cell_type": "markdown",
   "metadata": {},
   "source": [
    "#Load the Excel File"
   ]
  },
  {
   "cell_type": "code",
   "execution_count": null,
   "metadata": {
    "collapsed": true
   },
   "outputs": [],
   "source": [
    "#Load the File\n",
    "filename='Combined Data with MDA and TnT Abnormal.xlsx'\n",
    "book=xlrd.open_workbook(filename)\n",
    "print('Source file: '+sys.path[0]+filename+' loaded!')"
   ]
  },
  {
   "cell_type": "markdown",
   "metadata": {},
   "source": [
    "#Extract Data"
   ]
  },
  {
   "cell_type": "code",
   "execution_count": null,
   "metadata": {
    "collapsed": true
   },
   "outputs": [],
   "source": [
    "#Extraction\n",
    "nsheets=book.nsheets\n",
    "\n",
    "sheet_names=book.sheet_names()\n",
    "nrows=book.sheet_by_name('Abnormal TnT').nrows\n",
    "\n",
    "header=book.sheet_by_name('Abnormal TnT').row_values(0)\n",
    "data=[book.sheet_by_name('Abnormal TnT').row_values(i) for i in range(1, nrows)]\n",
    "df=pd.DataFrame(data, columns=header)\n",
    "df=df.set_index('Samples')\n",
    "df=df.replace('', np.nan)"
   ]
  },
  {
   "cell_type": "code",
   "execution_count": null,
   "metadata": {
    "collapsed": true
   },
   "outputs": [],
   "source": [
    "peaks=list(df.columns)[7:185]"
   ]
  },
  {
   "cell_type": "markdown",
   "metadata": {},
   "source": [
    "#Drop NA data\n",
    "We should drop **NA (not available)** data in order to perform the correlation statistics."
   ]
  },
  {
   "cell_type": "code",
   "execution_count": null,
   "metadata": {
    "collapsed": true
   },
   "outputs": [],
   "source": [
    "#Drop NaN\n",
    "pairs_dropna={}\n",
    "for peak in peaks:\n",
    "    pairs_dropna[peak]=pd.DataFrame(df[['TroponinT', peak]]).dropna(axis=0)"
   ]
  },
  {
   "cell_type": "markdown",
   "metadata": {},
   "source": [
    "# Correlation Statistics\n",
    "We use **Spearman Correlation** study."
   ]
  },
  {
   "cell_type": "code",
   "execution_count": null,
   "metadata": {
    "collapsed": true
   },
   "outputs": [],
   "source": [
    "corr={}\n",
    "for peak in peaks:\n",
    "    corr[peak]=stats.spearmanr(pairs_dropna[peak].icol(0), pairs_dropna[peak].icol(1))\n",
    "\n",
    "corr_df={}\n",
    "corr_df=pd.DataFrame(corr, index=['Corr', 'P']).T"
   ]
  },
  {
   "cell_type": "code",
   "execution_count": null,
   "metadata": {
    "collapsed": true
   },
   "outputs": [],
   "source": [
    "corr_df"
   ]
  },
  {
   "cell_type": "markdown",
   "metadata": {},
   "source": [
    "#Save to the File"
   ]
  },
  {
   "cell_type": "code",
   "execution_count": null,
   "metadata": {
    "collapsed": true
   },
   "outputs": [],
   "source": [
    "#Save the Corr Result\n",
    "corr_df.to_csv('Abnormal.csv')"
   ]
  }
 ],
 "metadata": {
  "kernelspec": {
   "display_name": "Python 3",
   "language": "python",
   "name": "python3"
  },
  "language_info": {
   "codemirror_mode": {
    "name": "ipython",
    "version": 3
   },
   "file_extension": ".py",
   "mimetype": "text/x-python",
   "name": "python",
   "nbconvert_exporter": "python",
   "pygments_lexer": "ipython3",
   "version": "3.4.3"
  }
 },
 "nbformat": 4,
 "nbformat_minor": 0
}
