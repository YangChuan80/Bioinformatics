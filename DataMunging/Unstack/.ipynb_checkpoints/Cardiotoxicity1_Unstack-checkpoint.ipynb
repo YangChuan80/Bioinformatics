{
 "cells": [
  {
   "cell_type": "markdown",
   "metadata": {},
   "source": [
    "![Cardiotoxicity](cardiotoxicityProjectTitle.jpg)\n",
    "#The Unstack Method\n",
    "\n",
    "# Import the Packages\n",
    "1. There are two major packages we frequently used: **Numpy, Pandas**.\n",
    "2. **xlrd** is a package for reading data from Excel.\n",
    "3. **sys** is a package for achieving some computer system functions\n",
    "\n",
    "![Numpy](http://bids.berkeley.edu/sites/default/files/styles/400x225/public/projects/numpy_project_page.jpg?itok=flrdydei)\n",
    "![Pandas](http://pandas.pydata.org/_static/pandas_logo.png)\n"
   ]
  },
  {
   "cell_type": "code",
   "execution_count": null,
   "metadata": {
    "collapsed": true
   },
   "outputs": [],
   "source": [
    "import numpy as np\n",
    "import pandas as pd\n",
    "import xlrd\n",
    "import sys"
   ]
  },
  {
   "cell_type": "markdown",
   "metadata": {},
   "source": [
    "#Load Data from the Excel File\n",
    "The file is Compiled Plates TnT.xlsx"
   ]
  },
  {
   "cell_type": "code",
   "execution_count": null,
   "metadata": {
    "collapsed": true
   },
   "outputs": [],
   "source": [
    "filename='Compiled Plates TnT.xlsx'\n",
    "book=xlrd.open_workbook(filename)\n",
    "print('Source file: '+sys.path[0]+filename+' loaded!')"
   ]
  },
  {
   "cell_type": "markdown",
   "metadata": {},
   "source": [
    "#Extract Data\n",
    "Change the data into dataframe type (df)."
   ]
  },
  {
   "cell_type": "code",
   "execution_count": null,
   "metadata": {
    "collapsed": true
   },
   "outputs": [],
   "source": [
    "nsheets=book.nsheets\n",
    "\n",
    "sheet_names=book.sheet_names()\n",
    "nrows=book.sheet_by_name('active').nrows\n",
    "\n",
    "header=book.sheet_by_name('active').row_values(0)\n",
    "data=[book.sheet_by_name('active').row_values(i) for i in range(1, nrows)]\n",
    "df=pd.DataFrame(data, columns=header)"
   ]
  },
  {
   "cell_type": "markdown",
   "metadata": {},
   "source": [
    "#Change ID\n",
    "Change sample ID to patient ID"
   ]
  },
  {
   "cell_type": "code",
   "execution_count": null,
   "metadata": {
    "collapsed": true
   },
   "outputs": [],
   "source": [
    "patient=[]\n",
    "\n",
    "for i in range(0, nrows-1):\n",
    "    patient.append(df.ix[i]['PT Sample ID'][0:7])\n",
    "\n",
    "s=pd.Series(patient)\n",
    "\n",
    "df=pd.concat([df, s], axis=1)"
   ]
  },
  {
   "cell_type": "code",
   "execution_count": null,
   "metadata": {
    "collapsed": true
   },
   "outputs": [],
   "source": [
    "l=list(df.columns)\n",
    "l[-1]='Patient'\n",
    "df.columns=l"
   ]
  },
  {
   "cell_type": "markdown",
   "metadata": {},
   "source": [
    "#Pick the Useful Columns\n",
    "We only use three columns: Patient, Time Points and hep"
   ]
  },
  {
   "cell_type": "code",
   "execution_count": null,
   "metadata": {
    "collapsed": true
   },
   "outputs": [],
   "source": [
    "df=df[['Patient', 'Time Points', 'TroponinT']]"
   ]
  },
  {
   "cell_type": "markdown",
   "metadata": {},
   "source": [
    "#Set Index\n",
    "Set 'Patient' and 'Time Points' as index"
   ]
  },
  {
   "cell_type": "code",
   "execution_count": null,
   "metadata": {
    "collapsed": true
   },
   "outputs": [],
   "source": [
    "df=df.set_index(['Patient', 'Time Points'])"
   ]
  },
  {
   "cell_type": "markdown",
   "metadata": {},
   "source": [
    "#Unstack it!"
   ]
  },
  {
   "cell_type": "code",
   "execution_count": null,
   "metadata": {
    "collapsed": true
   },
   "outputs": [],
   "source": [
    "df=df.unstack()"
   ]
  },
  {
   "cell_type": "markdown",
   "metadata": {},
   "source": [
    "#Export the data result to Excel File"
   ]
  },
  {
   "cell_type": "code",
   "execution_count": null,
   "metadata": {
    "collapsed": true
   },
   "outputs": [],
   "source": [
    "df.to_csv('TnT unstacked demo.csv')"
   ]
  }
 ],
 "metadata": {
  "kernelspec": {
   "display_name": "Python 3",
   "language": "python",
   "name": "python3"
  },
  "language_info": {
   "codemirror_mode": {
    "name": "ipython",
    "version": 3
   },
   "file_extension": ".py",
   "mimetype": "text/x-python",
   "name": "python",
   "nbconvert_exporter": "python",
   "pygments_lexer": "ipython3",
   "version": "3.4.3"
  }
 },
 "nbformat": 4,
 "nbformat_minor": 0
}
