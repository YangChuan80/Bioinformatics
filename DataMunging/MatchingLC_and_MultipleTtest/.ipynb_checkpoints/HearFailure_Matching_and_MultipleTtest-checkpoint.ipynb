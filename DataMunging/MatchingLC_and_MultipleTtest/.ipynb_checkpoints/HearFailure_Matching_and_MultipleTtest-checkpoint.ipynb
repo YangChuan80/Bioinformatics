{
 "cells": [
  {
   "cell_type": "markdown",
   "metadata": {},
   "source": [
    "![Cardiotoxicity](HeartFailureProjectTitle.jpg)\n",
    "#Import Modules"
   ]
  },
  {
   "cell_type": "code",
   "execution_count": null,
   "metadata": {
    "collapsed": true
   },
   "outputs": [],
   "source": [
    "import numpy as np\n",
    "import pandas as pd\n",
    "from scipy import stats\n",
    "import xlrd\n",
    "import sys\n",
    "import time"
   ]
  },
  {
   "cell_type": "markdown",
   "metadata": {},
   "source": [
    "#Extract MALDI Raw Data"
   ]
  },
  {
   "cell_type": "code",
   "execution_count": null,
   "metadata": {
    "collapsed": true
   },
   "outputs": [],
   "source": [
    "#Import MALDI File///////////////////////////////////////\n",
    "filename='MALDI Raw.xlsx'\n",
    "book=xlrd.open_workbook(filename)\n",
    "print('Source file: '+sys.path[0]+filename+' loaded!')\n",
    "\n",
    "\n",
    "#Extraction\n",
    "nsheets=book.nsheets\n",
    "sheet_name='Grouped'\n",
    "sheet_names=book.sheet_names()\n",
    "nrows=book.sheet_by_name(sheet_name).nrows\n",
    "\n",
    "header=book.sheet_by_name(sheet_name).row_values(0)\n",
    "data=[book.sheet_by_name(sheet_name).row_values(i) for i in range(1, nrows)]\n",
    "df=pd.DataFrame(data, columns=header)\n",
    "df=df.set_index('ID')\n",
    "df=df.replace('', np.nan)"
   ]
  },
  {
   "cell_type": "markdown",
   "metadata": {},
   "source": [
    "#Extract LC Raw Data"
   ]
  },
  {
   "cell_type": "code",
   "execution_count": null,
   "metadata": {
    "collapsed": true
   },
   "outputs": [],
   "source": [
    "#Import LC File/////////////////////////////////////////////\n",
    "filename='LC Raw.xlsx'\n",
    "book=xlrd.open_workbook(filename)\n",
    "print('Source file: '+sys.path[0]+filename+' loaded!')\n",
    "\n",
    "#Extraction\n",
    "nsheets=book.nsheets\n",
    "sheet_name='Sheet1'\n",
    "sheet_names=book.sheet_names()\n",
    "nrows=book.sheet_by_name(sheet_name).nrows\n",
    "\n",
    "header=book.sheet_by_name(sheet_name).row_values(0)\n",
    "data=[book.sheet_by_name(sheet_name).row_values(i) for i in range(1, nrows)]\n",
    "dflc_raw=pd.DataFrame(data, columns=header)\n",
    "#dflc=dflc.set_index('ID')\n",
    "\n",
    "dflc=dflc_raw[(dflc_raw['Sequence']!='') & (dflc_raw['Protein Group Accessions']!='')]\n",
    "\n",
    "dflc=dflc.replace('', np.nan)\n",
    "\n",
    "dflc=dflc[(dflc['IonScore A2']>=20) | (dflc['IonScore B2']>=20) | (dflc['IonScore C2']>=20) | (dflc['IonScore D2']>=20)]\n",
    "dflc=dflc.reset_index()\n",
    "\n",
    "dflc=dflc.replace('', np.nan)"
   ]
  },
  {
   "cell_type": "markdown",
   "metadata": {},
   "source": [
    "#Matching\n",
    "- Match MALDI data with LC data by molecular weights"
   ]
  },
  {
   "cell_type": "code",
   "execution_count": null,
   "metadata": {
    "collapsed": true
   },
   "outputs": [],
   "source": [
    "peaks=list(df.columns)[3:]\n",
    "\n",
    "mhs=list(dflc['MH+ [Da]'])\n",
    "\n",
    "matched_peaks=[]\n",
    "matched_mh=[]\n",
    "matched_combo=[]\n",
    "\n",
    "for mh in mhs:\n",
    "    for peak in peaks:\n",
    "        if abs(mh-peak)<0.5:\n",
    "            matched_peaks.append(peak)\n",
    "            matched_mh.append(mh)\n",
    "            matched_combo.append((peak, mh))"
   ]
  },
  {
   "cell_type": "markdown",
   "metadata": {},
   "source": [
    "#Group and T-test\n",
    "- We use different clinical indeces to group different peaks;\n",
    "- Then we implement the t-test for each peak"
   ]
  },
  {
   "cell_type": "code",
   "execution_count": null,
   "metadata": {
    "collapsed": true
   },
   "outputs": [],
   "source": [
    "print('Parsing...')\n",
    "ttest_rehospitalization={}\n",
    "ttest_mortality={}\n",
    "ttest_transplantation={}\n",
    "ttest_triple={}\n",
    "\n",
    "ttest_rm={}\n",
    "ttest_rt={}\n",
    "ttest_mt={}\n",
    "\n",
    "for peak, mh in matched_combo:\n",
    "    ttest_rehospitalization[peak]={}\n",
    "    ttest_rehospitalization[peak]['t'], ttest_rehospitalization[peak]['p']=stats.ttest_ind(\n",
    "        df[df['Rehospitalization']=='Yes'][peak],\n",
    "        df[df['Rehospitalization']=='No'][peak])\n",
    "    ttest_rehospitalization[peak]['Sequence']=list(dflc[dflc['MH+ [Da]']==mh]['Sequence'].values)[0]\n",
    "    ttest_rehospitalization[peak]['Group']=list(dflc[dflc['MH+ [Da]']==mh]['Protein Group Accessions'].values)[0]\n",
    "    ttest_rehospitalization[peak]['Modifications']=list(dflc[dflc['MH+ [Da]']==mh]['Modifications'].values)[0]\n",
    "    \n",
    "    ttest_mortality[peak]={}\n",
    "    ttest_mortality[peak]['t'], ttest_mortality[peak]['p']=stats.ttest_ind(\n",
    "        df[df['Mortality']=='Yes'][peak],\n",
    "        df[df['Mortality']=='No'][peak])\n",
    "    ttest_mortality[peak]['Sequence']=list(dflc[dflc['MH+ [Da]']==mh]['Sequence'].values)[0]\n",
    "    ttest_mortality[peak]['Group']=list(dflc[dflc['MH+ [Da]']==mh]['Protein Group Accessions'].values)[0]\n",
    "    ttest_mortality[peak]['Modifications']=list(dflc[dflc['MH+ [Da]']==mh]['Modifications'].values)[0]\n",
    "    \n",
    "    ttest_transplantation[peak]={}\n",
    "    ttest_transplantation[peak]['t'], ttest_transplantation[peak]['p']=stats.ttest_ind(\n",
    "        df[df['Transplantation']=='Yes'][peak],\n",
    "        df[df['Transplantation']=='No'][peak])\n",
    "    ttest_transplantation[peak]['Sequence']=list(dflc[dflc['MH+ [Da]']==mh]['Sequence'].values)[0]\n",
    "    ttest_transplantation[peak]['Group']=list(dflc[dflc['MH+ [Da]']==mh]['Protein Group Accessions'].values)[0]\n",
    "    ttest_transplantation[peak]['Modifications']=list(dflc[dflc['MH+ [Da]']==mh]['Modifications'].values)[0]\n",
    "    \n",
    "    ttest_rm[peak]={}\n",
    "    ttest_rm[peak]['t'], ttest_rm[peak]['p']=stats.ttest_ind(\n",
    "        df[(df['Rehospitalization']=='Yes')|(df['Mortality']=='Yes')][peak],\n",
    "        df[(df['Rehospitalization']=='No')&(df['Mortality']=='No')][peak])\n",
    "    ttest_rm[peak]['Sequence']=list(dflc[dflc['MH+ [Da]']==mh]['Sequence'].values)[0]\n",
    "    ttest_rm[peak]['Group']=list(dflc[dflc['MH+ [Da]']==mh]['Protein Group Accessions'].values)[0]\n",
    "    ttest_rm[peak]['Modifications']=list(dflc[dflc['MH+ [Da]']==mh]['Modifications'].values)[0]\n",
    "    \n",
    "    ttest_rt[peak]={}\n",
    "    ttest_rt[peak]['t'], ttest_rt[peak]['p']=stats.ttest_ind(\n",
    "        df[(df['Rehospitalization']=='Yes')|(df['Transplantation']=='Yes')][peak],\n",
    "        df[(df['Rehospitalization']=='No')&(df['Transplantation']=='No')][peak])\n",
    "    ttest_rt[peak]['Sequence']=list(dflc[dflc['MH+ [Da]']==mh]['Sequence'].values)[0]\n",
    "    ttest_rt[peak]['Group']=list(dflc[dflc['MH+ [Da]']==mh]['Protein Group Accessions'].values)[0]\n",
    "    ttest_rt[peak]['Modifications']=list(dflc[dflc['MH+ [Da]']==mh]['Modifications'].values)[0]\n",
    "    \n",
    "    ttest_mt[peak]={}\n",
    "    ttest_mt[peak]['t'], ttest_mt[peak]['p']=stats.ttest_ind(\n",
    "        df[(df['Mortality']=='Yes')|(df['Transplantation']=='Yes')][peak],\n",
    "        df[(df['Mortality']=='No')&(df['Transplantation']=='No')][peak])\n",
    "    ttest_mt[peak]['Sequence']=list(dflc[dflc['MH+ [Da]']==mh]['Sequence'].values)[0]\n",
    "    ttest_mt[peak]['Group']=list(dflc[dflc['MH+ [Da]']==mh]['Protein Group Accessions'].values)[0]\n",
    "    ttest_mt[peak]['Modifications']=list(dflc[dflc['MH+ [Da]']==mh]['Modifications'].values)[0]\n",
    "    \n",
    "    ttest_triple[peak]={}\n",
    "    ttest_triple[peak]['t'], ttest_triple[peak]['p']=stats.ttest_ind(\n",
    "        df[(df['Rehospitalization']=='Yes')|(df['Mortality']=='Yes')|(df['Transplantation']=='Yes')][peak],\n",
    "        df[(df['Rehospitalization']=='No')&(df['Mortality']=='No')&(df['Transplantation']=='No')][peak])\n",
    "    ttest_triple[peak]['Sequence']=list(dflc[dflc['MH+ [Da]']==mh]['Sequence'].values)[0]\n",
    "    ttest_triple[peak]['Group']=list(dflc[dflc['MH+ [Da]']==mh]['Protein Group Accessions'].values)[0]\n",
    "    ttest_triple[peak]['Modifications']=list(dflc[dflc['MH+ [Da]']==mh]['Modifications'].values)[0]"
   ]
  },
  {
   "cell_type": "markdown",
   "metadata": {},
   "source": [
    "#Gather the t-test of the matched peaks\n",
    "- dfr: dataframe of **Rehospitalization**\n",
    "- dfm: dataframe of **Mortality**\n",
    "- dft: dataframe of **Transplantation**\n",
    "\n",
    "- dfrm: dataframe of **Rehospitalization** or **Mortality** (either one is positive)\n",
    "- dfrt: dataframe of **Rehospitalization** or **Transplantation**\n",
    "- dfmt: dataframe of **Mortality** or **Transplantation**"
   ]
  },
  {
   "cell_type": "code",
   "execution_count": null,
   "metadata": {
    "collapsed": true
   },
   "outputs": [],
   "source": [
    "dfr=pd.DataFrame(ttest_rehospitalization).T\n",
    "dfm=pd.DataFrame(ttest_mortality).T\n",
    "dft=pd.DataFrame(ttest_transplantation).T\n",
    "dftriple=pd.DataFrame(ttest_triple).T\n",
    "\n",
    "dfrm=pd.DataFrame(ttest_rm).T\n",
    "dfrt=pd.DataFrame(ttest_rt).T\n",
    "dfmt=pd.DataFrame(ttest_mt).T"
   ]
  },
  {
   "cell_type": "code",
   "execution_count": null,
   "metadata": {
    "collapsed": true
   },
   "outputs": [],
   "source": [
    "dfmatched=pd.DataFrame(matched_combo)"
   ]
  },
  {
   "cell_type": "markdown",
   "metadata": {},
   "source": [
    "#Merge the dataframes above together"
   ]
  },
  {
   "cell_type": "code",
   "execution_count": null,
   "metadata": {
    "collapsed": true
   },
   "outputs": [],
   "source": [
    "dfmerged=pd.concat([dfr, dfm, dft, dfrm, dfrt, dfmt, dftriple], axis=1,\n",
    "                   keys=['Rehospitalization', 'Mortility', 'Transplantation',\n",
    "                         'Rehospitalization + Mortality', 'Rehospitalization + Transplantation', 'Mortality + Transplantation',\n",
    "                         'Triple'])"
   ]
  },
  {
   "cell_type": "markdown",
   "metadata": {},
   "source": [
    "#Export the file"
   ]
  },
  {
   "cell_type": "code",
   "execution_count": null,
   "metadata": {
    "collapsed": true
   },
   "outputs": [],
   "source": [
    "dfmatched.to_csv('Matched Peaks.csv')\n",
    "dfmerged.to_csv('Ttest Results.csv')\n",
    "\n",
    "print('File Exported!')"
   ]
  }
 ],
 "metadata": {
  "kernelspec": {
   "display_name": "Python 3",
   "language": "python",
   "name": "python3"
  },
  "language_info": {
   "codemirror_mode": {
    "name": "ipython",
    "version": 3
   },
   "file_extension": ".py",
   "mimetype": "text/x-python",
   "name": "python",
   "nbconvert_exporter": "python",
   "pygments_lexer": "ipython3",
   "version": "3.4.3"
  }
 },
 "nbformat": 4,
 "nbformat_minor": 0
}
