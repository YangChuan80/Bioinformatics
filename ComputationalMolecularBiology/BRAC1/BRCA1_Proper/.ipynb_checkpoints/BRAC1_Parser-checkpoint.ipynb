{
 "cells": [
  {
   "cell_type": "markdown",
   "metadata": {},
   "source": [
    "#File Loading"
   ]
  },
  {
   "cell_type": "code",
   "execution_count": 15,
   "metadata": {
    "collapsed": true
   },
   "outputs": [],
   "source": [
    "import numpy as np\n",
    "import pandas as pd\n",
    "import codon\n",
    "%qtconsole"
   ]
  },
  {
   "cell_type": "code",
   "execution_count": 16,
   "metadata": {
    "collapsed": true
   },
   "outputs": [],
   "source": [
    "filename='plasmids.fasta'\n",
    "try:\n",
    "    f=open(filename)\n",
    "\n",
    "except IOError:\n",
    "    print('Cannot find this file!')"
   ]
  },
  {
   "cell_type": "markdown",
   "metadata": {},
   "source": [
    "#Extract the data\n",
    "Form the entire sequence into a dictionary"
   ]
  },
  {
   "cell_type": "code",
   "execution_count": 17,
   "metadata": {
    "collapsed": true
   },
   "outputs": [],
   "source": [
    "seq={}\n",
    "for line in f:\n",
    "    line=line.rstrip()\n",
    "\n",
    "    if line[0]=='>':\n",
    "        words=line.split()\n",
    "        name=words[0][1:]\n",
    "        seq[name]=''\n",
    "\n",
    "    else:\n",
    "        for i in range(10):\n",
    "            line=line.replace(str(i), '')\n",
    "        line=line.replace(' ', '').upper()\n",
    "        seq[name]=seq[name]+line\n",
    "f.close()"
   ]
  },
  {
   "cell_type": "markdown",
   "metadata": {},
   "source": [
    "#Extract ORF (Open Reading Frame)"
   ]
  },
  {
   "cell_type": "code",
   "execution_count": 21,
   "metadata": {
    "collapsed": true
   },
   "outputs": [],
   "source": [
    "k=list(seq.keys())\n",
    "\n",
    "longest=0\n",
    "shortest=100000000\n",
    "\n",
    "seq_orf={}\n",
    "for name, sequence in seq.items():\n",
    "    if longest<len(sequence):\n",
    "        longest=len(sequence)\n",
    "\n",
    "    if shortest>len(sequence):\n",
    "        shortest=len(sequence)\n",
    "\n",
    "    frame1=sequence[0:]\n",
    "    frame2=sequence[1:]\n",
    "    frame3=sequence[2:]\n",
    "\n",
    "    frame=frame3\n",
    "    frame_start=3\n",
    "    \n",
    "    #//////detect the ORF////////////////////////\n",
    "\n",
    "    judge=0\n",
    "    seq_orf[name]={}\n",
    "    start_judge=0\n",
    "    \n",
    "    for i in range(0, len(frame), 3):\n",
    "        if frame[i:i+3]=='ATG' and start_judge==0:\n",
    "            start=i\n",
    "            judge=1\n",
    "            start_judge=1\n",
    "          \n",
    "        if (frame[i:i+3]=='TAA' or frame[i:i+3]=='TAG' or frame[i:i+3]=='TGA') and judge==1:\n",
    "            end=i+3\n",
    "            seq_orf[name][str(start+frame_start)+':'+str(end+frame_start)]=frame[start:end]\n",
    "            \n",
    "            judge=0\n",
    "            start_judge=0"
   ]
  },
  {
   "cell_type": "code",
   "execution_count": 22,
   "metadata": {
    "collapsed": true
   },
   "outputs": [],
   "source": [
    "brac1=seq[k[0]]\n",
    "orf=seq_orf[k[0]]"
   ]
  },
  {
   "cell_type": "code",
   "execution_count": null,
   "metadata": {
    "collapsed": true
   },
   "outputs": [],
   "source": []
  }
 ],
 "metadata": {
  "kernelspec": {
   "display_name": "Python 3",
   "language": "python",
   "name": "python3"
  },
  "language_info": {
   "codemirror_mode": {
    "name": "ipython",
    "version": 3
   },
   "file_extension": ".py",
   "mimetype": "text/x-python",
   "name": "python",
   "nbconvert_exporter": "python",
   "pygments_lexer": "ipython3",
   "version": "3.4.3"
  }
 },
 "nbformat": 4,
 "nbformat_minor": 0
}
