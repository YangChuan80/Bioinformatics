{
 "cells": [
  {
   "cell_type": "code",
   "execution_count": null,
   "metadata": {
    "collapsed": true
   },
   "outputs": [],
   "source": [
    "import numpy as np\n",
    "import pandas as pd"
   ]
  },
  {
   "cell_type": "code",
   "execution_count": null,
   "metadata": {
    "collapsed": true
   },
   "outputs": [],
   "source": [
    "def loadFASTA(filename):\n",
    "    targets = {}\n",
    "    f = open(filename)\n",
    "    for line in f:\n",
    "        if line[0] == '>':\n",
    "            name = line[1:].rstrip()\n",
    "            targets[name] = ''\n",
    "        else:\n",
    "            targets[name] += line\n",
    "    return targets"
   ]
  },
  {
   "cell_type": "code",
   "execution_count": null,
   "metadata": {
    "collapsed": true
   },
   "outputs": [],
   "source": [
    "targets = loadFASTA('BRCA1_19_targets.fasta')"
   ]
  },
  {
   "cell_type": "code",
   "execution_count": null,
   "metadata": {
    "collapsed": true
   },
   "outputs": [],
   "source": [
    "brca1 = loadFASTA('BRCA1_CompleteCDS.fasta')"
   ]
  },
  {
   "cell_type": "code",
   "execution_count": 12,
   "metadata": {
    "collapsed": false
   },
   "outputs": [
    {
     "name": "stdout",
     "output_type": "stream",
     "text": [
      " Volume in drive C is System\n",
      " Volume Serial Number is F645-EAEE\n",
      "\n",
      " Directory of C:\\Users\\TMHCXY7\\Documents\\GitHub\\Bioinformatics\\ComputationalMolecularBiology\\BRAC1\\BRCA1_Targets\n",
      "\n",
      "09/18/2015  11:06 AM    <DIR>          .\n",
      "09/18/2015  11:06 AM    <DIR>          ..\n",
      "09/18/2015  10:44 AM    <DIR>          .ipynb_checkpoints\n",
      "09/18/2015  10:43 AM           117,927 BRCA1_19_targets.fasta\n",
      "09/18/2015  11:05 AM           120,745 BRCA1_CompleteCDS\n",
      "09/18/2015  11:06 AM             1,388 BRCA1_Targets_Parser.ipynb\n",
      "               3 File(s)        240,060 bytes\n",
      "               3 Dir(s)  161,407,758,336 bytes free\n"
     ]
    }
   ],
   "source": [
    "ls"
   ]
  },
  {
   "cell_type": "code",
   "execution_count": null,
   "metadata": {
    "collapsed": true
   },
   "outputs": [],
   "source": []
  }
 ],
 "metadata": {
  "kernelspec": {
   "display_name": "Python 3",
   "language": "python",
   "name": "python3"
  },
  "language_info": {
   "codemirror_mode": {
    "name": "ipython",
    "version": 3
   },
   "file_extension": ".py",
   "mimetype": "text/x-python",
   "name": "python",
   "nbconvert_exporter": "python",
   "pygments_lexer": "ipython3",
   "version": "3.4.3"
  }
 },
 "nbformat": 4,
 "nbformat_minor": 0
}
