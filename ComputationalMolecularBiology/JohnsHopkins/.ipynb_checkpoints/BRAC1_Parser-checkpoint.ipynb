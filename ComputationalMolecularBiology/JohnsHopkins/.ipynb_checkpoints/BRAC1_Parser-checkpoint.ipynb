{
 "cells": [
  {
   "cell_type": "markdown",
   "metadata": {},
   "source": [
    "#File Loading"
   ]
  },
  {
   "cell_type": "code",
   "execution_count": 7,
   "metadata": {
    "collapsed": true
   },
   "outputs": [],
   "source": [
    "%qtconsole"
   ]
  },
  {
   "cell_type": "code",
   "execution_count": 8,
   "metadata": {
    "collapsed": true
   },
   "outputs": [],
   "source": [
    "filename='BRAC1.fasta'\n",
    "try:\n",
    "    f=open(filename)\n",
    "\n",
    "except IOError:\n",
    "    print('Cannot find this file!')"
   ]
  },
  {
   "cell_type": "markdown",
   "metadata": {},
   "source": [
    "#Extract the data\n",
    "Form the entire sequence into a dictionary"
   ]
  },
  {
   "cell_type": "code",
   "execution_count": 9,
   "metadata": {
    "collapsed": true
   },
   "outputs": [],
   "source": [
    "seq={}\n",
    "for line in f:\n",
    "    line=line.rstrip()\n",
    "\n",
    "    if line[0]=='>':\n",
    "        words=line.split()\n",
    "        name=words[0][1:]\n",
    "        seq[name]=''\n",
    "\n",
    "    else:\n",
    "        seq[name]=seq[name]+line\n",
    "f.close()"
   ]
  },
  {
   "cell_type": "markdown",
   "metadata": {},
   "source": [
    "#Extract ORF (Open Reading Frame)"
   ]
  },
  {
   "cell_type": "code",
   "execution_count": 12,
   "metadata": {
    "collapsed": true
   },
   "outputs": [],
   "source": [
    "k=list(seq.keys())\n",
    "\n",
    "longest=0\n",
    "shortest=100000000\n",
    "\n",
    "seq_orf={}\n",
    "for name, sequence in seq.items():\n",
    "    if longest<len(sequence):\n",
    "        longest=len(sequence)\n",
    "\n",
    "    if shortest>len(sequence):\n",
    "        shortest=len(sequence)\n",
    "\n",
    "    frame1=sequence[0:]\n",
    "    frame2=sequence[1:]\n",
    "    frame3=sequence[2:]\n",
    "\n",
    "    frame=frame3\n",
    "    \n",
    "    #//////detect the ORF////////////////////////\n",
    "\n",
    "    judge=0\n",
    "    seq_orf[name]={}\n",
    "    start_judge=0\n",
    "    \n",
    "    for i in range(0, len(frame), 3):\n",
    "        if frame[i:i+3]=='ATG' and start_judge==0:\n",
    "            start=i\n",
    "            judge=1\n",
    "            start_judge=1\n",
    "          \n",
    "        if (frame[i:i+3]=='TAA' or frame[i:i+3]=='TAG' or frame[i:i+3]=='TGA') and judge==1:\n",
    "            end=i+3\n",
    "            seq_orf[name][str(start)+':'+str(end)]=frame[start:end]\n",
    "            \n",
    "            judge=0\n",
    "            start_judge=0"
   ]
  },
  {
   "cell_type": "code",
   "execution_count": null,
   "metadata": {
    "collapsed": true
   },
   "outputs": [],
   "source": [
    "longest_orf=0\n",
    "shortest_orf=100000000\n",
    "\n",
    "for name, orf_list in seq_orf.items():\n",
    "    for orf in orf_list:\n",
    "        if longest_orf<len(orf):\n",
    "            longest_orf=len(orf)\n",
    "            longest_name=name\n",
    "            longest_seq=orf\n",
    "\n",
    "        if shortest_orf>len(orf):\n",
    "            shortest_orf=len(orf)\n",
    "question_list=seq_orf['gi|142022655|gb|EQ086233.1|97']"
   ]
  },
  {
   "cell_type": "code",
   "execution_count": null,
   "metadata": {
    "collapsed": true
   },
   "outputs": [],
   "source": [
    "for l in question_list:\n",
    "    print('lenght is: ', len(l))\n",
    "\n",
    "\n",
    "\n",
    "print('Longest Sequence: ', longest)\n",
    "print('Shortest Sequence: ', shortest)\n",
    "print('Longest ORF: ', longest_orf)\n",
    "#print('Longest Reverse ORF: ', longest_reverse_orf)\n",
    "print('Longest ORF name: ', longest_name)\n",
    "\n",
    "print('Position of Longest ORF: ', seq[longest_name].find(longest_seq))\n",
    "\n",
    "#print('gi|142022655|gb|EQ086233.1|97: ', l)\n",
    "            \n",
    "seq_list=list(seq.values())\n",
    "\n",
    "print(len(seq_list))"
   ]
  },
  {
   "cell_type": "code",
   "execution_count": null,
   "metadata": {
    "collapsed": true
   },
   "outputs": [],
   "source": [
    "repeat_list=[]\n",
    "\n",
    "for seq in seq_list:\n",
    "    for i in range(len(seq)):\n",
    "        repeat=seq[i:i+12]\n",
    "        repeat_list.append(repeat)\n",
    "\n",
    "repeat_set=set(repeat_list)\n",
    "print(len(repeat_set))\n",
    "\n",
    "count_list=[]\n",
    "s_freq={}"
   ]
  },
  {
   "cell_type": "code",
   "execution_count": null,
   "metadata": {
    "collapsed": true
   },
   "outputs": [],
   "source": [
    "for s in list(repeat_set):\n",
    "    s_freq[s]=0\n",
    "    for seq in seq_list:\n",
    "        for i in range(len(seq)-12):\n",
    "            if s == seq[i:i+12]:\n",
    "                s_freq[s]+=1\n",
    "\n",
    "l=list(s_freq.values).sort()"
   ]
  }
 ],
 "metadata": {
  "kernelspec": {
   "display_name": "Python 3",
   "language": "python",
   "name": "python3"
  },
  "language_info": {
   "codemirror_mode": {
    "name": "ipython",
    "version": 3
   },
   "file_extension": ".py",
   "mimetype": "text/x-python",
   "name": "python",
   "nbconvert_exporter": "python",
   "pygments_lexer": "ipython3",
   "version": "3.4.3"
  }
 },
 "nbformat": 4,
 "nbformat_minor": 0
}
