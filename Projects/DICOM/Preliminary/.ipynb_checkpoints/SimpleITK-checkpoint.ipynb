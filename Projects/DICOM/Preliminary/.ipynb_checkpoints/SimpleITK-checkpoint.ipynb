{
 "cells": [
  {
   "cell_type": "code",
   "execution_count": 2,
   "metadata": {
    "collapsed": false
   },
   "outputs": [],
   "source": [
    "import SimpleITK as sitk"
   ]
  },
  {
   "cell_type": "code",
   "execution_count": 3,
   "metadata": {
    "collapsed": false
   },
   "outputs": [
    {
     "name": "stdout",
     "output_type": "stream",
     "text": [
      " Volume in drive D has no label.\n",
      " Volume Serial Number is A81E-D85C\n",
      "\n",
      " Directory of D:\\chuan\\documents\\github\\bioinformatics\\projects\\dicom\n",
      "\n",
      "02/01/2016  04:51 PM    <DIR>          .\n",
      "02/01/2016  04:51 PM    <DIR>          ..\n",
      "02/01/2016  04:51 PM    <DIR>          .ipynb_checkpoints\n",
      "06/28/2012  12:47 AM         7,499,726 0000000D\n",
      "02/01/2016  03:49 PM            34,287 AccuImage.dir\n",
      "02/01/2016  04:22 PM        25,590,716 BasicFunctions.ipynb\n",
      "04/16/2002  01:03 AM           491,520 mlv.exe\n",
      "02/01/2016  04:51 PM                78 SimpleITK.ipynb\n",
      "               5 File(s)     33,616,327 bytes\n",
      "               3 Dir(s)  124,210,274,304 bytes free\n"
     ]
    }
   ],
   "source": [
    "ls"
   ]
  },
  {
   "cell_type": "code",
   "execution_count": 4,
   "metadata": {
    "collapsed": true
   },
   "outputs": [],
   "source": [
    "ds = sitk.ReadImage('0000000D')"
   ]
  },
  {
   "cell_type": "code",
   "execution_count": 6,
   "metadata": {
    "collapsed": false,
    "scrolled": false
   },
   "outputs": [
    {
     "data": {
      "text/plain": [
       "['CopyInformation',\n",
       " 'GetDepth',\n",
       " 'GetDimension',\n",
       " 'GetDirection',\n",
       " 'GetHeight',\n",
       " 'GetITKBase',\n",
       " 'GetMetaData',\n",
       " 'GetMetaDataKeys',\n",
       " 'GetNumberOfComponentsPerPixel',\n",
       " 'GetOrigin',\n",
       " 'GetPixel',\n",
       " 'GetPixelAsComplexFloat64',\n",
       " 'GetPixelID',\n",
       " 'GetPixelIDTypeAsString',\n",
       " 'GetPixelIDValue',\n",
       " 'GetSize',\n",
       " 'GetSpacing',\n",
       " 'GetWidth',\n",
       " 'HasMetaDataKey',\n",
       " 'MakeUnique',\n",
       " 'SetDirection',\n",
       " 'SetOrigin',\n",
       " 'SetPixel',\n",
       " 'SetPixelAsComplexFloat64',\n",
       " 'SetSpacing',\n",
       " 'TransformContinuousIndexToPhysicalPoint',\n",
       " 'TransformIndexToPhysicalPoint',\n",
       " 'TransformPhysicalPointToContinuousIndex',\n",
       " 'TransformPhysicalPointToIndex',\n",
       " '__GetPixelAsComplexFloat32__',\n",
       " '__GetPixelAsDouble__',\n",
       " '__GetPixelAsFloat__',\n",
       " '__GetPixelAsInt16__',\n",
       " '__GetPixelAsInt32__',\n",
       " '__GetPixelAsInt64__',\n",
       " '__GetPixelAsInt8__',\n",
       " '__GetPixelAsUInt16__',\n",
       " '__GetPixelAsUInt32__',\n",
       " '__GetPixelAsUInt64__',\n",
       " '__GetPixelAsUInt8__',\n",
       " '__GetPixelAsVectorFloat32__',\n",
       " '__GetPixelAsVectorFloat64__',\n",
       " '__GetPixelAsVectorInt16__',\n",
       " '__GetPixelAsVectorInt32__',\n",
       " '__GetPixelAsVectorInt64__',\n",
       " '__GetPixelAsVectorInt8__',\n",
       " '__GetPixelAsVectorUInt16__',\n",
       " '__GetPixelAsVectorUInt32__',\n",
       " '__GetPixelAsVectorUInt64__',\n",
       " '__GetPixelAsVectorUInt8__',\n",
       " '__SetPixelAsComplexFloat32__',\n",
       " '__SetPixelAsDouble__',\n",
       " '__SetPixelAsFloat__',\n",
       " '__SetPixelAsInt16__',\n",
       " '__SetPixelAsInt32__',\n",
       " '__SetPixelAsInt64__',\n",
       " '__SetPixelAsInt8__',\n",
       " '__SetPixelAsUInt16__',\n",
       " '__SetPixelAsUInt32__',\n",
       " '__SetPixelAsUInt64__',\n",
       " '__SetPixelAsUInt8__',\n",
       " '__SetPixelAsVectorFloat32__',\n",
       " '__SetPixelAsVectorFloat64__',\n",
       " '__SetPixelAsVectorInt16__',\n",
       " '__SetPixelAsVectorInt32__',\n",
       " '__SetPixelAsVectorInt64__',\n",
       " '__SetPixelAsVectorInt8__',\n",
       " '__SetPixelAsVectorUInt16__',\n",
       " '__SetPixelAsVectorUInt32__',\n",
       " '__SetPixelAsVectorUInt64__',\n",
       " '__SetPixelAsVectorUInt8__',\n",
       " '__abs__',\n",
       " '__add__',\n",
       " '__and__',\n",
       " '__class__',\n",
       " '__del__',\n",
       " '__delattr__',\n",
       " '__dict__',\n",
       " '__dir__',\n",
       " '__div__',\n",
       " '__doc__',\n",
       " '__eq__',\n",
       " '__floordiv__',\n",
       " '__format__',\n",
       " '__ge__',\n",
       " '__getattr__',\n",
       " '__getattribute__',\n",
       " '__getitem__',\n",
       " '__gt__',\n",
       " '__hash__',\n",
       " '__iadd__',\n",
       " '__init__',\n",
       " '__invert__',\n",
       " '__iter__',\n",
       " '__le__',\n",
       " '__len__',\n",
       " '__lt__',\n",
       " '__mod__',\n",
       " '__module__',\n",
       " '__mul__',\n",
       " '__ne__',\n",
       " '__neg__',\n",
       " '__new__',\n",
       " '__or__',\n",
       " '__pos__',\n",
       " '__pow__',\n",
       " '__radd__',\n",
       " '__rand__',\n",
       " '__rdiv__',\n",
       " '__reduce__',\n",
       " '__reduce_ex__',\n",
       " '__repr__',\n",
       " '__rfloordiv__',\n",
       " '__rmul__',\n",
       " '__ror__',\n",
       " '__rpow__',\n",
       " '__rsub__',\n",
       " '__rtruediv__',\n",
       " '__rxor__',\n",
       " '__setattr__',\n",
       " '__setitem__',\n",
       " '__sizeof__',\n",
       " '__str__',\n",
       " '__sub__',\n",
       " '__subclasshook__',\n",
       " '__swig_destroy__',\n",
       " '__swig_getmethods__',\n",
       " '__swig_setmethods__',\n",
       " '__truediv__',\n",
       " '__weakref__',\n",
       " '__xor__',\n",
       " 'this']"
      ]
     },
     "execution_count": 6,
     "metadata": {},
     "output_type": "execute_result"
    }
   ],
   "source": [
    "dir(ds)"
   ]
  },
  {
   "cell_type": "code",
   "execution_count": 11,
   "metadata": {
    "collapsed": false
   },
   "outputs": [],
   "source": [
    "img = sitk.GetArrayFromImage(ds)"
   ]
  },
  {
   "cell_type": "code",
   "execution_count": 12,
   "metadata": {
    "collapsed": false
   },
   "outputs": [
    {
     "data": {
      "text/plain": [
       "(67, 512, 512)"
      ]
     },
     "execution_count": 12,
     "metadata": {},
     "output_type": "execute_result"
    }
   ],
   "source": [
    "img.shape"
   ]
  },
  {
   "cell_type": "code",
   "execution_count": 13,
   "metadata": {
    "collapsed": false
   },
   "outputs": [
    {
     "data": {
      "text/plain": [
       "array([[ 48,  47,  47, ...,  55,  55,  55],\n",
       "       [144, 143, 144, ..., 107, 107, 107],\n",
       "       [143, 144, 146, ..., 115, 114, 114],\n",
       "       ..., \n",
       "       [ 70,  69,  68, ...,  62,  62,  62],\n",
       "       [ 64,  64,  63, ...,  57,  56,  57],\n",
       "       [ 28,  28,  27, ...,  25,  25,  25]], dtype=uint8)"
      ]
     },
     "execution_count": 13,
     "metadata": {},
     "output_type": "execute_result"
    }
   ],
   "source": [
    "img[0]"
   ]
  },
  {
   "cell_type": "code",
   "execution_count": null,
   "metadata": {
    "collapsed": true
   },
   "outputs": [],
   "source": []
  }
 ],
 "metadata": {
  "kernelspec": {
   "display_name": "Python 3",
   "language": "python",
   "name": "python3"
  },
  "language_info": {
   "codemirror_mode": {
    "name": "ipython",
    "version": 3
   },
   "file_extension": ".py",
   "mimetype": "text/x-python",
   "name": "python",
   "nbconvert_exporter": "python",
   "pygments_lexer": "ipython3",
   "version": "3.4.3"
  }
 },
 "nbformat": 4,
 "nbformat_minor": 0
}
