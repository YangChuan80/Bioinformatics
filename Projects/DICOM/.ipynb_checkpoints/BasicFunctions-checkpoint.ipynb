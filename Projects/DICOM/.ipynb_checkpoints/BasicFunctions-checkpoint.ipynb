{
 "cells": [
  {
   "cell_type": "code",
   "execution_count": 2,
   "metadata": {
    "collapsed": false
   },
   "outputs": [],
   "source": [
    "import pydicom"
   ]
  },
  {
   "cell_type": "code",
   "execution_count": 3,
   "metadata": {
    "collapsed": true
   },
   "outputs": [],
   "source": [
    "ds = pydicom.read_file('0000000D')"
   ]
  },
  {
   "cell_type": "code",
   "execution_count": 4,
   "metadata": {
    "collapsed": false
   },
   "outputs": [
    {
     "data": {
      "text/plain": [
       "'dong^xin feng'"
      ]
     },
     "execution_count": 4,
     "metadata": {},
     "output_type": "execute_result"
    }
   ],
   "source": [
    "ds.PatientName"
   ]
  },
  {
   "cell_type": "code",
   "execution_count": 5,
   "metadata": {
    "collapsed": false,
    "scrolled": false
   },
   "outputs": [
    {
     "data": {
      "text/plain": [
       "['AccessionNumber',\n",
       " 'AcquisitionDate',\n",
       " 'AcquisitionTime',\n",
       " 'BitsAllocated',\n",
       " 'BitsStored',\n",
       " 'Columns',\n",
       " 'ContentDate',\n",
       " 'ContentTime',\n",
       " 'ContrastBolusAgent',\n",
       " 'ContrastBolusStartTime',\n",
       " 'DetectorPrimaryAngle',\n",
       " 'DetectorSecondaryAngle',\n",
       " 'DistanceSourceToDetector',\n",
       " 'DistanceSourceToPatient',\n",
       " 'EstimatedRadiographicMagnificationFactor',\n",
       " 'ExposureTime',\n",
       " 'FieldOfViewDimensions',\n",
       " 'FieldOfViewShape',\n",
       " 'FrameIncrementPointer',\n",
       " 'FrameNumbersOfInterest',\n",
       " 'FrameOfInterestDescription',\n",
       " 'FrameTimeVector',\n",
       " 'Grid',\n",
       " 'HighBit',\n",
       " 'ImageComments',\n",
       " 'ImageType',\n",
       " 'InstanceCreationDate',\n",
       " 'InstanceCreationTime',\n",
       " 'InstanceNumber',\n",
       " 'InstitutionAddress',\n",
       " 'InstitutionName',\n",
       " 'InstitutionalDepartmentName',\n",
       " 'KVP',\n",
       " 'Laterality',\n",
       " 'Manufacturer',\n",
       " 'Modality',\n",
       " 'NumberOfFrames',\n",
       " 'OperatorsName',\n",
       " 'PatientBirthDate',\n",
       " 'PatientID',\n",
       " 'PatientName',\n",
       " 'PatientOrientation',\n",
       " 'PatientSex',\n",
       " 'PatientSize',\n",
       " 'PatientWeight',\n",
       " 'PerformingPhysicianName',\n",
       " 'PhotometricInterpretation',\n",
       " 'PixelData',\n",
       " 'PixelIntensityRelationship',\n",
       " 'PixelRepresentation',\n",
       " 'PositionerMotion',\n",
       " 'PositionerPrimaryAngle',\n",
       " 'PositionerSecondaryAngle',\n",
       " 'RadiationMode',\n",
       " 'RadiationSetting',\n",
       " 'RecommendedDisplayFrameRate',\n",
       " 'ReferringPhysicianName',\n",
       " 'RepresentativeFrameNumber',\n",
       " 'Rows',\n",
       " 'SOPClassUID',\n",
       " 'SOPInstanceUID',\n",
       " 'SamplesPerPixel',\n",
       " 'SeriesDate',\n",
       " 'SeriesDescription',\n",
       " 'SeriesInstanceUID',\n",
       " 'SeriesNumber',\n",
       " 'SeriesTime',\n",
       " 'SoftwareVersions',\n",
       " 'SpecificCharacterSet',\n",
       " 'StationName',\n",
       " 'StudyDate',\n",
       " 'StudyDescription',\n",
       " 'StudyID',\n",
       " 'StudyInstanceUID',\n",
       " 'StudyTime',\n",
       " 'WindowCenter',\n",
       " 'WindowWidth',\n",
       " 'XRayTubeCurrent',\n",
       " '__contains__',\n",
       " '__delattr__',\n",
       " '__delitem__',\n",
       " '__dir__',\n",
       " '__enter__',\n",
       " '__eq__',\n",
       " '__exit__',\n",
       " '__format__',\n",
       " '__ge__',\n",
       " '__getattr__',\n",
       " '__getattribute__',\n",
       " '__getitem__',\n",
       " '__gt__',\n",
       " '__init__',\n",
       " '__iter__',\n",
       " '__le__',\n",
       " '__len__',\n",
       " '__lt__',\n",
       " '__ne__',\n",
       " '__new__',\n",
       " '__reduce__',\n",
       " '__reduce_ex__',\n",
       " '__repr__',\n",
       " '__setattr__',\n",
       " '__setitem__',\n",
       " '__sizeof__',\n",
       " '__str__',\n",
       " '__subclasshook__',\n",
       " '__weakref__',\n",
       " '_character_set',\n",
       " '_get_pixel_array',\n",
       " '_is_uncompressed_transfer_syntax',\n",
       " '_pixel_data_numpy',\n",
       " '_pretty_str',\n",
       " 'add',\n",
       " 'add_new',\n",
       " 'clear',\n",
       " 'copy',\n",
       " 'data_element',\n",
       " 'decode',\n",
       " 'dir',\n",
       " 'formatted_lines',\n",
       " 'fromkeys',\n",
       " 'get',\n",
       " 'get_item',\n",
       " 'group_dataset',\n",
       " 'items',\n",
       " 'iterall',\n",
       " 'keys',\n",
       " 'pixel_array',\n",
       " 'pop',\n",
       " 'popitem',\n",
       " 'remove_private_tags',\n",
       " 'save_as',\n",
       " 'setdefault',\n",
       " 'top',\n",
       " 'trait_names',\n",
       " 'update',\n",
       " 'values',\n",
       " 'walk']"
      ]
     },
     "execution_count": 5,
     "metadata": {},
     "output_type": "execute_result"
    }
   ],
   "source": [
    "dir(ds)"
   ]
  },
  {
   "cell_type": "code",
   "execution_count": 6,
   "metadata": {
    "collapsed": false
   },
   "outputs": [
    {
     "data": {
      "text/plain": [
       "'223656'"
      ]
     },
     "execution_count": 6,
     "metadata": {},
     "output_type": "execute_result"
    }
   ],
   "source": [
    "ds.StudyTime"
   ]
  },
  {
   "cell_type": "code",
   "execution_count": 7,
   "metadata": {
    "collapsed": false
   },
   "outputs": [
    {
     "data": {
      "text/plain": [
       "'NO.2 Hospital of CMU'"
      ]
     },
     "execution_count": 7,
     "metadata": {},
     "output_type": "execute_result"
    }
   ],
   "source": [
    "ds.InstitutionName"
   ]
  },
  {
   "cell_type": "code",
   "execution_count": 8,
   "metadata": {
    "collapsed": false
   },
   "outputs": [
    {
     "data": {
      "text/plain": [
       "'230922.060'"
      ]
     },
     "execution_count": 8,
     "metadata": {},
     "output_type": "execute_result"
    }
   ],
   "source": [
    "ds.AcquisitionTime"
   ]
  },
  {
   "cell_type": "code",
   "execution_count": 10,
   "metadata": {
    "collapsed": false
   },
   "outputs": [
    {
     "data": {
      "text/plain": [
       "512"
      ]
     },
     "execution_count": 10,
     "metadata": {},
     "output_type": "execute_result"
    }
   ],
   "source": [
    "ds.Rows"
   ]
  },
  {
   "cell_type": "code",
   "execution_count": 12,
   "metadata": {
    "collapsed": false
   },
   "outputs": [
    {
     "data": {
      "text/plain": [
       "'8'"
      ]
     },
     "execution_count": 12,
     "metadata": {},
     "output_type": "execute_result"
    }
   ],
   "source": [
    "ds.ExposureTime"
   ]
  },
  {
   "cell_type": "code",
   "execution_count": 13,
   "metadata": {
    "collapsed": false
   },
   "outputs": [
    {
     "data": {
      "text/plain": [
       "[]"
      ]
     },
     "execution_count": 13,
     "metadata": {},
     "output_type": "execute_result"
    }
   ],
   "source": [
    "ds.FrameNumbersOfInterest"
   ]
  },
  {
   "cell_type": "code",
   "execution_count": 14,
   "metadata": {
    "collapsed": false
   },
   "outputs": [
    {
     "data": {
      "text/plain": [
       "(0018, 1065)"
      ]
     },
     "execution_count": 14,
     "metadata": {},
     "output_type": "execute_result"
    }
   ],
   "source": [
    "ds.FrameIncrementPointer"
   ]
  },
  {
   "cell_type": "code",
   "execution_count": 15,
   "metadata": {
    "collapsed": false
   },
   "outputs": [
    {
     "data": {
      "text/plain": [
       "''"
      ]
     },
     "execution_count": 15,
     "metadata": {},
     "output_type": "execute_result"
    }
   ],
   "source": [
    "ds.FrameOfInterestDescription"
   ]
  },
  {
   "cell_type": "code",
   "execution_count": 22,
   "metadata": {
    "collapsed": false
   },
   "outputs": [
    {
     "data": {
      "text/plain": [
       "67"
      ]
     },
     "execution_count": 22,
     "metadata": {},
     "output_type": "execute_result"
    }
   ],
   "source": [
    "len(ds.FrameTimeVector)"
   ]
  },
  {
   "cell_type": "code",
   "execution_count": 21,
   "metadata": {
    "collapsed": false
   },
   "outputs": [
    {
     "data": {
      "text/plain": [
       "<function FileDataset.values>"
      ]
     },
     "execution_count": 21,
     "metadata": {},
     "output_type": "execute_result"
    }
   ],
   "source": [
    "ds.values"
   ]
  },
  {
   "cell_type": "code",
   "execution_count": 23,
   "metadata": {
    "collapsed": true
   },
   "outputs": [],
   "source": [
    "import pylab"
   ]
  },
  {
   "cell_type": "code",
   "execution_count": 38,
   "metadata": {
    "collapsed": false
   },
   "outputs": [
    {
     "data": {
      "text/plain": [
       "<bound method FileDataset.data_element of (0008, 0005) Specific Character Set              CS: 'ISO_IR 100'\n",
       "(0008, 0008) Image Type                          CS: ['ORIGINAL', 'PRIMARY', 'SINGLE PLANE']\n",
       "(0008, 0012) Instance Creation Date              DA: '20120530'\n",
       "(0008, 0013) Instance Creation Time              TM: '230929'\n",
       "(0008, 0016) SOP Class UID                       UI: X-Ray Angiographic Image Storage\n",
       "(0008, 0018) SOP Instance UID                    UI: 1.2.392.200036.9110.13.161078410101.20120530.223656.1.13\n",
       "(0008, 0020) Study Date                          DA: '20120530'\n",
       "(0008, 0021) Series Date                         DA: '20120530'\n",
       "(0008, 0022) Acquisition Date                    DA: '20120530'\n",
       "(0008, 0023) Content Date                        DA: '20120530'\n",
       "(0008, 0030) Study Time                          TM: '223656'\n",
       "(0008, 0031) Series Time                         TM: '223656'\n",
       "(0008, 0032) Acquisition Time                    TM: '230922.060'\n",
       "(0008, 0033) Content Time                        TM: '230929'\n",
       "(0008, 0050) Accession Number                    SH: ''\n",
       "(0008, 0060) Modality                            CS: 'XA'\n",
       "(0008, 0070) Manufacturer                        LO: 'Shimadzu'\n",
       "(0008, 0080) Institution Name                    LO: 'NO.2 Hospital of CMU'\n",
       "(0008, 0081) Institution Address                 ST: ''\n",
       "(0008, 0090) Referring Physician's Name          PN: ''\n",
       "(0008, 1010) Station Name                        SH: 'DAR9400REV-01'\n",
       "(0008, 1030) Study Description                   LO: ''\n",
       "(0008, 103e) Series Description                  LO: 'CINE JPEG LOSSLESS'\n",
       "(0008, 1040) Institutional Department Name       LO: ''\n",
       "(0008, 1050) Performing Physician's Name         PN: ''\n",
       "(0008, 1070) Operators' Name                     PN: ''\n",
       "(0008, 2144) Recommended Display Frame Rate      IS: '15'\n",
       "(0010, 0010) Patient's Name                      PN: 'dong^xin feng'\n",
       "(0010, 0020) Patient ID                          LO: 'DSA104869'\n",
       "(0010, 0030) Patient's Birth Date                DA: ''\n",
       "(0010, 0040) Patient's Sex                       CS: 'M'\n",
       "(0010, 1020) Patient's Size                      DS: ''\n",
       "(0010, 1030) Patient's Weight                    DS: ''\n",
       "(0018, 0010) Contrast/Bolus Agent                LO: ''\n",
       "(0018, 0060) KVP                                 DS: \"83.00\"\n",
       "(0018, 1020) Software Version(s)                 LO: 'Voyager V2.5.13 (13)'\n",
       "(0018, 1042) Contrast/Bolus Start Time           TM: '230922.060'\n",
       "(0018, 1065) Frame Time Vector                   DS: ['0.00', '66.00', '67.00', '67.00', '66.00', '67.00', '67.00', '66.00', '67.00', '67.00', '66.00', '67.00', '67.00', '66.00', '67.00', '67.00', '66.00', '67.00', '67.00', '66.00', '67.00', '67.00', '66.00', '67.00', '67.00', '66.00', '67.00', '67.00', '66.00', '67.00', '67.00', '66.00', '67.00', '67.00', '66.00', '67.00', '67.00', '66.00', '67.00', '67.00', '66.00', '67.00', '67.00', '66.00', '67.00', '67.00', '66.00', '67.00', '67.00', '66.00', '67.00', '67.00', '66.00', '67.00', '67.00', '66.00', '67.00', '67.00', '66.00', '67.00', '67.00', '66.00', '67.00', '67.00', '66.00', '67.00', '67.00']\n",
       "(0018, 1110) Distance Source to Detector         DS: \"982\"\n",
       "(0018, 1111) Distance Source to Patient          DS: \"727.41\"\n",
       "(0018, 1114) Estimated Radiographic Magnificatio DS: \"1.35\"\n",
       "(0018, 1147) Field of View Shape                 CS: 'RECTANGLE'\n",
       "(0018, 1149) Field of View Dimension(s)          IS: ['152', '152']\n",
       "(0018, 1150) Exposure Time                       IS: '8'\n",
       "(0018, 1151) X-Ray Tube Current                  IS: '749'\n",
       "(0018, 1155) Radiation Setting                   CS: 'GR'\n",
       "(0018, 115a) Radiation Mode                      CS: 'PULSED'\n",
       "(0018, 1166) Grid                                CS: 'IN'\n",
       "(0018, 1500) Positioner Motion                   CS: 'STATIC'\n",
       "(0018, 1510) Positioner Primary Angle            DS: \"44\"\n",
       "(0018, 1511) Positioner Secondary Angle          DS: \"-3\"\n",
       "(0018, 1530) Detector Primary Angle              DS: \"0.00\"\n",
       "(0018, 1531) Detector Secondary Angle            DS: \"0.00\"\n",
       "(0020, 000d) Study Instance UID                  UI: 1.2.392.200036.9110.13.161078410101.20120530.223656\n",
       "(0020, 000e) Series Instance UID                 UI: 1.2.392.200036.9110.13.161078410101.20120530.223656.1\n",
       "(0020, 0010) Study ID                            SH: ''\n",
       "(0020, 0011) Series Number                       IS: '1'\n",
       "(0020, 0013) Instance Number                     IS: '13'\n",
       "(0020, 0020) Patient Orientation                 CS: ''\n",
       "(0020, 0060) Laterality                          CS: ''\n",
       "(0020, 4000) Image Comments                      LT: ''\n",
       "(0028, 0002) Samples per Pixel                   US: 1\n",
       "(0028, 0004) Photometric Interpretation          CS: 'MONOCHROME2'\n",
       "(0028, 0008) Number of Frames                    IS: '67'\n",
       "(0028, 0009) Frame Increment Pointer             AT: (0018, 1065)\n",
       "(0028, 0010) Rows                                US: 512\n",
       "(0028, 0011) Columns                             US: 512\n",
       "(0028, 0100) Bits Allocated                      US: 8\n",
       "(0028, 0101) Bits Stored                         US: 8\n",
       "(0028, 0102) High Bit                            US: 7\n",
       "(0028, 0103) Pixel Representation                US: 0\n",
       "(0028, 1040) Pixel Intensity Relationship        CS: 'LIN'\n",
       "(0028, 1050) Window Center                       DS: \"119\"\n",
       "(0028, 1051) Window Width                        DS: \"91\"\n",
       "(0028, 6010) Representative Frame Number         US: 22\n",
       "(0028, 6020) Frame Numbers of Interest (FOI)     US: []\n",
       "(0028, 6022) Frame of Interest Description       LO: ''\n",
       "(0029, 0015) Private Creator                     LO: 'Shimadzu'\n",
       "(0029, 1501) Private tag data                    DS: \"0\"\n",
       "(0029, 1502) Private tag data                    IS: '9'\n",
       "(0029, 1509) Private tag data                    LO: 'Rad_Cardio_CAG[15f-10s]'\n",
       "(7fe0, 0010) Pixel Data                          OB: Array of 7497868 bytes>"
      ]
     },
     "execution_count": 38,
     "metadata": {},
     "output_type": "execute_result"
    }
   ],
   "source": [
    "ds.data_element"
   ]
  },
  {
   "cell_type": "code",
   "execution_count": null,
   "metadata": {
    "collapsed": true
   },
   "outputs": [],
   "source": [
    "ds"
   ]
  }
 ],
 "metadata": {
  "kernelspec": {
   "display_name": "Python 3",
   "language": "python",
   "name": "python3"
  },
  "language_info": {
   "codemirror_mode": {
    "name": "ipython",
    "version": 3
   },
   "file_extension": ".py",
   "mimetype": "text/x-python",
   "name": "python",
   "nbconvert_exporter": "python",
   "pygments_lexer": "ipython3",
   "version": "3.4.3"
  }
 },
 "nbformat": 4,
 "nbformat_minor": 0
}
