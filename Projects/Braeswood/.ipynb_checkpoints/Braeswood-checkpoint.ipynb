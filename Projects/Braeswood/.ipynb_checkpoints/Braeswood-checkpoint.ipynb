{
 "cells": [
  {
   "cell_type": "code",
   "execution_count": 20,
   "metadata": {
    "collapsed": true
   },
   "outputs": [],
   "source": [
    "import tkinter as tk\n",
    "from tkinter import ttk\n",
    "from tkinter import filedialog\n",
    "from tkinter import messagebox\n",
    "import tkinter.font as tkf\n",
    "import sqlite3\n",
    "import datetime\n",
    "\n",
    "from libvin.decoding import Vin"
   ]
  },
  {
   "cell_type": "markdown",
   "metadata": {},
   "source": [
    "# DB Connection"
   ]
  },
  {
   "cell_type": "code",
   "execution_count": 21,
   "metadata": {
    "collapsed": true
   },
   "outputs": [],
   "source": [
    "DB_file = 'BraeswoodDB.sqlite'\n",
    "conn = sqlite3.connect(DB_file)\n",
    "cur = conn.cursor()"
   ]
  },
  {
   "cell_type": "code",
   "execution_count": 22,
   "metadata": {
    "collapsed": false
   },
   "outputs": [],
   "source": [
    "sqlstr = 'SELECT * FROM congenital'\n",
    "\n",
    "spreadsheet = cur.execute(sqlstr)\n",
    "\n",
    "headers_db = []\n",
    "\n",
    "for unit in spreadsheet.description:\n",
    "    headers_db.append(unit[0])\n",
    "\n",
    "combination = []\n",
    "\n",
    "for row_tuple in spreadsheet:\n",
    "    combination.append(row_tuple)"
   ]
  },
  {
   "cell_type": "markdown",
   "metadata": {},
   "source": [
    "## Tabulate Functions"
   ]
  },
  {
   "cell_type": "code",
   "execution_count": 23,
   "metadata": {
    "collapsed": true
   },
   "outputs": [],
   "source": [
    "def ExtractID(iden): \n",
    "    sqlstr = 'SELECT * FROM VIN WHERE congenital.id = ?'\n",
    "    cur.execute(sqlstr, (iden,))\n",
    "    rowSelected = cur.fetchone()\n",
    "   \n",
    "    item = {}    \n",
    "    for i in range(len(rowSelected)):\n",
    "        item[headers_db[i]] = rowSelected[i]\n",
    "   \n",
    "    display_in_text(item)"
   ]
  },
  {
   "cell_type": "code",
   "execution_count": 24,
   "metadata": {
    "collapsed": true
   },
   "outputs": [],
   "source": [
    "def OnDoubleClick(event):\n",
    "    global idglb\n",
    "    try:\n",
    "        item = table.selection()[0]\n",
    "        value = table.item(item, 'values')    \n",
    "        iden = value[0]\n",
    "        ExtractID(iden)     \n",
    "        idglb = iden\n",
    "        \n",
    "    except:\n",
    "        pass"
   ]
  },
  {
   "cell_type": "code",
   "execution_count": 25,
   "metadata": {
    "collapsed": true
   },
   "outputs": [],
   "source": [
    "def sortby(tree, col, descending):\n",
    "    \"\"\"sort tree contents when a column header is clicked on\"\"\"\n",
    "    # grab values to sort\n",
    "    data = [(tree.set(child, col), child) for child in tree.get_children('')]\n",
    "    # if the data to be sorted is numeric change to float\n",
    "    #data =  change_numeric(data)\n",
    "    # now sort the data in place\n",
    "    data.sort(reverse=descending)\n",
    "    for ix, item in enumerate(data):\n",
    "        tree.move(item[1], '', ix)\n",
    "    # switch the heading so it will sort in the opposite direction\n",
    "    tree.heading(col, command=lambda col=col: sortby(tree, col, int(not descending)))"
   ]
  },
  {
   "cell_type": "code",
   "execution_count": 26,
   "metadata": {
    "collapsed": true
   },
   "outputs": [],
   "source": [
    "def refreshDB():\n",
    "    global conn, cur, desc, headers, combination\n",
    "    conn.close()\n",
    "    conn = sqlite3.connect(DB_file)\n",
    "    cur = conn.cursor()\n",
    "\n",
    "    cur.execute('SELECT * FROM congenital')\n",
    "    \n",
    "    sqlstr = 'SELECT * FROM congenital ORDER BY congenital.id'\n",
    "    \n",
    "    spreadsheet = cur.execute(sqlstr)\n",
    "\n",
    "    combination = []\n",
    "    \n",
    "    for row_tuple in spreadsheet:\n",
    "        combination.append(list(row_tuple[:6]) + list(row_tuple[6]) + list(row_tuple[7:]))"
   ]
  },
  {
   "cell_type": "code",
   "execution_count": 27,
   "metadata": {
    "collapsed": true
   },
   "outputs": [],
   "source": [
    "def display_in_text():\n",
    "    pass"
   ]
  },
  {
   "cell_type": "code",
   "execution_count": 28,
   "metadata": {
    "collapsed": true
   },
   "outputs": [],
   "source": [
    "def display_in_table(combination):\n",
    "    for row in combination:\n",
    "        table.insert(\"\", \"end\", \"\", values=row)\n",
    "    num = str(len(combination))\n",
    "    text_num.delete('1.0', tk.END)\n",
    "    text_num.insert('1.0', num)"
   ]
  },
  {
   "cell_type": "markdown",
   "metadata": {},
   "source": [
    "# Main Sream"
   ]
  },
  {
   "cell_type": "code",
   "execution_count": 29,
   "metadata": {
    "collapsed": false
   },
   "outputs": [
    {
     "data": {
      "text/plain": [
       "''"
      ]
     },
     "execution_count": 29,
     "metadata": {},
     "output_type": "execute_result"
    }
   ],
   "source": [
    "root = tk.Tk()\n",
    "root.geometry(\"{0}x{1}+0+0\".format(root.winfo_screenwidth(), root.winfo_screenheight()))\n",
    "#root.attributes('-fullscreen', True)\n",
    "root.title('Braeswood')\n",
    "#root.iconbitmap('GessnerIcon.ico')"
   ]
  },
  {
   "cell_type": "markdown",
   "metadata": {},
   "source": [
    "## Table Control"
   ]
  },
  {
   "cell_type": "code",
   "execution_count": 30,
   "metadata": {
    "collapsed": true
   },
   "outputs": [],
   "source": [
    "headers = ['id', 'PatientID', 'Name', 'NameCN', 'Initial', 'Gender',\n",
    "           'CitizenID', 'Race', 'OperationDate', 'Operator', 'Assistant', \n",
    "           'DiagnosisPre', 'DiagnosisPost', 'Murmur', 'ECG', 'X-Ray', \n",
    "           'Echo', 'Occluder', 'OccluderBrand', 'OccluderSize', 'Instruments', \n",
    "           'ComplicationPost', 'Recorder', 'Telephone', 'Comments']\n",
    "header_widths = [10, 80, 80, 50, 30, 100,\n",
    "                 20, 20, 50, 20, 20, \n",
    "                 20, 20, 20, 50, 20, \n",
    "                 20, 20, 20, 20, 20, \n",
    "                 20, 20, 40, 40]"
   ]
  },
  {
   "cell_type": "code",
   "execution_count": 31,
   "metadata": {
    "collapsed": true
   },
   "outputs": [],
   "source": [
    "# /////////////////Multicolumn Listbox//////////////////////////////////////////////\n",
    "# ipadx and ipady are diameters.\n",
    "\n",
    "table = ttk.Treeview(root, height=\"20\", columns=headers, selectmode=\"extended\")\n",
    "table.pack(padx=10, pady=20, ipadx=1200, ipady=185)\n",
    "\n",
    "i = 1\n",
    "for header in headers:\n",
    "    table.heading('#'+str(i), text=header.title(), anchor=tk.W, command=lambda c=header: sortby(table, c, 0))\n",
    "    table.column('#'+str(i), stretch=tk.NO, minwidth=0, width=tkf.Font().measure(header.title())+header_widths[i-1])\n",
    "    i+=1    \n",
    "table.column('#0', stretch=tk.NO, minwidth=0, width=0)\n",
    "\n",
    "table.bind(\"<Double-1>\", OnDoubleClick)\n",
    "#///////////////////////////////////////////////////////////////////////////////////////////\n",
    "\n",
    "# Scrollbar////////////////////////////////////////////////////////////////////////////////////////\n",
    "vsb = ttk.Scrollbar(table, orient = \"vertical\",  command = table.yview)\n",
    "hsb = ttk.Scrollbar(table, orient = \"horizontal\", command = table.xview)\n",
    "## Link scrollbars activation to top-level object\n",
    "table.configure(yscrollcommand = vsb.set, xscrollcommand = hsb.set)\n",
    "## Link scrollbar also to every columns\n",
    "map(lambda col: col.configure(yscrollcommand = vsb.set, xscrollcommand = hsb.set), table)\n",
    "vsb.pack(side = tk.RIGHT, fill = tk.Y)\n",
    "hsb.pack(side = tk.BOTTOM, fill = tk.X) "
   ]
  },
  {
   "cell_type": "markdown",
   "metadata": {},
   "source": [
    "## Other Controls"
   ]
  },
  {
   "cell_type": "code",
   "execution_count": null,
   "metadata": {
    "collapsed": true
   },
   "outputs": [],
   "source": []
  },
  {
   "cell_type": "code",
   "execution_count": 32,
   "metadata": {
    "collapsed": true
   },
   "outputs": [],
   "source": [
    "root.mainloop()"
   ]
  },
  {
   "cell_type": "code",
   "execution_count": 33,
   "metadata": {
    "collapsed": true
   },
   "outputs": [],
   "source": [
    "conn.close()"
   ]
  }
 ],
 "metadata": {
  "kernelspec": {
   "display_name": "Python [default]",
   "language": "python",
   "name": "python3"
  },
  "language_info": {
   "codemirror_mode": {
    "name": "ipython",
    "version": 3
   },
   "file_extension": ".py",
   "mimetype": "text/x-python",
   "name": "python",
   "nbconvert_exporter": "python",
   "pygments_lexer": "ipython3",
   "version": "3.5.2"
  }
 },
 "nbformat": 4,
 "nbformat_minor": 1
}
