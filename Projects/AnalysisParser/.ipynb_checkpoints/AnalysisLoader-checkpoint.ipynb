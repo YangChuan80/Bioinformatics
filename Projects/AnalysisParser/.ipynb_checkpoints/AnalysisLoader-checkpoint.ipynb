{
 "cells": [
  {
   "cell_type": "markdown",
   "metadata": {},
   "source": [
    "# AnalysisParser"
   ]
  },
  {
   "cell_type": "code",
   "execution_count": 1,
   "metadata": {
    "collapsed": true
   },
   "outputs": [],
   "source": [
    "import numpy as np\n",
    "import pandas as pd\n",
    "import sqlite3"
   ]
  },
  {
   "cell_type": "markdown",
   "metadata": {},
   "source": [
    "## Connect to .Analysis File"
   ]
  },
  {
   "cell_type": "code",
   "execution_count": 2,
   "metadata": {
    "collapsed": true
   },
   "outputs": [],
   "source": [
    "df = pd.read_csv('raw.csv')\n",
    "\n",
    "columns_raw = list(df.columns)\n",
    "columns = [column.split('=')[0] for column in columns_raw]"
   ]
  },
  {
   "cell_type": "code",
   "execution_count": 3,
   "metadata": {
    "collapsed": false
   },
   "outputs": [],
   "source": [
    "patientid = columns[4]\n",
    "columns[4] = 'Reads'\n",
    "columns[:0] = ['GeneID', 'PatientID']"
   ]
  },
  {
   "cell_type": "code",
   "execution_count": 4,
   "metadata": {
    "collapsed": true
   },
   "outputs": [],
   "source": [
    "column_types = [column+' TEXT,' for column in columns]"
   ]
  },
  {
   "cell_type": "code",
   "execution_count": 5,
   "metadata": {
    "collapsed": true
   },
   "outputs": [],
   "source": [
    "column_types[0] = column_types[0][:-5]+'INTEGER NOT NULL PRIMARY KEY AUTOINCREMENT UNIQUE,'"
   ]
  },
  {
   "cell_type": "code",
   "execution_count": 7,
   "metadata": {
    "collapsed": true
   },
   "outputs": [],
   "source": [
    "column_types[3] = column_types[3][:-5]+'INTEGER,'\n",
    "column_types[8] = column_types[8][:-5]+'NUMBER,'\n",
    "column_types[9] = column_types[9][:-5]+'NUMBER,'\n",
    "column_types[10] = column_types[10][:-5]+'NUMBER,'\n",
    "column_types[26] = column_types[26][:-5]+'NUMBER,'\n",
    "column_types[27] = column_types[27][:-5]+'NUMBER,'\n",
    "column_types[39] = column_types[39][:-5]+'NUMBER,'\n",
    "column_types[41] = column_types[41][:-5]+'NUMBER,'\n",
    "column_types[42] = column_types[42][:-5]+'NUMBER,'\n",
    "column_types[43] = column_types[43][:-5]+'NUMBER,'\n",
    "column_types[44] = column_types[44][:-5]+'NUMBER,'\n",
    "column_types[45] = column_types[45][:-5]+'NUMBER,'"
   ]
  },
  {
   "cell_type": "code",
   "execution_count": 8,
   "metadata": {
    "collapsed": true
   },
   "outputs": [],
   "source": [
    "body = ' '.join(column_types)"
   ]
  },
  {
   "cell_type": "code",
   "execution_count": 10,
   "metadata": {
    "collapsed": true
   },
   "outputs": [],
   "source": [
    "body_cleaned = ''\n",
    "i = 0\n",
    "for l in body:\n",
    "    if l == '-':\n",
    "        i = 1\n",
    "        continue\n",
    "    elif l == '.':\n",
    "        body_cleaned +='__'\n",
    "    elif l == '#':\n",
    "        body_cleaned +=''\n",
    "    elif l == '+':\n",
    "        body_cleaned +=''\n",
    "    elif i == 1:\n",
    "        body_cleaned += l.upper()\n",
    "        i = 0\n",
    "    else:\n",
    "        body_cleaned += l        "
   ]
  },
  {
   "cell_type": "code",
   "execution_count": 11,
   "metadata": {
    "collapsed": false
   },
   "outputs": [],
   "source": [
    "body_cleaned = body_cleaned[:-1]\n",
    "create_command = 'CREATE TABLE ' + patientid + '(' + body_cleaned + ')'"
   ]
  },
  {
   "cell_type": "code",
   "execution_count": null,
   "metadata": {
    "collapsed": true
   },
   "outputs": [],
   "source": [
    "columns_withoutid = columns[1:]\n",
    "columns_joined = ', '.join(columns_withoutid)"
   ]
  },
  {
   "cell_type": "code",
   "execution_count": 13,
   "metadata": {
    "collapsed": true
   },
   "outputs": [],
   "source": [
    "headers_cleaned = ''\n",
    "i = 0\n",
    "for l in columns_joined:\n",
    "    if l == '-':\n",
    "        i = 1\n",
    "        continue\n",
    "    elif l == '.':\n",
    "        headers_cleaned +='__'\n",
    "    elif l == '#':\n",
    "        headers_cleaned +=''\n",
    "    elif l == '+':\n",
    "        headers_cleaned +=''\n",
    "    elif i == 1:\n",
    "        headers_cleaned += l.upper()\n",
    "        i = 0\n",
    "    else:\n",
    "        headers_cleaned += l        "
   ]
  },
  {
   "cell_type": "markdown",
   "metadata": {},
   "source": [
    "## Connect to DB"
   ]
  },
  {
   "cell_type": "code",
   "execution_count": 15,
   "metadata": {
    "collapsed": true
   },
   "outputs": [],
   "source": [
    "conn = sqlite3.connect('AnalysisDB.sqlite')\n",
    "curr = conn.cursor()"
   ]
  },
  {
   "cell_type": "code",
   "execution_count": 16,
   "metadata": {
    "collapsed": false
   },
   "outputs": [
    {
     "data": {
      "text/plain": [
       "<sqlite3.Cursor at 0x7c5c3b0>"
      ]
     },
     "execution_count": 16,
     "metadata": {},
     "output_type": "execute_result"
    }
   ],
   "source": [
    "curr.execute('DROP TABLE IF EXISTS '+patientid)"
   ]
  },
  {
   "cell_type": "code",
   "execution_count": 17,
   "metadata": {
    "collapsed": false,
    "scrolled": true
   },
   "outputs": [
    {
     "data": {
      "text/plain": [
       "<sqlite3.Cursor at 0x7c5c3b0>"
      ]
     },
     "execution_count": 17,
     "metadata": {},
     "output_type": "execute_result"
    }
   ],
   "source": [
    "curr.execute(create_command)"
   ]
  },
  {
   "cell_type": "code",
   "execution_count": 18,
   "metadata": {
    "collapsed": false,
    "scrolled": true
   },
   "outputs": [
    {
     "data": {
      "text/plain": [
       "['chr1',\n",
       " 156145439,\n",
       " 'C',\n",
       " 'T',\n",
       " '0/1:24:15:39:.',\n",
       " 'protein-altering',\n",
       " 0.000736,\n",
       " '4',\n",
       " '5436',\n",
       " 'ExAC0.3',\n",
       " 'exonic',\n",
       " 'SEMA4A',\n",
       " '.',\n",
       " 'nonsynonymous_SNV',\n",
       " 'SEMA4A:NM_001193302:exon12:c.C1289T:p.P430L,SEMA4A:NM_001193300:exon14:c.C1685T:p.P562L,SEMA4A:NM_001193301:exon14:c.C1685T:p.P562L,SEMA4A:NM_022367:exon14:c.C1685T:p.P562L',\n",
       " 'exonic',\n",
       " 'SEMA4A',\n",
       " '.',\n",
       " 'nonsynonymous_SNV',\n",
       " 'SEMA4A:uc001fnn.3:exon12:c.C1289T:p.P430L,SEMA4A:uc001fno.3:exon13:c.C1685T:p.P562L,SEMA4A:uc001fnl.3:exon14:c.C1685T:p.P562L,SEMA4A:uc001fnm.3:exon14:c.C1685T:p.P562L,SEMA4A:uc009wrq.3:exon14:c.C1685T:p.P562L',\n",
       " 'refGene-dominant_retinitis_pigmentosa,_dominant_cone-rod_dystrophy,_protein:_semaphorin_4A__OMIM:120970,_607292,_610282,_610283|knownGene-dominant_retinitis_pigmentosa,_dominant_cone-rod_dystrophy,_protein:_semaphorin_4A__OMIM:120970,_607292,_610282,_610283|',\n",
       " '.',\n",
       " '.',\n",
       " '.',\n",
       " '.',\n",
       " '.',\n",
       " '.',\n",
       " '.',\n",
       " 'D&D&T&T&T&T&D',\n",
       " 'D&P',\n",
       " 'P&B',\n",
       " 'N',\n",
       " 'D',\n",
       " 'M',\n",
       " 'T&T&T&T&T',\n",
       " 'T',\n",
       " 'T',\n",
       " '0.54573',\n",
       " 'D&D&D&D&D&D&D',\n",
       " '0.84021',\n",
       " '0.5581',\n",
       " '0.40883',\n",
       " '0.32445',\n",
       " '0.45613',\n",
       " '.',\n",
       " '.']"
      ]
     },
     "execution_count": 18,
     "metadata": {},
     "output_type": "execute_result"
    }
   ],
   "source": [
    "value = list(df.ix[1])"
   ]
  },
  {
   "cell_type": "code",
   "execution_count": 19,
   "metadata": {
    "collapsed": false
   },
   "outputs": [
    {
     "data": {
      "text/plain": [
       "48"
      ]
     },
     "execution_count": 19,
     "metadata": {},
     "output_type": "execute_result"
    }
   ],
   "source": [
    "len(columns)"
   ]
  },
  {
   "cell_type": "code",
   "execution_count": 20,
   "metadata": {
    "collapsed": false,
    "scrolled": true
   },
   "outputs": [],
   "source": [
    "for i in range(len(df.index)):\n",
    "    value = list(df.ix[i])\n",
    "    value[:0] = [patientid]\n",
    "    value[2] = int(value[2])\n",
    "    value = tuple(value)\n",
    "    insert_command = 'INSERT INTO ' + patientid + '(' + headers_cleaned + ') VALUES(' + '?, '*(len(columns)-2) +'?' +')'\n",
    "    curr.execute(insert_command, value)"
   ]
  },
  {
   "cell_type": "code",
   "execution_count": 21,
   "metadata": {
    "collapsed": false
   },
   "outputs": [
    {
     "data": {
      "text/plain": [
       "str"
      ]
     },
     "execution_count": 21,
     "metadata": {},
     "output_type": "execute_result"
    }
   ],
   "source": [
    "type(value[1])"
   ]
  },
  {
   "cell_type": "code",
   "execution_count": 22,
   "metadata": {
    "collapsed": true
   },
   "outputs": [],
   "source": [
    "conn.commit()"
   ]
  },
  {
   "cell_type": "code",
   "execution_count": 23,
   "metadata": {
    "collapsed": true
   },
   "outputs": [],
   "source": [
    "conn.close()"
   ]
  }
 ],
 "metadata": {
  "kernelspec": {
   "display_name": "Python 3",
   "language": "python",
   "name": "python3"
  },
  "language_info": {
   "codemirror_mode": {
    "name": "ipython",
    "version": 3
   },
   "file_extension": ".py",
   "mimetype": "text/x-python",
   "name": "python",
   "nbconvert_exporter": "python",
   "pygments_lexer": "ipython3",
   "version": "3.5.1"
  }
 },
 "nbformat": 4,
 "nbformat_minor": 0
}
