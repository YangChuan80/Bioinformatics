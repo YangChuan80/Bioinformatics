{
 "cells": [
  {
   "cell_type": "code",
   "execution_count": 8,
   "metadata": {
    "collapsed": false
   },
   "outputs": [],
   "source": [
    "import numpy as np\n",
    "import pandas as pd\n",
    "import tkinter as tk\n",
    "from tkinter import ttk\n",
    "import tkinter.font as tkf\n",
    "from tkinter import messagebox\n",
    "from tkinter import filedialog\n",
    "import threading\n",
    "import time"
   ]
  },
  {
   "cell_type": "code",
   "execution_count": 9,
   "metadata": {
    "collapsed": false
   },
   "outputs": [],
   "source": [
    "headers = ['gene_id', 'UID', 'seq', 'Reserved', 'count']\n",
    "header_widths = [200, 150, 350, 100, 80]"
   ]
  },
  {
   "cell_type": "code",
   "execution_count": 10,
   "metadata": {
    "collapsed": true
   },
   "outputs": [],
   "source": [
    "def reverseComplement(sequence):\n",
    "    complement = {'A': 'T', 'T': 'A', 'C': 'G', 'G': 'C', 'N': 'N'}\n",
    "    rc_sequence=''\n",
    "    for s in sequence:\n",
    "        rc_sequence = complement[s] + rc_sequence\n",
    "    return rc_sequence"
   ]
  },
  {
   "cell_type": "markdown",
   "metadata": {},
   "source": [
    "# Preprocess"
   ]
  },
  {
   "cell_type": "code",
   "execution_count": 11,
   "metadata": {
    "collapsed": true
   },
   "outputs": [],
   "source": [
    "def preprocessFASTQ():\n",
    "    global reads, indicator_preprocess, kmer_dict_reads\n",
    "    \n",
    "    num = len(reads)\n",
    "    indicator_preprocess = 0\n",
    "    gain = 500000/num\n",
    "    \n",
    "    \n",
    "    kmer_dict_reads = {}\n",
    "\n",
    "    k = 20\n",
    "    \n",
    "    start_time = time.time()\n",
    "\n",
    "    for read in reads:\n",
    "        for i in range(len(read)-k+1):\n",
    "            kmer_dict_reads[read[i:i+k]] = set()\n",
    "        indicator_preprocess += gain \n",
    "\n",
    "    for read in reads:\n",
    "        for i in range(len(read)-k+1):\n",
    "            kmer_dict_reads[read[i:i+k]].add(read)\n",
    "        indicator_preprocess += gain\n",
    "        \n",
    "    end_time = time.time()\n",
    "    delta_time = end_time - start_time\n",
    "    \n",
    "    text_time.delete('1.0', tk.END)\n",
    "    text_time.insert('1.0', str(delta_time))\n",
    "    \n",
    "    messagebox.showinfo(\"Preprocess FASTQ Completed\", \"Current FASTQ preprocess successfully completed!\")"
   ]
  },
  {
   "cell_type": "code",
   "execution_count": 12,
   "metadata": {
    "collapsed": true
   },
   "outputs": [],
   "source": [
    "def start_preprocess_thread(event):\n",
    "    global preprocess_thread, indicator_preprocess\n",
    "    preprocess_thread = threading.Thread(target=preprocessFASTQ)\n",
    "    preprocess_thread.daemon = True\n",
    "    \n",
    "    progressbar['value'] = indicator_preprocess\n",
    "    \n",
    "    preprocess_thread.start()\n",
    "    root.after(20, check_preprocess_thread)\n",
    "\n",
    "def check_preprocess_thread():\n",
    "    if preprocess_thread.is_alive():\n",
    "        progressbar['value'] = indicator_preprocess\n",
    "        \n",
    "        root.after(20, check_preprocess_thread)"
   ]
  },
  {
   "cell_type": "markdown",
   "metadata": {},
   "source": [
    "# Match"
   ]
  },
  {
   "cell_type": "code",
   "execution_count": 13,
   "metadata": {
    "collapsed": true
   },
   "outputs": [],
   "source": [
    "def buttonMatch():\n",
    "    gotten = text_sequence.get('1.0', tk.END)\n",
    "    p1 = gotten.rstrip()\n",
    "    \n",
    "    try:\n",
    "        count = len(kmer_dict_reads[p1])\n",
    "    except KeyError:\n",
    "        count = 0\n",
    "    \n",
    "    text_count.delete('1.0', tk.END)\n",
    "    text_count.insert('1.0', str(count))"
   ]
  },
  {
   "cell_type": "markdown",
   "metadata": {},
   "source": [
    "# Match All"
   ]
  },
  {
   "cell_type": "code",
   "execution_count": 14,
   "metadata": {
    "collapsed": false
   },
   "outputs": [],
   "source": [
    "def matchAll():\n",
    "    global  kmer_dict_reads, indicator_matchAll, df\n",
    "    num = len(df)\n",
    "    indicator_matchAll = 0\n",
    "    gain = 1000000/num\n",
    "    \n",
    "    arr = np.array(df)\n",
    "    \n",
    "    for i in range(len(arr)):\n",
    "        key = arr[i,2]\n",
    "        try:\n",
    "            n1 = len(kmer_dict_reads[key])\n",
    "        except KeyError:\n",
    "            n1 = -1\n",
    "        arr[i, 4] = n1\n",
    "        indicator_matchAll += gain\n",
    "    \n",
    "    df = pd.DataFrame(arr)\n",
    "    df = df.set_index('UID', drop=False) "
   ]
  },
  {
   "cell_type": "code",
   "execution_count": 15,
   "metadata": {
    "collapsed": true
   },
   "outputs": [],
   "source": [
    "def start_matchAll_thread(event):\n",
    "    global matchAll_thread, indicator_matchAll\n",
    "    matchAll_thread = threading.Thread(target=matchAll)\n",
    "    matchAll_thread.daemon = True\n",
    "    \n",
    "    progressbar['value'] = indicator_matchAll\n",
    "    \n",
    "    matchAll_thread.start()\n",
    "    root.after(20, check_matchAll_thread)\n",
    "\n",
    "def check_matchAll_thread():\n",
    "    if matchAll_thread.is_alive():\n",
    "        progressbar['value'] = indicator_matchAll\n",
    "        \n",
    "        root.after(20, check_matchAll_thread)"
   ]
  },
  {
   "cell_type": "markdown",
   "metadata": {},
   "source": [
    "# FASTQ File Load"
   ]
  },
  {
   "cell_type": "code",
   "execution_count": 16,
   "metadata": {
    "collapsed": true
   },
   "outputs": [],
   "source": [
    "def buttonBrowseFASTQ():\n",
    "    global filenameFASTQ\n",
    "    progressbar_loadSequences['value'] = 0\n",
    "    try:\n",
    "        filenameFASTQ = filedialog.askopenfilename(filetypes=(('FASTQ files', '*.fastq'), ('All files', '*.*')))\n",
    "        text_fileFASTQ.delete('1.0', tk.END)\n",
    "        text_fileFASTQ.insert('1.0', filenameFASTQ.split('/')[-1])\n",
    "    except:\n",
    "        filenameFASTQ = ''    "
   ]
  },
  {
   "cell_type": "code",
   "execution_count": 17,
   "metadata": {
    "collapsed": true
   },
   "outputs": [],
   "source": [
    "def loadFASTQ():\n",
    "    global reads\n",
    "    \n",
    "    start_time = time.time()\n",
    "    if filenameFASTQ == '':\n",
    "        messagebox.showwarning(\"No File\", \"Sorry, no file loaded! Please choose FASTQ file first.\")\n",
    "    else:       \n",
    "\n",
    "        f = open(filenameFASTQ)\n",
    "        reads = []\n",
    "\n",
    "        try:\n",
    "            while 1:\n",
    "                name = f.readline().rstrip()\n",
    "                read = f.readline().rstrip()\n",
    "                f.readline()\n",
    "                quality = f.readline().rstrip()\n",
    "\n",
    "                if len(name) == 0:\n",
    "                    break\n",
    "\n",
    "                reads.append(read)           \n",
    "            \n",
    "            end_time = time.time()\n",
    "            delta_time = end_time - start_time\n",
    "                       \n",
    "            text_time.delete('1.0', tk.END)\n",
    "            text_time.insert('1.0', str(delta_time))           \n",
    "            \n",
    "        except:\n",
    "            messagebox.showwarning(\"File Loading Failed\", \"Sorry, file loading failed! Please check the file format.\")"
   ]
  },
  {
   "cell_type": "code",
   "execution_count": 18,
   "metadata": {
    "collapsed": true
   },
   "outputs": [],
   "source": [
    "def start_loadFASTQ_thread(event):\n",
    "    global loadFASTQ_thread\n",
    "    loadFASTQ_thread = threading.Thread(target=loadFASTQ)\n",
    "    loadFASTQ_thread.daemon = True\n",
    "    \n",
    "    progressbar_loadFASTQ.start(10)\n",
    "    loadFASTQ_thread.start()\n",
    "    root.after(20, check_loadFASTQ_thread)\n",
    "\n",
    "def check_loadFASTQ_thread():\n",
    "    if loadFASTQ_thread.is_alive():\n",
    "        progressbar_loadFASTQ.start(10)\n",
    "        root.after(20, check_loadFASTQ_thread)\n",
    "    else:\n",
    "        progressbar_loadFASTQ.stop()\n",
    "        progressbar_loadFASTQ['value']=100\n",
    "        messagebox.showinfo(\"FASTQ File Loaded\", \"FASTQ file successfully loaded!\")"
   ]
  },
  {
   "cell_type": "markdown",
   "metadata": {},
   "source": [
    "# Target Gene File Load"
   ]
  },
  {
   "cell_type": "code",
   "execution_count": 19,
   "metadata": {
    "collapsed": true
   },
   "outputs": [],
   "source": [
    "def buttonBrowseSequences():\n",
    "    global filenameSequences\n",
    "    \n",
    "    try:\n",
    "        filenameSequences = filedialog.askopenfilename(filetypes=(('Comma-Separated (CSV) text file', '*.csv'), ('All files', '*.*')))\n",
    "        text_fileSequences.delete('1.0', tk.END)\n",
    "        text_fileSequences.insert('1.0', filenameSequences.split('/')[-1])\n",
    "    except:\n",
    "        filenameSequences = ''    "
   ]
  },
  {
   "cell_type": "code",
   "execution_count": 20,
   "metadata": {
    "collapsed": false
   },
   "outputs": [],
   "source": [
    "def loadSequences():\n",
    "    global filenameSequences, df, recordNum\n",
    "   \n",
    "    if filenameSequences == '':\n",
    "        messagebox.showwarning(\"No File\", \"Sorry, no file chosen! Please choose file of sequences first.\")\n",
    "    else:        \n",
    "        try:\n",
    "            start_time = time.time()\n",
    "            \n",
    "            df = pd.read_csv(filenameSequences)\n",
    "            df['count'] = 0\n",
    "            df = df.set_index('UID', drop=False)  \n",
    "            \n",
    "            recordNum = len(df)\n",
    "            \n",
    "            progressbar_loadSequences['value'] = 100\n",
    "            \n",
    "            end_time = time.time()\n",
    "            delta_time = end_time - start_time\n",
    "                       \n",
    "            text_time.delete('1.0', tk.END)\n",
    "            text_time.insert('1.0', str(delta_time))\n",
    "            \n",
    "            text_recordNum.delete('1.0', tk.END)\n",
    "            text_recordNum.insert('1.0', str(recordNum))\n",
    "            \n",
    "            messagebox.showinfo(\"File of Sequences Loaded\", \"File of sequences successfully loaded!\")        \n",
    "        except:\n",
    "            messagebox.showwarning(\"File Loading Failed\", \"Sorry, file loading failed! Please check the file format.\")    "
   ]
  },
  {
   "cell_type": "markdown",
   "metadata": {},
   "source": [
    "# Table Events"
   ]
  },
  {
   "cell_type": "code",
   "execution_count": 21,
   "metadata": {
    "collapsed": true
   },
   "outputs": [],
   "source": [
    "def OnDoubleClick(event):\n",
    "    item = table.selection()[0]\n",
    "    value = table.item(item, 'values')\n",
    "    geneID = value[0]\n",
    "    uid = value[1]\n",
    "    sequence = value[2]\n",
    "    rc_sequence = reverseComplement(sequence)\n",
    "    \n",
    "    text_geneID.delete('1.0', tk.END)\n",
    "    text_geneID.insert('1.0', str(geneID))\n",
    "    \n",
    "    text_uid.delete('1.0', tk.END)\n",
    "    text_uid.insert('1.0', str(uid))\n",
    "    \n",
    "    text_sequence.delete('1.0', tk.END)\n",
    "    text_sequence.insert('1.0', str(sequence))\n",
    "    \n",
    "    text_rc_sequence.delete('1.0', tk.END)\n",
    "    text_rc_sequence.insert('1.0', str(rc_sequence))\n",
    "    "
   ]
  },
  {
   "cell_type": "code",
   "execution_count": 22,
   "metadata": {
    "collapsed": true
   },
   "outputs": [],
   "source": [
    "def sortby(tree, col, descending):\n",
    "    \"\"\"sort tree contents when a column header is clicked on\"\"\"\n",
    "    # grab values to sort\n",
    "    data = [(tree.set(child, col), child) for child in tree.get_children('')]\n",
    "    # if the data to be sorted is numeric change to float\n",
    "    #data =  change_numeric(data)\n",
    "    # now sort the data in place\n",
    "    data.sort(reverse=descending)\n",
    "    for ix, item in enumerate(data):\n",
    "        tree.move(item[1], '', ix)\n",
    "    # switch the heading so it will sort in the opposite direction\n",
    "    tree.heading(col, command=lambda col=col: sortby(tree, col, int(not descending)))"
   ]
  },
  {
   "cell_type": "code",
   "execution_count": 23,
   "metadata": {
    "collapsed": true
   },
   "outputs": [],
   "source": [
    "def display_in_table():\n",
    "    for a in df.index:\n",
    "        row = df.ix[a]\n",
    "        table.insert(\"\", \"end\", \"\", values=tuple(row)) "
   ]
  },
  {
   "cell_type": "code",
   "execution_count": 24,
   "metadata": {
    "collapsed": true
   },
   "outputs": [],
   "source": [
    "def clear():\n",
    "    for i in table.get_children():\n",
    "        table.delete(i)"
   ]
  },
  {
   "cell_type": "code",
   "execution_count": 25,
   "metadata": {
    "collapsed": true
   },
   "outputs": [],
   "source": [
    "def refresh():\n",
    "    start_time = time.time()\n",
    "    clear()\n",
    "    display_in_table()\n",
    "    delta_time = time.time() - start_time\n",
    "    \n",
    "    text_time.delete('1.0', tk.END)\n",
    "    text_time.insert('1.0', str(delta_time))           "
   ]
  },
  {
   "cell_type": "code",
   "execution_count": 26,
   "metadata": {
    "collapsed": true
   },
   "outputs": [],
   "source": [
    "def buttonExport():\n",
    "    pass"
   ]
  },
  {
   "cell_type": "markdown",
   "metadata": {},
   "source": [
    "# String Preprocess"
   ]
  },
  {
   "cell_type": "markdown",
   "metadata": {},
   "source": [
    "# Main Flow"
   ]
  },
  {
   "cell_type": "code",
   "execution_count": 27,
   "metadata": {
    "collapsed": false
   },
   "outputs": [
    {
     "name": "stderr",
     "output_type": "stream",
     "text": [
      "Exception in thread Thread-7:\n",
      "Traceback (most recent call last):\n",
      "  File \"pandas\\index.pyx\", line 154, in pandas.index.IndexEngine.get_loc (pandas\\index.c:3704)\n",
      "  File \"pandas\\hashtable.pyx\", line 375, in pandas.hashtable.Int64HashTable.get_item (pandas\\hashtable.c:7200)\n",
      "TypeError: an integer is required\n",
      "\n",
      "During handling of the above exception, another exception occurred:\n",
      "\n",
      "Traceback (most recent call last):\n",
      "  File \"C:\\Anaconda3\\lib\\threading.py\", line 911, in _bootstrap_inner\n",
      "    self.run()\n",
      "  File \"C:\\Anaconda3\\lib\\threading.py\", line 859, in run\n",
      "    self._target(*self._args, **self._kwargs)\n",
      "  File \"<ipython-input-14-2051aa437e9a>\", line 19, in matchAll\n",
      "    df = df.set_index('UID', drop=False)\n",
      "  File \"C:\\Anaconda3\\lib\\site-packages\\pandas\\core\\frame.py\", line 2607, in set_index\n",
      "    level = frame[col].values\n",
      "  File \"C:\\Anaconda3\\lib\\site-packages\\pandas\\core\\frame.py\", line 1797, in __getitem__\n",
      "    return self._getitem_column(key)\n",
      "  File \"C:\\Anaconda3\\lib\\site-packages\\pandas\\core\\frame.py\", line 1804, in _getitem_column\n",
      "    return self._get_item_cache(key)\n",
      "  File \"C:\\Anaconda3\\lib\\site-packages\\pandas\\core\\generic.py\", line 1084, in _get_item_cache\n",
      "    values = self._data.get(item)\n",
      "  File \"C:\\Anaconda3\\lib\\site-packages\\pandas\\core\\internals.py\", line 2851, in get\n",
      "    loc = self.items.get_loc(item)\n",
      "  File \"C:\\Anaconda3\\lib\\site-packages\\pandas\\core\\index.py\", line 1572, in get_loc\n",
      "    return self._engine.get_loc(_values_from_object(key))\n",
      "  File \"pandas\\index.pyx\", line 134, in pandas.index.IndexEngine.get_loc (pandas\\index.c:3824)\n",
      "  File \"pandas\\index.pyx\", line 156, in pandas.index.IndexEngine.get_loc (pandas\\index.c:3761)\n",
      "KeyError: 'UID'\n",
      "\n"
     ]
    }
   ],
   "source": [
    "root = tk.Tk()\n",
    "\n",
    "indicator_preprocess = 0\n",
    "indicator_loadSequences = 0\n",
    "indicator_matchAll = 0\n",
    "filenameSequences = ''\n",
    "recordNum = 0\n",
    "count = 0\n",
    "\n",
    "root.geometry(\"{0}x{1}+0+0\".format(root.winfo_screenwidth(), root.winfo_screenheight()))\n",
    "#root.attributes('-fullscreen', True)\n",
    "root.title('Sequence Matching Tool')\n",
    "\n",
    "\n",
    "# Multicolumn Listbox/////////////////////////////////////////////////////////////////////////////\n",
    "table = ttk.Treeview(height=\"20\", columns=headers, selectmode=\"extended\")\n",
    "table.pack(padx=10, pady=20, ipadx=1200, ipady=140)\n",
    "\n",
    "i = 1\n",
    "for header in headers:\n",
    "    table.heading('#'+str(i), text=header.title(), anchor=tk.W, command=lambda c=header: sortby(table, c, 0))\n",
    "    table.column('#'+str(i), stretch=tk.NO, minwidth=0, width=tkf.Font().measure(header.title())+header_widths[i-1]) \n",
    "    i+=1    \n",
    "table.column('#0', stretch=tk.NO, minwidth=0, width=0)\n",
    "\n",
    "table.bind(\"<Double-1>\", OnDoubleClick)\n",
    "#///////////////////////////////////////////////////////////////////////////////////////////\n",
    "\n",
    "# Scrollbar////////////////////////////////////////////////////////////////////////////////////////\n",
    "vsb = ttk.Scrollbar(table, orient=\"vertical\",  command = table.yview)\n",
    "hsb = ttk.Scrollbar(table, orient=\"horizontal\", command = table.xview)\n",
    "## Link scrollbars activation to top-level object\n",
    "table.configure(yscrollcommand=vsb.set, xscrollcommand=hsb.set)\n",
    "## Link scrollbar also to every columns\n",
    "map(lambda col: col.configure(yscrollcommand=vsb.set,xscrollcommand=hsb.set), table)\n",
    "vsb.pack(side = tk.RIGHT, fill = tk.Y)\n",
    "hsb.pack(side = tk.BOTTOM, fill = tk.X)        \n",
    "\n",
    "#//////////////////////////////////////////////////////////////////////////////////////////////\n",
    "y0 =400\n",
    "y1 = 440\n",
    "y2 = 510\n",
    "y3 = 550\n",
    "y4 = 610\n",
    "y5 = 645\n",
    "y6 = 685\n",
    "# Text /////////////////////////////////////////////////////////////////////////////////////\n",
    "text_recordNum=tk.Text(root, width=10, height=1, font=('tahoma', 9), bd=2, wrap='none')\n",
    "text_recordNum.place(x=1170, y=y0)\n",
    "label_recordNum=tk.Label(root, text='records', font=('tahoma', 9))\n",
    "label_recordNum.place(x=1270,y=y0)\n",
    "\n",
    "text_fileSequences=tk.Text(root, width=50, height=1, font=('tahoma', 9), bd=2, wrap='none')\n",
    "text_fileSequences.place(x=60, y=y0)\n",
    "\n",
    "text_fileFASTQ=tk.Text(root, width=36, height=1, font=('tahoma', 9), bd=2, wrap='none')\n",
    "text_fileFASTQ.place(x=60, y=y4)\n",
    "\n",
    "text_count=tk.Text(root, width=16, height=1, font=('tahoma', 9), bd=2)\n",
    "text_count.place(x=1000, y=y3)\n",
    "label_count=tk.Label(root, text='Count:', font=('tahoma', 9))\n",
    "label_count.place(x=940,y=y3)\n",
    "\n",
    "text_time=tk.Text(root, width=20, height=1, font=('tahoma', 9), bd=2)\n",
    "text_time.place(x=1090, y=y1)\n",
    "label_time=tk.Label(root, text='Time:', font=('tahoma', 9))\n",
    "label_time.place(x=1030,y=y1)\n",
    "label_seconds=tk.Label(root, text='second(s)', font=('tahoma', 9))\n",
    "label_seconds.place(x=1270,y=y1)\n",
    "\n",
    "text_geneID=tk.Text(root, width=20, height=1, font=('tahoma', 9), bd=2)\n",
    "text_geneID.place(x=140, y=y2)\n",
    "label_geneID=tk.Label(root, text='Gene ID:', font=('tahoma', 9))\n",
    "label_geneID.place(x=60,y=y2)\n",
    "\n",
    "text_uid=tk.Text(root, width=20, height=1, font=('tahoma', 9), bd=2)\n",
    "text_uid.place(x=390, y=y2)\n",
    "label_uid=tk.Label(root, text='UID:', font=('tahoma', 9))\n",
    "label_uid.place(x=340,y=y2)\n",
    "\n",
    "text_sequence=tk.Text(root, width=38, height=1, font=('tahoma', 9), bd=2)\n",
    "text_sequence.place(x=680, y=y2)\n",
    "label_sequence=tk.Label(root, text='Sequence:', font=('tahoma', 9))\n",
    "label_sequence.place(x=600,y=y2)\n",
    "\n",
    "text_rc_sequence=tk.Text(root, width=38, height=1, font=('tahoma', 9), bd=2)\n",
    "text_rc_sequence.place(x=1000, y=y2)\n",
    "\n",
    "\n",
    "# ProgressBar /////////////////////////////////////////////////////////////////////////////\n",
    "progressbar_loadSequences = ttk.Progressbar(root, length=200, maximum=100, mode='determinate')\n",
    "progressbar_loadSequences.place(x=500,y=y0)\n",
    "\n",
    "progressbar_loadFASTQ = ttk.Progressbar(root, length=250, mode='indeterminate')\n",
    "progressbar_loadFASTQ.place(x=400,y=y4)\n",
    "\n",
    "progressbar = ttk.Progressbar(root, length=420, maximum=1000000, mode='determinate')\n",
    "progressbar.place(x=720,y=y4)\n",
    "\n",
    "# Button /////////////////////////////////////////////////////////////////////////////////\n",
    "button_browseSequences = ttk.Button(root, text=\"Browse sgRNA...\", width=20, command=buttonBrowseSequences)\n",
    "button_browseSequences.place(x=60, y=y1)\n",
    "\n",
    "button_loadSequences = ttk.Button(root, text=\"Load sgRNA\", width=20, command=loadSequences)\n",
    "button_loadSequences.place(x=500, y=y1)\n",
    "\n",
    "button_clear = ttk.Button(root, text=\"Clear\", width=20, command=clear)\n",
    "button_clear.place(x=770, y=y1)\n",
    "\n",
    "button_refresh = ttk.Button(root, text=\"Browse\", width=20, command=refresh)\n",
    "button_refresh.place(x=770, y=y0)\n",
    "\n",
    "button_loadFASTQ = ttk.Button(root, text=\"Load FASTQ\", width=20, command=lambda:start_loadFASTQ_thread(None))\n",
    "button_loadFASTQ.place(x=400, y=y5)\n",
    "\n",
    "button_preprocessFASTQ = ttk.Button(root, text=\"Preprocess FASTQ\", width=20, command=lambda:start_preprocess_thread(None))\n",
    "button_preprocessFASTQ.place(x=720, y=y5)\n",
    "\n",
    "button_match = ttk.Button(root, text=\"Preprocess FASTQ\", width=20, command=lambda:start_preprocess_thread(None))\n",
    "button_match.place(x=720, y=y5)\n",
    "\n",
    "button_browseFASTQ = ttk.Button(root, text=\"Browse FASTQ...\", width=20, command=buttonBrowseFASTQ)\n",
    "button_browseFASTQ.place(x=60, y=y5)\n",
    "\n",
    "button_matchAll = ttk.Button(root, text=\"Match All\", width=20, command=lambda:start_matchAll_thread(None))\n",
    "button_matchAll.place(x=960, y=y5)\n",
    "\n",
    "button_match = ttk.Button(root, text=\"Match\", width=20, command=buttonMatch)\n",
    "button_match.place(x=680, y=y3)\n",
    "\n",
    "button_export = ttk.Button(root, text=\"Export\", width=20, command=buttonExport)\n",
    "button_export.place(x=1180, y=y5)\n",
    "\n",
    "button_exit = ttk.Button(root, text=\"Exit\", width=20, command=root.destroy)\n",
    "button_exit.place(x=1180, y=y6)\n",
    "\n",
    "root.bind('<Return>', start_preprocess_thread)\n",
    "root.bind('<Return>', start_loadFASTQ_thread)\n",
    "root.bind('<Return>', start_matchAll_thread)\n",
    "\n",
    "root.mainloop()"
   ]
  },
  {
   "cell_type": "code",
   "execution_count": null,
   "metadata": {
    "collapsed": true
   },
   "outputs": [],
   "source": []
  }
 ],
 "metadata": {
  "kernelspec": {
   "display_name": "Python 3",
   "language": "python",
   "name": "python3"
  },
  "language_info": {
   "codemirror_mode": {
    "name": "ipython",
    "version": 3
   },
   "file_extension": ".py",
   "mimetype": "text/x-python",
   "name": "python",
   "nbconvert_exporter": "python",
   "pygments_lexer": "ipython3",
   "version": "3.4.4"
  }
 },
 "nbformat": 4,
 "nbformat_minor": 0
}
