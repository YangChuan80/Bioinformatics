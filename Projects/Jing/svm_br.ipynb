{
 "cells": [
  {
   "cell_type": "code",
   "execution_count": 7,
   "metadata": {},
   "outputs": [],
   "source": [
    "from PIL import Image\n",
    "import numpy as np\n",
    "import pandas as pd\n",
    "import matplotlib.pyplot as plt\n",
    "\n",
    "\n",
    "from sklearn import svm\n",
    "from sklearn.metrics import classification_report, confusion_matrix\n",
    "from sklearn.externals import joblib\n",
    "from os import walk\n",
    "\n",
    "import time\n",
    "\n",
    "import xlrd\n",
    "\n",
    "%matplotlib inline"
   ]
  },
  {
   "cell_type": "code",
   "execution_count": 8,
   "metadata": {},
   "outputs": [
    {
     "data": {
      "text/plain": [
       "\"\\nfor sheet_name in sheet_names:    \\n    nrows=book.sheet_by_name(sheet_name).nrows\\n    current_header=book.sheet_by_name(sheet_name).row_values(2) \\n    current_data=[book.sheet_by_name(sheet_name).row_values(i) for i in range(3, nrows)]\\n    sheets[sheet_name]=pd.DataFrame(current_data, columns=current_header)   #DataFrame Construction\\n#Feedback\\nprint('Data Extracted!')\\n\""
      ]
     },
     "execution_count": 8,
     "metadata": {},
     "output_type": "execute_result"
    }
   ],
   "source": [
    "#Import File\n",
    "filename='ZhangData.xlsx'\n",
    "book=xlrd.open_workbook(filename)\n",
    "\n",
    "#Extraction\n",
    "nsheets=book.nsheets\n",
    "\n",
    "sheet_names=book.sheet_names()\n",
    "\n",
    "nrows=book.sheet_by_name(sheet_names[0]).nrows\n",
    "current_header=book.sheet_by_name(sheet_names[0]).row_values(0) \n",
    "current_data=[book.sheet_by_name(sheet_names[0]).row_values(i) for i in range(1, nrows)]\n",
    "df=pd.DataFrame(current_data, columns=current_header)   #DataFrame Construction\n",
    "\n",
    "sheet_names[0]\n",
    "'''\n",
    "for sheet_name in sheet_names:    \n",
    "    nrows=book.sheet_by_name(sheet_name).nrows\n",
    "    current_header=book.sheet_by_name(sheet_name).row_values(2) \n",
    "    current_data=[book.sheet_by_name(sheet_name).row_values(i) for i in range(3, nrows)]\n",
    "    sheets[sheet_name]=pd.DataFrame(current_data, columns=current_header)   #DataFrame Construction\n",
    "#Feedback\n",
    "print('Data Extracted!')\n",
    "'''"
   ]
  },
  {
   "cell_type": "code",
   "execution_count": 9,
   "metadata": {},
   "outputs": [
    {
     "data": {
      "text/plain": [
       "pandas.core.series.Series"
      ]
     },
     "execution_count": 9,
     "metadata": {},
     "output_type": "execute_result"
    }
   ],
   "source": [
    "type(df['ER'])"
   ]
  },
  {
   "cell_type": "code",
   "execution_count": 10,
   "metadata": {},
   "outputs": [
    {
     "data": {
      "text/html": [
       "<div>\n",
       "<style scoped>\n",
       "    .dataframe tbody tr th:only-of-type {\n",
       "        vertical-align: middle;\n",
       "    }\n",
       "\n",
       "    .dataframe tbody tr th {\n",
       "        vertical-align: top;\n",
       "    }\n",
       "\n",
       "    .dataframe thead th {\n",
       "        text-align: right;\n",
       "    }\n",
       "</style>\n",
       "<table border=\"1\" class=\"dataframe\">\n",
       "  <thead>\n",
       "    <tr style=\"text-align: right;\">\n",
       "      <th></th>\n",
       "      <th>编号</th>\n",
       "      <th>患者</th>\n",
       "      <th>group</th>\n",
       "      <th>年龄</th>\n",
       "      <th>大小</th>\n",
       "      <th>临床分期</th>\n",
       "      <th>ER</th>\n",
       "      <th>PR</th>\n",
       "      <th>ER2</th>\n",
       "      <th>PR2</th>\n",
       "      <th>...</th>\n",
       "      <th>基线含氧量（E0）</th>\n",
       "      <th>含氧量（E1）</th>\n",
       "      <th>Δ氧t1</th>\n",
       "      <th>含氧量（E2）</th>\n",
       "      <th>Δ氧t2</th>\n",
       "      <th>HIF-1</th>\n",
       "      <th>TWIST-1</th>\n",
       "      <th>ITGB</th>\n",
       "      <th>RCB分级</th>\n",
       "      <th>米勒分级</th>\n",
       "    </tr>\n",
       "  </thead>\n",
       "  <tbody>\n",
       "    <tr>\n",
       "      <th>0</th>\n",
       "      <td>4.0</td>\n",
       "      <td>4</td>\n",
       "      <td>1.0</td>\n",
       "      <td>42.0</td>\n",
       "      <td>7.8</td>\n",
       "      <td>3.0</td>\n",
       "      <td>0.0</td>\n",
       "      <td>0.0</td>\n",
       "      <td>0.0</td>\n",
       "      <td>0.0</td>\n",
       "      <td>...</td>\n",
       "      <td>0.306</td>\n",
       "      <td>0.734</td>\n",
       "      <td>1.398693</td>\n",
       "      <td>0.967</td>\n",
       "      <td>2.160131</td>\n",
       "      <td>25.0</td>\n",
       "      <td>25.0</td>\n",
       "      <td>23.0</td>\n",
       "      <td>1.0</td>\n",
       "      <td>5.0</td>\n",
       "    </tr>\n",
       "    <tr>\n",
       "      <th>1</th>\n",
       "      <td>26.0</td>\n",
       "      <td>26</td>\n",
       "      <td>1.0</td>\n",
       "      <td>42.0</td>\n",
       "      <td>7.5</td>\n",
       "      <td>3.0</td>\n",
       "      <td>0.0</td>\n",
       "      <td>0.0</td>\n",
       "      <td>0.0</td>\n",
       "      <td>0.0</td>\n",
       "      <td>...</td>\n",
       "      <td>0.145</td>\n",
       "      <td>0.253</td>\n",
       "      <td>0.744828</td>\n",
       "      <td>0.435</td>\n",
       "      <td>2.000000</td>\n",
       "      <td>35.0</td>\n",
       "      <td>30.0</td>\n",
       "      <td>24.0</td>\n",
       "      <td>1.0</td>\n",
       "      <td>5.0</td>\n",
       "    </tr>\n",
       "    <tr>\n",
       "      <th>2</th>\n",
       "      <td>45.0</td>\n",
       "      <td>45</td>\n",
       "      <td>1.0</td>\n",
       "      <td>42.0</td>\n",
       "      <td>5.1</td>\n",
       "      <td>3.0</td>\n",
       "      <td>0.0</td>\n",
       "      <td>0.0</td>\n",
       "      <td>0.0</td>\n",
       "      <td>0.0</td>\n",
       "      <td>...</td>\n",
       "      <td>0.322</td>\n",
       "      <td>0.508</td>\n",
       "      <td>0.577640</td>\n",
       "      <td>0.700</td>\n",
       "      <td>1.173913</td>\n",
       "      <td>34.0</td>\n",
       "      <td>29.0</td>\n",
       "      <td>23.0</td>\n",
       "      <td>1.0</td>\n",
       "      <td>5.0</td>\n",
       "    </tr>\n",
       "    <tr>\n",
       "      <th>3</th>\n",
       "      <td>47.0</td>\n",
       "      <td>47</td>\n",
       "      <td>1.0</td>\n",
       "      <td>42.0</td>\n",
       "      <td>6.1</td>\n",
       "      <td>3.0</td>\n",
       "      <td>0.0</td>\n",
       "      <td>0.0</td>\n",
       "      <td>0.0</td>\n",
       "      <td>0.0</td>\n",
       "      <td>...</td>\n",
       "      <td>0.504</td>\n",
       "      <td>0.567</td>\n",
       "      <td>0.125000</td>\n",
       "      <td>0.848</td>\n",
       "      <td>0.682540</td>\n",
       "      <td>31.0</td>\n",
       "      <td>26.0</td>\n",
       "      <td>22.0</td>\n",
       "      <td>1.0</td>\n",
       "      <td>5.0</td>\n",
       "    </tr>\n",
       "    <tr>\n",
       "      <th>4</th>\n",
       "      <td>89.0</td>\n",
       "      <td>王玉琴</td>\n",
       "      <td>1.0</td>\n",
       "      <td>57.0</td>\n",
       "      <td>4.1</td>\n",
       "      <td>2.0</td>\n",
       "      <td>0.0</td>\n",
       "      <td>0.0</td>\n",
       "      <td>0.0</td>\n",
       "      <td>0.0</td>\n",
       "      <td>...</td>\n",
       "      <td>0.147</td>\n",
       "      <td>0.361</td>\n",
       "      <td>1.455782</td>\n",
       "      <td>0.683</td>\n",
       "      <td>3.646259</td>\n",
       "      <td>35.0</td>\n",
       "      <td>30.0</td>\n",
       "      <td>27.0</td>\n",
       "      <td>1.0</td>\n",
       "      <td>5.0</td>\n",
       "    </tr>\n",
       "    <tr>\n",
       "      <th>...</th>\n",
       "      <td>...</td>\n",
       "      <td>...</td>\n",
       "      <td>...</td>\n",
       "      <td>...</td>\n",
       "      <td>...</td>\n",
       "      <td>...</td>\n",
       "      <td>...</td>\n",
       "      <td>...</td>\n",
       "      <td>...</td>\n",
       "      <td>...</td>\n",
       "      <td>...</td>\n",
       "      <td>...</td>\n",
       "      <td>...</td>\n",
       "      <td>...</td>\n",
       "      <td>...</td>\n",
       "      <td>...</td>\n",
       "      <td>...</td>\n",
       "      <td>...</td>\n",
       "      <td>...</td>\n",
       "      <td>...</td>\n",
       "      <td>...</td>\n",
       "    </tr>\n",
       "    <tr>\n",
       "      <th>99</th>\n",
       "      <td>10.0</td>\n",
       "      <td>10</td>\n",
       "      <td>3.0</td>\n",
       "      <td>32.0</td>\n",
       "      <td>2.7</td>\n",
       "      <td>2.0</td>\n",
       "      <td>95.0</td>\n",
       "      <td>95.0</td>\n",
       "      <td>1.0</td>\n",
       "      <td>1.0</td>\n",
       "      <td>...</td>\n",
       "      <td>0.100</td>\n",
       "      <td>0.248</td>\n",
       "      <td>1.480000</td>\n",
       "      <td>0.442</td>\n",
       "      <td>3.420000</td>\n",
       "      <td>79.0</td>\n",
       "      <td>72.0</td>\n",
       "      <td>70.0</td>\n",
       "      <td>3.0</td>\n",
       "      <td>2.0</td>\n",
       "    </tr>\n",
       "    <tr>\n",
       "      <th>100</th>\n",
       "      <td>72.0</td>\n",
       "      <td>霍金双</td>\n",
       "      <td>3.0</td>\n",
       "      <td>62.0</td>\n",
       "      <td>2.3</td>\n",
       "      <td>2.0</td>\n",
       "      <td>95.0</td>\n",
       "      <td>95.0</td>\n",
       "      <td>1.0</td>\n",
       "      <td>1.0</td>\n",
       "      <td>...</td>\n",
       "      <td>0.036</td>\n",
       "      <td>0.200</td>\n",
       "      <td>4.555556</td>\n",
       "      <td>0.228</td>\n",
       "      <td>5.333333</td>\n",
       "      <td>89.0</td>\n",
       "      <td>85.0</td>\n",
       "      <td>82.0</td>\n",
       "      <td>3.0</td>\n",
       "      <td>2.0</td>\n",
       "    </tr>\n",
       "    <tr>\n",
       "      <th>101</th>\n",
       "      <td>36.0</td>\n",
       "      <td>36</td>\n",
       "      <td>3.0</td>\n",
       "      <td>64.0</td>\n",
       "      <td>5.5</td>\n",
       "      <td>3.0</td>\n",
       "      <td>95.0</td>\n",
       "      <td>5.0</td>\n",
       "      <td>1.0</td>\n",
       "      <td>1.0</td>\n",
       "      <td>...</td>\n",
       "      <td>0.035</td>\n",
       "      <td>0.083</td>\n",
       "      <td>1.371429</td>\n",
       "      <td>0.130</td>\n",
       "      <td>2.714286</td>\n",
       "      <td>91.0</td>\n",
       "      <td>45.0</td>\n",
       "      <td>82.0</td>\n",
       "      <td>3.0</td>\n",
       "      <td>1.0</td>\n",
       "    </tr>\n",
       "    <tr>\n",
       "      <th>102</th>\n",
       "      <td>6.0</td>\n",
       "      <td>6</td>\n",
       "      <td>3.0</td>\n",
       "      <td>51.0</td>\n",
       "      <td>6.9</td>\n",
       "      <td>3.0</td>\n",
       "      <td>95.0</td>\n",
       "      <td>15.0</td>\n",
       "      <td>1.0</td>\n",
       "      <td>1.0</td>\n",
       "      <td>...</td>\n",
       "      <td>0.080</td>\n",
       "      <td>0.218</td>\n",
       "      <td>1.725000</td>\n",
       "      <td>0.302</td>\n",
       "      <td>2.775000</td>\n",
       "      <td>82.0</td>\n",
       "      <td>78.0</td>\n",
       "      <td>75.0</td>\n",
       "      <td>3.0</td>\n",
       "      <td>1.0</td>\n",
       "    </tr>\n",
       "    <tr>\n",
       "      <th>103</th>\n",
       "      <td>14.0</td>\n",
       "      <td>14</td>\n",
       "      <td>3.0</td>\n",
       "      <td>64.0</td>\n",
       "      <td>5.1</td>\n",
       "      <td>3.0</td>\n",
       "      <td>99.0</td>\n",
       "      <td>3.0</td>\n",
       "      <td>1.0</td>\n",
       "      <td>1.0</td>\n",
       "      <td>...</td>\n",
       "      <td>0.076</td>\n",
       "      <td>0.079</td>\n",
       "      <td>0.039474</td>\n",
       "      <td>0.099</td>\n",
       "      <td>0.302632</td>\n",
       "      <td>43.0</td>\n",
       "      <td>80.0</td>\n",
       "      <td>78.0</td>\n",
       "      <td>3.0</td>\n",
       "      <td>1.0</td>\n",
       "    </tr>\n",
       "  </tbody>\n",
       "</table>\n",
       "<p>104 rows × 40 columns</p>\n",
       "</div>"
      ],
      "text/plain": [
       "       编号   患者  group    年龄   大小  临床分期    ER    PR  ER2  PR2  ...  基线含氧量（E0）  \\\n",
       "0     4.0    4    1.0  42.0  7.8   3.0   0.0   0.0  0.0  0.0  ...      0.306   \n",
       "1    26.0   26    1.0  42.0  7.5   3.0   0.0   0.0  0.0  0.0  ...      0.145   \n",
       "2    45.0   45    1.0  42.0  5.1   3.0   0.0   0.0  0.0  0.0  ...      0.322   \n",
       "3    47.0   47    1.0  42.0  6.1   3.0   0.0   0.0  0.0  0.0  ...      0.504   \n",
       "4    89.0  王玉琴    1.0  57.0  4.1   2.0   0.0   0.0  0.0  0.0  ...      0.147   \n",
       "..    ...  ...    ...   ...  ...   ...   ...   ...  ...  ...  ...        ...   \n",
       "99   10.0   10    3.0  32.0  2.7   2.0  95.0  95.0  1.0  1.0  ...      0.100   \n",
       "100  72.0  霍金双    3.0  62.0  2.3   2.0  95.0  95.0  1.0  1.0  ...      0.036   \n",
       "101  36.0   36    3.0  64.0  5.5   3.0  95.0   5.0  1.0  1.0  ...      0.035   \n",
       "102   6.0    6    3.0  51.0  6.9   3.0  95.0  15.0  1.0  1.0  ...      0.080   \n",
       "103  14.0   14    3.0  64.0  5.1   3.0  99.0   3.0  1.0  1.0  ...      0.076   \n",
       "\n",
       "     含氧量（E1）      Δ氧t1  含氧量（E2）      Δ氧t2  HIF-1  TWIST-1  ITGB  RCB分级  米勒分级  \n",
       "0      0.734  1.398693    0.967  2.160131   25.0     25.0  23.0    1.0   5.0  \n",
       "1      0.253  0.744828    0.435  2.000000   35.0     30.0  24.0    1.0   5.0  \n",
       "2      0.508  0.577640    0.700  1.173913   34.0     29.0  23.0    1.0   5.0  \n",
       "3      0.567  0.125000    0.848  0.682540   31.0     26.0  22.0    1.0   5.0  \n",
       "4      0.361  1.455782    0.683  3.646259   35.0     30.0  27.0    1.0   5.0  \n",
       "..       ...       ...      ...       ...    ...      ...   ...    ...   ...  \n",
       "99     0.248  1.480000    0.442  3.420000   79.0     72.0  70.0    3.0   2.0  \n",
       "100    0.200  4.555556    0.228  5.333333   89.0     85.0  82.0    3.0   2.0  \n",
       "101    0.083  1.371429    0.130  2.714286   91.0     45.0  82.0    3.0   1.0  \n",
       "102    0.218  1.725000    0.302  2.775000   82.0     78.0  75.0    3.0   1.0  \n",
       "103    0.079  0.039474    0.099  0.302632   43.0     80.0  78.0    3.0   1.0  \n",
       "\n",
       "[104 rows x 40 columns]"
      ]
     },
     "execution_count": 10,
     "metadata": {},
     "output_type": "execute_result"
    }
   ],
   "source": [
    "df"
   ]
  },
  {
   "cell_type": "code",
   "execution_count": 11,
   "metadata": {},
   "outputs": [],
   "source": [
    "names = ['年龄', '大小', '临床分期', 'ER', 'PR', 'ER2', 'PR2', 'Her-2', '矫正后的KI67（2）', '分子分型2', \n",
    "              '病理类型', '病理分级', '基线最大（E0max）', '最大1', 'ΔEmaxt1', '最大2', 'ΔEmaxt2', '基线平均（E0mean）',\n",
    "              '平均1', 'ΔEmeant1', '平均2', 'ΔEmeant2', '基线含血量（E0）', '含血量（E1）', 'Δ血t1', \n",
    "              '含血量（E2）', 'Δ血t2', '基线含氧量（E0）', '含氧量（E1）', 'Δ氧t1', '含氧量（E2）', 'Δ氧t2', \n",
    "              'HIF-1', 'TWIST-1', 'ITGB']"
   ]
  },
  {
   "cell_type": "code",
   "execution_count": 30,
   "metadata": {},
   "outputs": [
    {
     "data": {
      "text/plain": [
       "35"
      ]
     },
     "execution_count": 30,
     "metadata": {},
     "output_type": "execute_result"
    }
   ],
   "source": [
    "len(names)"
   ]
  },
  {
   "cell_type": "code",
   "execution_count": 12,
   "metadata": {},
   "outputs": [],
   "source": [
    "results = ['RCB分级']\n",
    "results2 = ['米勒分级']"
   ]
  },
  {
   "cell_type": "code",
   "execution_count": 13,
   "metadata": {
    "scrolled": false
   },
   "outputs": [],
   "source": [
    "df_x = df[names][0:80]"
   ]
  },
  {
   "cell_type": "code",
   "execution_count": 14,
   "metadata": {},
   "outputs": [],
   "source": [
    "df_y = df[results][0:80]\n",
    "df_y2 = df[results2][0:80]"
   ]
  },
  {
   "cell_type": "code",
   "execution_count": 15,
   "metadata": {
    "scrolled": true
   },
   "outputs": [],
   "source": [
    "X = np.array(df_x)\n",
    "y = np.array(df_y)\n",
    "y2 = np.array(df_y2)"
   ]
  },
  {
   "cell_type": "code",
   "execution_count": 16,
   "metadata": {},
   "outputs": [],
   "source": [
    "y = y.ravel()\n",
    "y2 = y2.ravel()"
   ]
  },
  {
   "cell_type": "code",
   "execution_count": 17,
   "metadata": {},
   "outputs": [
    {
     "data": {
      "text/plain": [
       "SVC(C=1.0, cache_size=200, class_weight=None, coef0=0.0,\n",
       "    decision_function_shape='ovo', degree=3, gamma='auto_deprecated',\n",
       "    kernel='linear', max_iter=-1, probability=False, random_state=None,\n",
       "    shrinking=True, tol=0.001, verbose=False)"
      ]
     },
     "execution_count": 17,
     "metadata": {},
     "output_type": "execute_result"
    }
   ],
   "source": [
    "clf = svm.SVC(kernel='linear', decision_function_shape='ovo')\n",
    "clf.fit(X, y)\n",
    "\n",
    "clf2 = svm.SVC(kernel='linear', decision_function_shape='ovo')\n",
    "clf2.fit(X, y2)"
   ]
  },
  {
   "cell_type": "code",
   "execution_count": 18,
   "metadata": {},
   "outputs": [],
   "source": [
    "X_test = np.array(df[names][81:104])\n",
    "y_test = np.array(df[results][81:104]).ravel()\n",
    "y_test2 = np.array(df[results2][81:104]).ravel()"
   ]
  },
  {
   "cell_type": "code",
   "execution_count": 19,
   "metadata": {},
   "outputs": [],
   "source": [
    "y_predict = clf.predict(X_test)\n",
    "y_predict2 = clf2.predict(X_test)"
   ]
  },
  {
   "cell_type": "code",
   "execution_count": 20,
   "metadata": {},
   "outputs": [
    {
     "data": {
      "text/plain": [
       "23"
      ]
     },
     "execution_count": 20,
     "metadata": {},
     "output_type": "execute_result"
    }
   ],
   "source": [
    "len(y_predict)"
   ]
  },
  {
   "cell_type": "code",
   "execution_count": 21,
   "metadata": {},
   "outputs": [
    {
     "data": {
      "text/plain": [
       "array([3., 1., 1., 1., 1., 1., 1., 1., 1., 2., 2., 3., 3., 3., 1., 1., 1.,\n",
       "       2., 3., 2., 2., 3., 2.])"
      ]
     },
     "execution_count": 21,
     "metadata": {},
     "output_type": "execute_result"
    }
   ],
   "source": [
    "y_predict"
   ]
  },
  {
   "cell_type": "code",
   "execution_count": 22,
   "metadata": {},
   "outputs": [
    {
     "data": {
      "text/plain": [
       "array([3., 1., 1., 1., 1., 1., 2., 2., 2., 2., 3., 3., 3., 3., 1., 2., 2.,\n",
       "       2., 3., 3., 3., 3., 3.])"
      ]
     },
     "execution_count": 22,
     "metadata": {},
     "output_type": "execute_result"
    }
   ],
   "source": [
    "y_test"
   ]
  },
  {
   "cell_type": "code",
   "execution_count": 23,
   "metadata": {},
   "outputs": [],
   "source": [
    "cm = np.array(confusion_matrix(y_test, y_predict, labels=[1,2,3]))\n",
    "confusion = pd.DataFrame(cm, index=[1,2,3], columns=['predictive 1', 'predictive 2', 'predictive 3'])\n",
    "\n",
    "cm2 = np.array(confusion_matrix(y_test2, y_predict2, labels=[1,2,3,4,5]))\n",
    "confusion2 = pd.DataFrame(cm2, index=[1,2,3,4,5], columns=['predictive 1', 'predictive 2', 'predictive 3', 'predictive 4', 'predictive 5'])"
   ]
  },
  {
   "cell_type": "code",
   "execution_count": 24,
   "metadata": {},
   "outputs": [
    {
     "data": {
      "text/plain": [
       "array([[6, 0, 0],\n",
       "       [5, 2, 0],\n",
       "       [0, 4, 6]], dtype=int64)"
      ]
     },
     "execution_count": 24,
     "metadata": {},
     "output_type": "execute_result"
    }
   ],
   "source": [
    "cm"
   ]
  },
  {
   "cell_type": "code",
   "execution_count": 25,
   "metadata": {
    "scrolled": true
   },
   "outputs": [
    {
     "data": {
      "text/html": [
       "<div>\n",
       "<style scoped>\n",
       "    .dataframe tbody tr th:only-of-type {\n",
       "        vertical-align: middle;\n",
       "    }\n",
       "\n",
       "    .dataframe tbody tr th {\n",
       "        vertical-align: top;\n",
       "    }\n",
       "\n",
       "    .dataframe thead th {\n",
       "        text-align: right;\n",
       "    }\n",
       "</style>\n",
       "<table border=\"1\" class=\"dataframe\">\n",
       "  <thead>\n",
       "    <tr style=\"text-align: right;\">\n",
       "      <th></th>\n",
       "      <th>predictive 1</th>\n",
       "      <th>predictive 2</th>\n",
       "      <th>predictive 3</th>\n",
       "    </tr>\n",
       "  </thead>\n",
       "  <tbody>\n",
       "    <tr>\n",
       "      <th>1</th>\n",
       "      <td>6</td>\n",
       "      <td>0</td>\n",
       "      <td>0</td>\n",
       "    </tr>\n",
       "    <tr>\n",
       "      <th>2</th>\n",
       "      <td>5</td>\n",
       "      <td>2</td>\n",
       "      <td>0</td>\n",
       "    </tr>\n",
       "    <tr>\n",
       "      <th>3</th>\n",
       "      <td>0</td>\n",
       "      <td>4</td>\n",
       "      <td>6</td>\n",
       "    </tr>\n",
       "  </tbody>\n",
       "</table>\n",
       "</div>"
      ],
      "text/plain": [
       "   predictive 1  predictive 2  predictive 3\n",
       "1             6             0             0\n",
       "2             5             2             0\n",
       "3             0             4             6"
      ]
     },
     "execution_count": 25,
     "metadata": {},
     "output_type": "execute_result"
    }
   ],
   "source": [
    "confusion"
   ]
  },
  {
   "cell_type": "code",
   "execution_count": 26,
   "metadata": {},
   "outputs": [
    {
     "data": {
      "text/html": [
       "<div>\n",
       "<style scoped>\n",
       "    .dataframe tbody tr th:only-of-type {\n",
       "        vertical-align: middle;\n",
       "    }\n",
       "\n",
       "    .dataframe tbody tr th {\n",
       "        vertical-align: top;\n",
       "    }\n",
       "\n",
       "    .dataframe thead th {\n",
       "        text-align: right;\n",
       "    }\n",
       "</style>\n",
       "<table border=\"1\" class=\"dataframe\">\n",
       "  <thead>\n",
       "    <tr style=\"text-align: right;\">\n",
       "      <th></th>\n",
       "      <th>predictive 1</th>\n",
       "      <th>predictive 2</th>\n",
       "      <th>predictive 3</th>\n",
       "      <th>predictive 4</th>\n",
       "      <th>predictive 5</th>\n",
       "    </tr>\n",
       "  </thead>\n",
       "  <tbody>\n",
       "    <tr>\n",
       "      <th>1</th>\n",
       "      <td>4</td>\n",
       "      <td>1</td>\n",
       "      <td>1</td>\n",
       "      <td>0</td>\n",
       "      <td>0</td>\n",
       "    </tr>\n",
       "    <tr>\n",
       "      <th>2</th>\n",
       "      <td>1</td>\n",
       "      <td>1</td>\n",
       "      <td>4</td>\n",
       "      <td>0</td>\n",
       "      <td>0</td>\n",
       "    </tr>\n",
       "    <tr>\n",
       "      <th>3</th>\n",
       "      <td>0</td>\n",
       "      <td>1</td>\n",
       "      <td>3</td>\n",
       "      <td>0</td>\n",
       "      <td>1</td>\n",
       "    </tr>\n",
       "    <tr>\n",
       "      <th>4</th>\n",
       "      <td>0</td>\n",
       "      <td>0</td>\n",
       "      <td>2</td>\n",
       "      <td>1</td>\n",
       "      <td>0</td>\n",
       "    </tr>\n",
       "    <tr>\n",
       "      <th>5</th>\n",
       "      <td>0</td>\n",
       "      <td>0</td>\n",
       "      <td>1</td>\n",
       "      <td>0</td>\n",
       "      <td>2</td>\n",
       "    </tr>\n",
       "  </tbody>\n",
       "</table>\n",
       "</div>"
      ],
      "text/plain": [
       "   predictive 1  predictive 2  predictive 3  predictive 4  predictive 5\n",
       "1             4             1             1             0             0\n",
       "2             1             1             4             0             0\n",
       "3             0             1             3             0             1\n",
       "4             0             0             2             1             0\n",
       "5             0             0             1             0             2"
      ]
     },
     "execution_count": 26,
     "metadata": {},
     "output_type": "execute_result"
    }
   ],
   "source": [
    "confusion2"
   ]
  },
  {
   "cell_type": "code",
   "execution_count": 27,
   "metadata": {},
   "outputs": [
    {
     "name": "stdout",
     "output_type": "stream",
     "text": [
      "              precision    recall  f1-score   support\n",
      "\n",
      "         1.0       0.55      1.00      0.71         6\n",
      "         2.0       0.33      0.29      0.31         7\n",
      "         3.0       1.00      0.60      0.75        10\n",
      "\n",
      "    accuracy                           0.61        23\n",
      "   macro avg       0.63      0.63      0.59        23\n",
      "weighted avg       0.68      0.61      0.60        23\n",
      "\n"
     ]
    }
   ],
   "source": [
    "print(classification_report(y_test, y_predict))"
   ]
  },
  {
   "cell_type": "code",
   "execution_count": 28,
   "metadata": {},
   "outputs": [
    {
     "name": "stdout",
     "output_type": "stream",
     "text": [
      "              precision    recall  f1-score   support\n",
      "\n",
      "         1.0       0.80      0.67      0.73         6\n",
      "         2.0       0.33      0.17      0.22         6\n",
      "         3.0       0.27      0.60      0.37         5\n",
      "         4.0       1.00      0.33      0.50         3\n",
      "         5.0       0.67      0.67      0.67         3\n",
      "\n",
      "    accuracy                           0.48        23\n",
      "   macro avg       0.61      0.49      0.50        23\n",
      "weighted avg       0.57      0.48      0.48        23\n",
      "\n"
     ]
    }
   ],
   "source": [
    "print(classification_report(y_test2, y_predict2))"
   ]
  },
  {
   "cell_type": "code",
   "execution_count": 29,
   "metadata": {},
   "outputs": [
    {
     "name": "stdout",
     "output_type": "stream",
     "text": [
      "w =  [[ 1.33311034e-03  5.32810000e-01  1.31005876e-01  2.81835012e-02\n",
      "   4.77320655e-02  4.33620812e-02  1.13283146e-02  7.98867096e-02\n",
      "   5.46797354e-02 -6.18554584e-02  3.54245827e-02 -4.47996485e-02\n",
      "   3.07141838e-02 -9.94720094e-02  6.94596006e-03  1.37253687e-01\n",
      "   2.13966390e-02  1.91172584e-02  2.94367035e-01  2.31578130e-04\n",
      "  -4.78368189e-01  6.95048503e-04 -7.48782469e-02 -1.14599610e-01\n",
      "  -4.06892311e-02 -7.78301381e-02 -2.45402913e-02  3.56949281e-03\n",
      "   8.73120103e-02  8.33393307e-02  9.15381735e-02 -3.74440675e-01\n",
      "  -1.17371864e-01 -1.33202837e-01 -8.54191543e-03]\n",
      " [-5.48786172e-03  9.63049998e-04  0.00000000e+00 -1.25283198e-02\n",
      "   1.38460219e-02  1.22144094e-05 -4.16127480e-04 -2.19017577e-04\n",
      "   2.72692297e-02 -6.81414405e-04  0.00000000e+00  0.00000000e+00\n",
      "   1.22125002e-02 -6.52612542e-04  2.91673070e-05 -1.66409331e-02\n",
      "   1.08359963e-05 -8.56668335e-04 -4.63009433e-03 -2.15920365e-04\n",
      "  -1.97959218e-02 -2.88252396e-04 -1.57298880e-04 -4.46238469e-04\n",
      "  -2.05155885e-04 -5.70854065e-04 -2.81014734e-04  2.94001473e-05\n",
      "   3.91441618e-04  8.73251805e-04  6.38834851e-04  1.79245968e-03\n",
      "  -1.67033083e-02 -2.81377051e-02 -2.30470773e-02]\n",
      " [-4.81044481e-02 -1.62789062e-01 -7.28690665e-02  5.92704975e-02\n",
      "   2.73594157e-02 -9.80491018e-02 -2.88315952e-01 -2.51274315e-01\n",
      "   2.72048305e-01 -2.64159906e-02 -2.60292065e-03  7.92819243e-02\n",
      "   2.05088885e-01 -1.28246877e-01  1.81572898e-02  1.42529263e-01\n",
      "   1.61127261e-02  2.67202321e-02  1.16009976e-01  3.53198004e-02\n",
      "  -7.39964746e-01  3.69627674e-02  2.92823585e-01  3.99845239e-01\n",
      "   8.94132298e-02  2.19394095e-01  2.52018604e-02 -5.12775683e-02\n",
      "  -2.37301763e-01 -5.40388435e-01 -2.30126931e-01  5.53699023e-01\n",
      "  -2.82496016e-01 -1.13535111e-01 -2.69391661e-02]]\n",
      "b =  [-0.26853428  3.78952673  4.06624213]\n",
      "Indices of support vectors =  [ 1  4  5  6 54 59 18 21 22 26 29 31 33 36 38 44 46 56 62 63 65 66 68 40\n",
      " 41 49 52 57 71 73 75 76]\n",
      "Support vectors =  [[42.   7.5  3.  ... 35.  30.  24. ]\n",
      " [57.   4.1  2.  ... 35.  30.  27. ]\n",
      " [52.   1.4  1.  ... 25.  43.  57. ]\n",
      " ...\n",
      " [44.   7.7  3.  ... 82.  78.  76. ]\n",
      " [42.   3.   2.  ... 95.  61.  86. ]\n",
      " [42.  15.   3.  ... 54.  94.  53. ]]\n",
      "Number of support vectors for each class =  [ 6 17  9]\n",
      "Coefficients of the support vector in the decision function =  [[4.87160549e-02 5.48814162e-02 3.54245827e-02 6.03532066e-03\n",
      "  2.68219139e-01 3.20337666e-02 0.00000000e+00 4.47996485e-02\n",
      "  7.41705198e-04 4.18753619e-02 1.43364745e-02 1.48294123e-02\n",
      "  7.18368533e-02 0.00000000e+00 0.00000000e+00 5.30539104e-02\n",
      "  0.00000000e+00 3.13373945e-02 0.00000000e+00 1.38084856e-02\n",
      "  3.78187040e-02 0.00000000e+00 1.20872330e-01 9.20081535e-04\n",
      "  0.00000000e+00 0.00000000e+00 0.00000000e+00 0.00000000e+00\n",
      "  8.66309899e-04 0.00000000e+00 0.00000000e+00 0.00000000e+00]\n",
      " [0.00000000e+00 2.50881539e-04 0.00000000e+00 6.56985587e-04\n",
      "  4.50182419e-04 4.28341890e-04 8.18848450e-02 0.00000000e+00\n",
      "  0.00000000e+00 0.00000000e+00 0.00000000e+00 0.00000000e+00\n",
      "  0.00000000e+00 2.92260951e-01 1.13713991e-02 0.00000000e+00\n",
      "  1.22664279e-01 0.00000000e+00 2.84329826e-01 0.00000000e+00\n",
      "  1.43887087e-01 7.72874133e-02 0.00000000e+00 9.72012436e-02\n",
      "  1.90266850e-01 2.60292065e-03 3.80078308e-01 1.71768275e-01\n",
      "  0.00000000e+00 5.54277283e-02 9.88991358e-02 1.74413382e-02]]\n"
     ]
    }
   ],
   "source": [
    "print('w = ',clf.coef_)\n",
    "print('b = ',clf.intercept_)\n",
    "print('Indices of support vectors = ', clf.support_)\n",
    "print('Support vectors = ', clf.support_vectors_)\n",
    "print('Number of support vectors for each class = ', clf.n_support_)\n",
    "print('Coefficients of the support vector in the decision function = ', np.abs(clf.dual_coef_))"
   ]
  },
  {
   "cell_type": "code",
   "execution_count": null,
   "metadata": {},
   "outputs": [],
   "source": []
  }
 ],
 "metadata": {
  "kernelspec": {
   "display_name": "Python 3",
   "language": "python",
   "name": "python3"
  },
  "language_info": {
   "codemirror_mode": {
    "name": "ipython",
    "version": 3
   },
   "file_extension": ".py",
   "mimetype": "text/x-python",
   "name": "python",
   "nbconvert_exporter": "python",
   "pygments_lexer": "ipython3",
   "version": "3.7.4"
  }
 },
 "nbformat": 4,
 "nbformat_minor": 2
}
