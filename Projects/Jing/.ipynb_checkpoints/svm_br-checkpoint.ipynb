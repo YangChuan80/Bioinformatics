{
 "cells": [
  {
   "cell_type": "code",
   "execution_count": 1,
   "metadata": {},
   "outputs": [],
   "source": [
    "from PIL import Image\n",
    "import numpy as np\n",
    "import pandas as pd\n",
    "import matplotlib.pyplot as plt\n",
    "\n",
    "from sklearn import svm\n",
    "from sklearn.metrics import classification_report, confusion_matrix\n",
    "from sklearn.externals import joblib\n",
    "from os import walk\n",
    "\n",
    "import time\n",
    "\n",
    "import xlrd\n",
    "\n",
    "%matplotlib inline"
   ]
  },
  {
   "cell_type": "code",
   "execution_count": 2,
   "metadata": {},
   "outputs": [
    {
     "data": {
      "text/plain": [
       "\"\\nfor sheet_name in sheet_names:    \\n    nrows=book.sheet_by_name(sheet_name).nrows\\n    current_header=book.sheet_by_name(sheet_name).row_values(2) \\n    current_data=[book.sheet_by_name(sheet_name).row_values(i) for i in range(3, nrows)]\\n    sheets[sheet_name]=pd.DataFrame(current_data, columns=current_header)   #DataFrame Construction\\n#Feedback\\nprint('Data Extracted!')\\n\""
      ]
     },
     "execution_count": 2,
     "metadata": {},
     "output_type": "execute_result"
    }
   ],
   "source": [
    "#Import File\n",
    "filename='I://Chuan//Documents//My Data//ZhangJing//ZhangData 1122.xlsx'\n",
    "book=xlrd.open_workbook(filename)\n",
    "\n",
    "#Extraction\n",
    "nsheets=book.nsheets\n",
    "\n",
    "sheet_names=book.sheet_names()\n",
    "\n",
    "nrows=book.sheet_by_name(sheet_names[0]).nrows\n",
    "current_header=book.sheet_by_name(sheet_names[0]).row_values(0) \n",
    "current_data=[book.sheet_by_name(sheet_names[0]).row_values(i) for i in range(1, nrows)]\n",
    "df=pd.DataFrame(current_data, columns=current_header)   #DataFrame Construction\n",
    "\n",
    "sheet_names[0]\n",
    "'''\n",
    "for sheet_name in sheet_names:    \n",
    "    nrows=book.sheet_by_name(sheet_name).nrows\n",
    "    current_header=book.sheet_by_name(sheet_name).row_values(2) \n",
    "    current_data=[book.sheet_by_name(sheet_name).row_values(i) for i in range(3, nrows)]\n",
    "    sheets[sheet_name]=pd.DataFrame(current_data, columns=current_header)   #DataFrame Construction\n",
    "#Feedback\n",
    "print('Data Extracted!')\n",
    "'''"
   ]
  },
  {
   "cell_type": "code",
   "execution_count": 3,
   "metadata": {},
   "outputs": [
    {
     "data": {
      "text/plain": [
       "pandas.core.series.Series"
      ]
     },
     "execution_count": 3,
     "metadata": {},
     "output_type": "execute_result"
    }
   ],
   "source": [
    "type(df['ER'])"
   ]
  },
  {
   "cell_type": "code",
   "execution_count": 4,
   "metadata": {},
   "outputs": [
    {
     "data": {
      "text/html": [
       "<div>\n",
       "<style scoped>\n",
       "    .dataframe tbody tr th:only-of-type {\n",
       "        vertical-align: middle;\n",
       "    }\n",
       "\n",
       "    .dataframe tbody tr th {\n",
       "        vertical-align: top;\n",
       "    }\n",
       "\n",
       "    .dataframe thead th {\n",
       "        text-align: right;\n",
       "    }\n",
       "</style>\n",
       "<table border=\"1\" class=\"dataframe\">\n",
       "  <thead>\n",
       "    <tr style=\"text-align: right;\">\n",
       "      <th></th>\n",
       "      <th>编号</th>\n",
       "      <th>患者</th>\n",
       "      <th>group</th>\n",
       "      <th>年龄</th>\n",
       "      <th>大小</th>\n",
       "      <th>临床分期</th>\n",
       "      <th>ER</th>\n",
       "      <th>PR</th>\n",
       "      <th>ER2</th>\n",
       "      <th>PR2</th>\n",
       "      <th>...</th>\n",
       "      <th>含氧量（E1）</th>\n",
       "      <th>Δ氧t1</th>\n",
       "      <th>含氧量（E2）</th>\n",
       "      <th>Δ氧t2</th>\n",
       "      <th>HIF-1</th>\n",
       "      <th>TWIST-1</th>\n",
       "      <th>ITGB</th>\n",
       "      <th>RCB分级1</th>\n",
       "      <th>RCB分级2</th>\n",
       "      <th>米勒分级</th>\n",
       "    </tr>\n",
       "  </thead>\n",
       "  <tbody>\n",
       "    <tr>\n",
       "      <th>0</th>\n",
       "      <td>29.0</td>\n",
       "      <td>29</td>\n",
       "      <td>2.0</td>\n",
       "      <td>57.0</td>\n",
       "      <td>1.1</td>\n",
       "      <td>1.0</td>\n",
       "      <td>5.0</td>\n",
       "      <td>5.0</td>\n",
       "      <td>1.0</td>\n",
       "      <td>1.0</td>\n",
       "      <td>...</td>\n",
       "      <td>1.050</td>\n",
       "      <td>0.567164</td>\n",
       "      <td>1.097</td>\n",
       "      <td>0.637313</td>\n",
       "      <td>20.0</td>\n",
       "      <td>18.0</td>\n",
       "      <td>17.0</td>\n",
       "      <td>2.0</td>\n",
       "      <td>1.0</td>\n",
       "      <td>5.0</td>\n",
       "    </tr>\n",
       "    <tr>\n",
       "      <th>1</th>\n",
       "      <td>57.0</td>\n",
       "      <td>57</td>\n",
       "      <td>2.0</td>\n",
       "      <td>50.0</td>\n",
       "      <td>2.4</td>\n",
       "      <td>2.0</td>\n",
       "      <td>0.0</td>\n",
       "      <td>0.0</td>\n",
       "      <td>0.0</td>\n",
       "      <td>0.0</td>\n",
       "      <td>...</td>\n",
       "      <td>0.691</td>\n",
       "      <td>0.151667</td>\n",
       "      <td>0.846</td>\n",
       "      <td>0.410000</td>\n",
       "      <td>33.0</td>\n",
       "      <td>30.0</td>\n",
       "      <td>30.0</td>\n",
       "      <td>2.0</td>\n",
       "      <td>1.0</td>\n",
       "      <td>3.0</td>\n",
       "    </tr>\n",
       "    <tr>\n",
       "      <th>2</th>\n",
       "      <td>7.0</td>\n",
       "      <td>7</td>\n",
       "      <td>2.0</td>\n",
       "      <td>57.0</td>\n",
       "      <td>1.0</td>\n",
       "      <td>1.0</td>\n",
       "      <td>5.0</td>\n",
       "      <td>2.0</td>\n",
       "      <td>1.0</td>\n",
       "      <td>1.0</td>\n",
       "      <td>...</td>\n",
       "      <td>0.990</td>\n",
       "      <td>0.500000</td>\n",
       "      <td>1.067</td>\n",
       "      <td>0.616667</td>\n",
       "      <td>28.0</td>\n",
       "      <td>24.0</td>\n",
       "      <td>56.0</td>\n",
       "      <td>2.0</td>\n",
       "      <td>1.0</td>\n",
       "      <td>5.0</td>\n",
       "    </tr>\n",
       "    <tr>\n",
       "      <th>3</th>\n",
       "      <td>60.0</td>\n",
       "      <td>60</td>\n",
       "      <td>2.0</td>\n",
       "      <td>57.0</td>\n",
       "      <td>1.5</td>\n",
       "      <td>1.0</td>\n",
       "      <td>5.0</td>\n",
       "      <td>5.0</td>\n",
       "      <td>1.0</td>\n",
       "      <td>1.0</td>\n",
       "      <td>...</td>\n",
       "      <td>0.985</td>\n",
       "      <td>0.450663</td>\n",
       "      <td>0.997</td>\n",
       "      <td>0.468336</td>\n",
       "      <td>31.0</td>\n",
       "      <td>27.0</td>\n",
       "      <td>26.0</td>\n",
       "      <td>2.0</td>\n",
       "      <td>1.0</td>\n",
       "      <td>5.0</td>\n",
       "    </tr>\n",
       "    <tr>\n",
       "      <th>4</th>\n",
       "      <td>52.0</td>\n",
       "      <td>52</td>\n",
       "      <td>2.0</td>\n",
       "      <td>57.0</td>\n",
       "      <td>1.5</td>\n",
       "      <td>1.0</td>\n",
       "      <td>5.0</td>\n",
       "      <td>2.0</td>\n",
       "      <td>1.0</td>\n",
       "      <td>1.0</td>\n",
       "      <td>...</td>\n",
       "      <td>0.934</td>\n",
       "      <td>0.375552</td>\n",
       "      <td>0.977</td>\n",
       "      <td>0.438881</td>\n",
       "      <td>40.0</td>\n",
       "      <td>15.0</td>\n",
       "      <td>17.0</td>\n",
       "      <td>2.0</td>\n",
       "      <td>1.0</td>\n",
       "      <td>5.0</td>\n",
       "    </tr>\n",
       "    <tr>\n",
       "      <th>...</th>\n",
       "      <td>...</td>\n",
       "      <td>...</td>\n",
       "      <td>...</td>\n",
       "      <td>...</td>\n",
       "      <td>...</td>\n",
       "      <td>...</td>\n",
       "      <td>...</td>\n",
       "      <td>...</td>\n",
       "      <td>...</td>\n",
       "      <td>...</td>\n",
       "      <td>...</td>\n",
       "      <td>...</td>\n",
       "      <td>...</td>\n",
       "      <td>...</td>\n",
       "      <td>...</td>\n",
       "      <td>...</td>\n",
       "      <td>...</td>\n",
       "      <td>...</td>\n",
       "      <td>...</td>\n",
       "      <td>...</td>\n",
       "      <td>...</td>\n",
       "    </tr>\n",
       "    <tr>\n",
       "      <th>99</th>\n",
       "      <td>102.0</td>\n",
       "      <td>赵越</td>\n",
       "      <td>2.0</td>\n",
       "      <td>30.0</td>\n",
       "      <td>4.6</td>\n",
       "      <td>2.0</td>\n",
       "      <td>95.0</td>\n",
       "      <td>70.0</td>\n",
       "      <td>1.0</td>\n",
       "      <td>1.0</td>\n",
       "      <td>...</td>\n",
       "      <td>0.201</td>\n",
       "      <td>2.092308</td>\n",
       "      <td>0.496</td>\n",
       "      <td>6.631000</td>\n",
       "      <td>96.0</td>\n",
       "      <td>80.0</td>\n",
       "      <td>80.0</td>\n",
       "      <td>2.0</td>\n",
       "      <td>1.0</td>\n",
       "      <td>2.0</td>\n",
       "    </tr>\n",
       "    <tr>\n",
       "      <th>100</th>\n",
       "      <td>68.0</td>\n",
       "      <td>戴玉芳</td>\n",
       "      <td>2.0</td>\n",
       "      <td>58.0</td>\n",
       "      <td>8.9</td>\n",
       "      <td>3.0</td>\n",
       "      <td>90.0</td>\n",
       "      <td>5.0</td>\n",
       "      <td>1.0</td>\n",
       "      <td>1.0</td>\n",
       "      <td>...</td>\n",
       "      <td>0.381</td>\n",
       "      <td>0.895522</td>\n",
       "      <td>0.433</td>\n",
       "      <td>1.154000</td>\n",
       "      <td>73.0</td>\n",
       "      <td>70.0</td>\n",
       "      <td>35.0</td>\n",
       "      <td>2.0</td>\n",
       "      <td>1.0</td>\n",
       "      <td>2.0</td>\n",
       "    </tr>\n",
       "    <tr>\n",
       "      <th>101</th>\n",
       "      <td>98.0</td>\n",
       "      <td>张岩</td>\n",
       "      <td>2.0</td>\n",
       "      <td>36.0</td>\n",
       "      <td>4.3</td>\n",
       "      <td>2.0</td>\n",
       "      <td>0.0</td>\n",
       "      <td>0.0</td>\n",
       "      <td>0.0</td>\n",
       "      <td>0.0</td>\n",
       "      <td>...</td>\n",
       "      <td>0.207</td>\n",
       "      <td>3.928571</td>\n",
       "      <td>0.248</td>\n",
       "      <td>4.904762</td>\n",
       "      <td>85.0</td>\n",
       "      <td>73.0</td>\n",
       "      <td>69.0</td>\n",
       "      <td>2.0</td>\n",
       "      <td>1.0</td>\n",
       "      <td>2.0</td>\n",
       "    </tr>\n",
       "    <tr>\n",
       "      <th>102</th>\n",
       "      <td>92.0</td>\n",
       "      <td>闫秀英</td>\n",
       "      <td>3.0</td>\n",
       "      <td>42.0</td>\n",
       "      <td>15.0</td>\n",
       "      <td>3.0</td>\n",
       "      <td>80.0</td>\n",
       "      <td>1.0</td>\n",
       "      <td>1.0</td>\n",
       "      <td>1.0</td>\n",
       "      <td>...</td>\n",
       "      <td>0.079</td>\n",
       "      <td>0.053333</td>\n",
       "      <td>0.251</td>\n",
       "      <td>2.347000</td>\n",
       "      <td>54.0</td>\n",
       "      <td>94.0</td>\n",
       "      <td>53.0</td>\n",
       "      <td>2.0</td>\n",
       "      <td>2.0</td>\n",
       "      <td>1.0</td>\n",
       "    </tr>\n",
       "    <tr>\n",
       "      <th>103</th>\n",
       "      <td>101.0</td>\n",
       "      <td>赵丽娟</td>\n",
       "      <td>2.0</td>\n",
       "      <td>45.0</td>\n",
       "      <td>3.2</td>\n",
       "      <td>2.0</td>\n",
       "      <td>95.0</td>\n",
       "      <td>70.0</td>\n",
       "      <td>1.0</td>\n",
       "      <td>1.0</td>\n",
       "      <td>...</td>\n",
       "      <td>0.336</td>\n",
       "      <td>3.602740</td>\n",
       "      <td>0.470</td>\n",
       "      <td>5.438000</td>\n",
       "      <td>65.0</td>\n",
       "      <td>60.0</td>\n",
       "      <td>21.0</td>\n",
       "      <td>2.0</td>\n",
       "      <td>1.0</td>\n",
       "      <td>3.0</td>\n",
       "    </tr>\n",
       "  </tbody>\n",
       "</table>\n",
       "<p>104 rows × 41 columns</p>\n",
       "</div>"
      ],
      "text/plain": [
       "        编号   患者  group    年龄    大小  临床分期    ER    PR  ER2  PR2  ...  含氧量（E1）  \\\n",
       "0     29.0   29    2.0  57.0   1.1   1.0   5.0   5.0  1.0  1.0  ...    1.050   \n",
       "1     57.0   57    2.0  50.0   2.4   2.0   0.0   0.0  0.0  0.0  ...    0.691   \n",
       "2      7.0    7    2.0  57.0   1.0   1.0   5.0   2.0  1.0  1.0  ...    0.990   \n",
       "3     60.0   60    2.0  57.0   1.5   1.0   5.0   5.0  1.0  1.0  ...    0.985   \n",
       "4     52.0   52    2.0  57.0   1.5   1.0   5.0   2.0  1.0  1.0  ...    0.934   \n",
       "..     ...  ...    ...   ...   ...   ...   ...   ...  ...  ...  ...      ...   \n",
       "99   102.0   赵越    2.0  30.0   4.6   2.0  95.0  70.0  1.0  1.0  ...    0.201   \n",
       "100   68.0  戴玉芳    2.0  58.0   8.9   3.0  90.0   5.0  1.0  1.0  ...    0.381   \n",
       "101   98.0   张岩    2.0  36.0   4.3   2.0   0.0   0.0  0.0  0.0  ...    0.207   \n",
       "102   92.0  闫秀英    3.0  42.0  15.0   3.0  80.0   1.0  1.0  1.0  ...    0.079   \n",
       "103  101.0  赵丽娟    2.0  45.0   3.2   2.0  95.0  70.0  1.0  1.0  ...    0.336   \n",
       "\n",
       "         Δ氧t1  含氧量（E2）      Δ氧t2  HIF-1  TWIST-1  ITGB  RCB分级1  RCB分级2  米勒分级  \n",
       "0    0.567164    1.097  0.637313   20.0     18.0  17.0     2.0     1.0   5.0  \n",
       "1    0.151667    0.846  0.410000   33.0     30.0  30.0     2.0     1.0   3.0  \n",
       "2    0.500000    1.067  0.616667   28.0     24.0  56.0     2.0     1.0   5.0  \n",
       "3    0.450663    0.997  0.468336   31.0     27.0  26.0     2.0     1.0   5.0  \n",
       "4    0.375552    0.977  0.438881   40.0     15.0  17.0     2.0     1.0   5.0  \n",
       "..        ...      ...       ...    ...      ...   ...     ...     ...   ...  \n",
       "99   2.092308    0.496  6.631000   96.0     80.0  80.0     2.0     1.0   2.0  \n",
       "100  0.895522    0.433  1.154000   73.0     70.0  35.0     2.0     1.0   2.0  \n",
       "101  3.928571    0.248  4.904762   85.0     73.0  69.0     2.0     1.0   2.0  \n",
       "102  0.053333    0.251  2.347000   54.0     94.0  53.0     2.0     2.0   1.0  \n",
       "103  3.602740    0.470  5.438000   65.0     60.0  21.0     2.0     1.0   3.0  \n",
       "\n",
       "[104 rows x 41 columns]"
      ]
     },
     "execution_count": 4,
     "metadata": {},
     "output_type": "execute_result"
    }
   ],
   "source": [
    "df"
   ]
  },
  {
   "cell_type": "code",
   "execution_count": 5,
   "metadata": {},
   "outputs": [],
   "source": [
    "names_all = ['年龄', '大小', '临床分期', 'ER', 'PR', 'ER2', 'PR2', 'Her-2', '矫正后的KI67（2）', '分子分型2', \n",
    "              '病理类型', '病理分级', '基线最大（E0max）', '最大1', 'ΔEmaxt1', '最大2', 'ΔEmaxt2', '基线平均（E0mean）',\n",
    "              '平均1', 'ΔEmeant1', '平均2', 'ΔEmeant2', '基线含血量（E0）', '含血量（E1）', 'Δ血t1', \n",
    "              '含血量（E2）', 'Δ血t2', '基线含氧量（E0）', '含氧量（E1）', 'Δ氧t1', '含氧量（E2）', 'Δ氧t2', \n",
    "              'HIF-1', 'TWIST-1', 'ITGB']"
   ]
  },
  {
   "cell_type": "code",
   "execution_count": 6,
   "metadata": {},
   "outputs": [],
   "source": [
    "names = ['基线最大（E0max）', '最大1']"
   ]
  },
  {
   "cell_type": "code",
   "execution_count": 7,
   "metadata": {},
   "outputs": [
    {
     "data": {
      "text/plain": [
       "2"
      ]
     },
     "execution_count": 7,
     "metadata": {},
     "output_type": "execute_result"
    }
   ],
   "source": [
    "len(names)"
   ]
  },
  {
   "cell_type": "code",
   "execution_count": 8,
   "metadata": {},
   "outputs": [],
   "source": [
    "results1 = ['RCB分级1']\n",
    "results2 = ['RCB分级2']\n",
    "results = ['米勒分级']"
   ]
  },
  {
   "cell_type": "code",
   "execution_count": 9,
   "metadata": {
    "scrolled": false
   },
   "outputs": [],
   "source": [
    "df_x1 = df[names][0:80]"
   ]
  },
  {
   "cell_type": "code",
   "execution_count": 10,
   "metadata": {},
   "outputs": [],
   "source": [
    "df_y1 = df[results1][0:80]\n",
    "df_y2 = df[results2][0:80]"
   ]
  },
  {
   "cell_type": "code",
   "execution_count": 11,
   "metadata": {
    "scrolled": true
   },
   "outputs": [],
   "source": [
    "X1 = np.array(df_x1)\n",
    "y1 = np.array(df_y1)\n",
    "y2 = np.array(df_y2)"
   ]
  },
  {
   "cell_type": "code",
   "execution_count": 12,
   "metadata": {},
   "outputs": [],
   "source": [
    "y1 = y1.ravel()\n",
    "y2 = y2.ravel()"
   ]
  },
  {
   "cell_type": "code",
   "execution_count": 13,
   "metadata": {},
   "outputs": [
    {
     "data": {
      "text/plain": [
       "SVC(C=1.0, cache_size=200, class_weight=None, coef0=0.0,\n",
       "  decision_function_shape='ovo', degree=3, gamma='auto_deprecated',\n",
       "  kernel='linear', max_iter=-1, probability=False, random_state=None,\n",
       "  shrinking=True, tol=0.001, verbose=False)"
      ]
     },
     "execution_count": 13,
     "metadata": {},
     "output_type": "execute_result"
    }
   ],
   "source": [
    "clf1 = svm.SVC(kernel='linear', decision_function_shape='ovo')\n",
    "clf1.fit(X1, y1)\n",
    "\n",
    "clf2 = svm.SVC(kernel='linear', decision_function_shape='ovo')\n",
    "clf2.fit(X1, y2)"
   ]
  },
  {
   "cell_type": "code",
   "execution_count": 14,
   "metadata": {},
   "outputs": [],
   "source": [
    "X_test1 = np.array(df[names][81:104])\n",
    "y_test1 = np.array(df[results1][81:104]).ravel()\n",
    "y_test2 = np.array(df[results2][81:104]).ravel()"
   ]
  },
  {
   "cell_type": "code",
   "execution_count": 15,
   "metadata": {},
   "outputs": [],
   "source": [
    "y_predict1 = clf1.predict(X_test1)\n",
    "y_predict2 = clf2.predict(X_test1)"
   ]
  },
  {
   "cell_type": "code",
   "execution_count": 16,
   "metadata": {},
   "outputs": [
    {
     "data": {
      "text/plain": [
       "23"
      ]
     },
     "execution_count": 16,
     "metadata": {},
     "output_type": "execute_result"
    }
   ],
   "source": [
    "len(y_predict1)"
   ]
  },
  {
   "cell_type": "code",
   "execution_count": 17,
   "metadata": {},
   "outputs": [
    {
     "data": {
      "text/plain": [
       "array([2., 2., 2., 2., 2., 2., 2., 2., 2., 2., 2., 2., 2., 2., 2., 2., 2.,\n",
       "       2., 2., 2., 2., 2., 2.])"
      ]
     },
     "execution_count": 17,
     "metadata": {},
     "output_type": "execute_result"
    }
   ],
   "source": [
    "y_predict1"
   ]
  },
  {
   "cell_type": "code",
   "execution_count": 18,
   "metadata": {},
   "outputs": [
    {
     "data": {
      "text/plain": [
       "array([2., 1., 1., 1., 2., 1., 2., 1., 2., 2., 2., 1., 2., 2., 2., 2., 2.,\n",
       "       2., 2., 2., 2., 2., 2.])"
      ]
     },
     "execution_count": 18,
     "metadata": {},
     "output_type": "execute_result"
    }
   ],
   "source": [
    "y_test1"
   ]
  },
  {
   "cell_type": "code",
   "execution_count": 19,
   "metadata": {},
   "outputs": [],
   "source": [
    "cm1 = np.array(confusion_matrix(y_test1, y_predict1, labels=[1,2]))\n",
    "confusion1 = pd.DataFrame(cm1, index=[1,2], columns=['predictive 1', 'predictive 2'])\n",
    "\n",
    "cm2 = np.array(confusion_matrix(y_test2, y_predict2, labels=[1,2]))\n",
    "confusion2 = pd.DataFrame(cm2, index=[1,2], columns=['predictive 1', 'predictive 2'])"
   ]
  },
  {
   "cell_type": "code",
   "execution_count": 20,
   "metadata": {},
   "outputs": [
    {
     "data": {
      "text/plain": [
       "array([[ 0,  6],\n",
       "       [ 0, 17]], dtype=int64)"
      ]
     },
     "execution_count": 20,
     "metadata": {},
     "output_type": "execute_result"
    }
   ],
   "source": [
    "cm1"
   ]
  },
  {
   "cell_type": "code",
   "execution_count": 21,
   "metadata": {
    "scrolled": true
   },
   "outputs": [
    {
     "data": {
      "text/html": [
       "<div>\n",
       "<style scoped>\n",
       "    .dataframe tbody tr th:only-of-type {\n",
       "        vertical-align: middle;\n",
       "    }\n",
       "\n",
       "    .dataframe tbody tr th {\n",
       "        vertical-align: top;\n",
       "    }\n",
       "\n",
       "    .dataframe thead th {\n",
       "        text-align: right;\n",
       "    }\n",
       "</style>\n",
       "<table border=\"1\" class=\"dataframe\">\n",
       "  <thead>\n",
       "    <tr style=\"text-align: right;\">\n",
       "      <th></th>\n",
       "      <th>predictive 1</th>\n",
       "      <th>predictive 2</th>\n",
       "    </tr>\n",
       "  </thead>\n",
       "  <tbody>\n",
       "    <tr>\n",
       "      <th>1</th>\n",
       "      <td>0</td>\n",
       "      <td>6</td>\n",
       "    </tr>\n",
       "    <tr>\n",
       "      <th>2</th>\n",
       "      <td>0</td>\n",
       "      <td>17</td>\n",
       "    </tr>\n",
       "  </tbody>\n",
       "</table>\n",
       "</div>"
      ],
      "text/plain": [
       "   predictive 1  predictive 2\n",
       "1             0             6\n",
       "2             0            17"
      ]
     },
     "execution_count": 21,
     "metadata": {},
     "output_type": "execute_result"
    }
   ],
   "source": [
    "confusion1"
   ]
  },
  {
   "cell_type": "code",
   "execution_count": 22,
   "metadata": {},
   "outputs": [
    {
     "data": {
      "text/html": [
       "<div>\n",
       "<style scoped>\n",
       "    .dataframe tbody tr th:only-of-type {\n",
       "        vertical-align: middle;\n",
       "    }\n",
       "\n",
       "    .dataframe tbody tr th {\n",
       "        vertical-align: top;\n",
       "    }\n",
       "\n",
       "    .dataframe thead th {\n",
       "        text-align: right;\n",
       "    }\n",
       "</style>\n",
       "<table border=\"1\" class=\"dataframe\">\n",
       "  <thead>\n",
       "    <tr style=\"text-align: right;\">\n",
       "      <th></th>\n",
       "      <th>predictive 1</th>\n",
       "      <th>predictive 2</th>\n",
       "    </tr>\n",
       "  </thead>\n",
       "  <tbody>\n",
       "    <tr>\n",
       "      <th>1</th>\n",
       "      <td>15</td>\n",
       "      <td>0</td>\n",
       "    </tr>\n",
       "    <tr>\n",
       "      <th>2</th>\n",
       "      <td>8</td>\n",
       "      <td>0</td>\n",
       "    </tr>\n",
       "  </tbody>\n",
       "</table>\n",
       "</div>"
      ],
      "text/plain": [
       "   predictive 1  predictive 2\n",
       "1            15             0\n",
       "2             8             0"
      ]
     },
     "execution_count": 22,
     "metadata": {},
     "output_type": "execute_result"
    }
   ],
   "source": [
    "confusion2"
   ]
  },
  {
   "cell_type": "code",
   "execution_count": 23,
   "metadata": {},
   "outputs": [
    {
     "name": "stdout",
     "output_type": "stream",
     "text": [
      "              precision    recall  f1-score   support\n",
      "\n",
      "         1.0       0.00      0.00      0.00         6\n",
      "         2.0       0.74      1.00      0.85        17\n",
      "\n",
      "   micro avg       0.74      0.74      0.74        23\n",
      "   macro avg       0.37      0.50      0.42        23\n",
      "weighted avg       0.55      0.74      0.63        23\n",
      "\n"
     ]
    },
    {
     "name": "stderr",
     "output_type": "stream",
     "text": [
      "C:\\Anaconda3\\lib\\site-packages\\sklearn\\metrics\\classification.py:1143: UndefinedMetricWarning: Precision and F-score are ill-defined and being set to 0.0 in labels with no predicted samples.\n",
      "  'precision', 'predicted', average, warn_for)\n"
     ]
    }
   ],
   "source": [
    "print(classification_report(y_test1, y_predict1))"
   ]
  },
  {
   "cell_type": "code",
   "execution_count": 24,
   "metadata": {},
   "outputs": [
    {
     "name": "stdout",
     "output_type": "stream",
     "text": [
      "              precision    recall  f1-score   support\n",
      "\n",
      "         1.0       0.65      1.00      0.79        15\n",
      "         2.0       0.00      0.00      0.00         8\n",
      "\n",
      "   micro avg       0.65      0.65      0.65        23\n",
      "   macro avg       0.33      0.50      0.39        23\n",
      "weighted avg       0.43      0.65      0.51        23\n",
      "\n"
     ]
    }
   ],
   "source": [
    "print(classification_report(y_test2, y_predict2))"
   ]
  },
  {
   "cell_type": "code",
   "execution_count": 25,
   "metadata": {
    "scrolled": false
   },
   "outputs": [
    {
     "name": "stdout",
     "output_type": "stream",
     "text": [
      "w =  [[ 0.00035597 -0.00025748]]\n",
      "b =  [0.98548415]\n",
      "Indices of support vectors =  [13 15 16 18 21 30 31 36 37 40 45 48 49 50 52 58 76  0  1  2  3  4  6  7\n",
      "  8 10 11 20 34 42 43 60 64 67 69 72]\n",
      "Support vectors =  [[118.   92.4]\n",
      " [ 84.9  69.4]\n",
      " [ 63.9  60.3]\n",
      " [ 90.5  74.9]\n",
      " [129.9 118.8]\n",
      " [ 62.9  57.2]\n",
      " [ 64.5  60.2]\n",
      " [135.  120.6]\n",
      " [138.2 125.9]\n",
      " [141.6 131.9]\n",
      " [135.4 121.6]\n",
      " [136.8 126.2]\n",
      " [129.4 100.5]\n",
      " [141.6 135.9]\n",
      " [130.9 104.9]\n",
      " [141.  135.1]\n",
      " [163.  140.4]\n",
      " [ 60.2  41.4]\n",
      " [ 70.6  51.7]\n",
      " [ 75.   54.7]\n",
      " [ 65.2  40.7]\n",
      " [ 63.1  47.6]\n",
      " [ 69.1  58.2]\n",
      " [ 68.5  60.7]\n",
      " [ 79.5  75.4]\n",
      " [ 83.7  80.4]\n",
      " [ 86.7  85. ]\n",
      " [131.  125.5]\n",
      " [ 82.6  57.1]\n",
      " [180.5 162.3]\n",
      " [175.1 161.3]\n",
      " [254.3 214.6]\n",
      " [197.1 195.4]\n",
      " [250.2 235.6]\n",
      " [144.6 138.7]\n",
      " [180.5 162.3]]\n",
      "Number of support vectors for each class =  [17 19]\n",
      "Coefficients of the support vector in the decision function =  [[1.         1.         1.         1.         1.         1.\n",
      "  1.         1.         1.         1.         1.         1.\n",
      "  1.         1.         1.         1.         1.         1.\n",
      "  1.         1.         1.         1.         1.         1.\n",
      "  1.         1.         1.         0.76362511 0.03207357 1.\n",
      "  1.         1.         1.         0.20430132 1.         1.        ]]\n"
     ]
    }
   ],
   "source": [
    "print('w = ',clf1.coef_)\n",
    "print('b = ',clf1.intercept_)\n",
    "print('Indices of support vectors = ', clf1.support_)\n",
    "print('Support vectors = ', clf1.support_vectors_)\n",
    "print('Number of support vectors for each class = ', clf1.n_support_)\n",
    "print('Coefficients of the support vector in the decision function = ', np.abs(clf1.dual_coef_))"
   ]
  },
  {
   "cell_type": "code",
   "execution_count": null,
   "metadata": {},
   "outputs": [],
   "source": []
  }
 ],
 "metadata": {
  "kernelspec": {
   "display_name": "Python 3",
   "language": "python",
   "name": "python3"
  },
  "language_info": {
   "codemirror_mode": {
    "name": "ipython",
    "version": 3
   },
   "file_extension": ".py",
   "mimetype": "text/x-python",
   "name": "python",
   "nbconvert_exporter": "python",
   "pygments_lexer": "ipython3",
   "version": "3.7.3"
  }
 },
 "nbformat": 4,
 "nbformat_minor": 2
}
