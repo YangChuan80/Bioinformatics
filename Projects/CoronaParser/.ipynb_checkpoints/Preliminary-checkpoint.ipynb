{
 "cells": [
  {
   "cell_type": "markdown",
   "metadata": {},
   "source": [
    "# Modules"
   ]
  },
  {
   "cell_type": "code",
   "execution_count": 1,
   "metadata": {},
   "outputs": [],
   "source": [
    "import numpy as np\n",
    "import pandas as pd\n",
    "import matplotlib.pyplot as plt\n",
    "%matplotlib inline"
   ]
  },
  {
   "cell_type": "code",
   "execution_count": 2,
   "metadata": {},
   "outputs": [],
   "source": [
    "def loadCoronaVirusDNA(filename):\n",
    "    f = open(filename)\n",
    "    dna=''\n",
    "    for line in f:\n",
    "        if line[0] != '>':\n",
    "            dna += line.rstrip()\n",
    "        else:\n",
    "            header = line.split()\n",
    "            name = header[0][1:]\n",
    "    return name, dna"
   ]
  },
  {
   "cell_type": "markdown",
   "metadata": {},
   "source": [
    "# Virus Data"
   ]
  },
  {
   "cell_type": "markdown",
   "metadata": {},
   "source": [
    "## 1. Wuhan 2019 nCov: \n",
    "Severe acute respiratory syndrome coronavirus 2 isolate Wuhan-Hu-1, complete genome\n",
    "GenBank: MN908947.3\n",
    "\n",
    "https://www.ncbi.nlm.nih.gov/nuccore/MN908947"
   ]
  },
  {
   "cell_type": "code",
   "execution_count": 3,
   "metadata": {},
   "outputs": [],
   "source": [
    "coronavirusname, coronavirusdna = loadCoronaVirusDNA('Virus/MN908947_wuhan.fa')"
   ]
  },
  {
   "cell_type": "markdown",
   "metadata": {},
   "source": [
    "## 2. SARS coronavirus GZ02, complete genome\n",
    "GenBank: AY390556.1\n",
    "\n",
    "https://www.ncbi.nlm.nih.gov/nuccore/AY390556.1"
   ]
  },
  {
   "cell_type": "code",
   "execution_count": 4,
   "metadata": {},
   "outputs": [],
   "source": [
    "sarscoronavirusname, sarscoronavirusdna = loadCoronaVirusDNA('Virus/AY390556.1_2003_SARS.fa')"
   ]
  },
  {
   "cell_type": "markdown",
   "metadata": {},
   "source": [
    "## 3. Human immunodeficiency virus 1, complete genome\n",
    "\n",
    "NCBI Reference Sequence: NC_001802.1\n",
    "\n",
    "https://www.ncbi.nlm.nih.gov/nuccore/NC_001802.1"
   ]
  },
  {
   "cell_type": "code",
   "execution_count": 5,
   "metadata": {},
   "outputs": [],
   "source": [
    "hivname, hivdna = loadCoronaVirusDNA('Virus/NC_001802.1_HIV.fa')"
   ]
  },
  {
   "cell_type": "markdown",
   "metadata": {},
   "source": [
    "# Verification"
   ]
  },
  {
   "cell_type": "code",
   "execution_count": 6,
   "metadata": {},
   "outputs": [
    {
     "data": {
      "text/plain": [
       "'MN908947.3'"
      ]
     },
     "execution_count": 6,
     "metadata": {},
     "output_type": "execute_result"
    }
   ],
   "source": [
    "coronavirusname"
   ]
  },
  {
   "cell_type": "code",
   "execution_count": 7,
   "metadata": {},
   "outputs": [
    {
     "data": {
      "text/plain": [
       "'NC_001802.1'"
      ]
     },
     "execution_count": 7,
     "metadata": {},
     "output_type": "execute_result"
    }
   ],
   "source": [
    "hivname"
   ]
  },
  {
   "cell_type": "code",
   "execution_count": 8,
   "metadata": {},
   "outputs": [
    {
     "data": {
      "text/plain": [
       "29903"
      ]
     },
     "execution_count": 8,
     "metadata": {},
     "output_type": "execute_result"
    }
   ],
   "source": [
    "len(coronavirusdna)"
   ]
  },
  {
   "cell_type": "code",
   "execution_count": 9,
   "metadata": {},
   "outputs": [
    {
     "data": {
      "text/plain": [
       "29760"
      ]
     },
     "execution_count": 9,
     "metadata": {},
     "output_type": "execute_result"
    }
   ],
   "source": [
    "len(sarscoronavirusdna)"
   ]
  },
  {
   "cell_type": "code",
   "execution_count": 10,
   "metadata": {},
   "outputs": [
    {
     "data": {
      "text/plain": [
       "9181"
      ]
     },
     "execution_count": 10,
     "metadata": {},
     "output_type": "execute_result"
    }
   ],
   "source": [
    "len(hivdna)"
   ]
  },
  {
   "cell_type": "code",
   "execution_count": 11,
   "metadata": {},
   "outputs": [],
   "source": [
    "def reverseComplement(sequence):\n",
    "    complement = {'A': 'T', 'T': 'A', 'C': 'G', 'G': 'C', 'N': 'N'}\n",
    "    csequence=''\n",
    "    for s in sequence:\n",
    "        csequence = complement[s] + csequence\n",
    "    return csequence"
   ]
  },
  {
   "cell_type": "code",
   "execution_count": 12,
   "metadata": {},
   "outputs": [],
   "source": [
    "def naive_with_rc(p, t):\n",
    "    appearance = []\n",
    "    \n",
    "    for i in range(len(t) - len(p) + 1):\n",
    "        for j in range(len(p)):\n",
    "            match = True\n",
    "            if t[i + j] != p[j]:\n",
    "                match = False\n",
    "                break                \n",
    "        if match == True:\n",
    "            appearance.append(i)\n",
    "                \n",
    "    cappearance = []\n",
    "    cp = reverseComplement(p)\n",
    "    \n",
    "    for i in range(len(t) - len(cp) + 1):\n",
    "        for j in range(len(cp)):\n",
    "            match = True\n",
    "            if t[i + j] != cp[j]:\n",
    "                match = False\n",
    "                break                \n",
    "        if match == True:\n",
    "            cappearance.append(i)\n",
    "    #return len(appearance) + len(cappearance)\n",
    "    return appearance, cappearance        "
   ]
  },
  {
   "cell_type": "markdown",
   "metadata": {},
   "source": [
    "### Question 1\n",
    "How many times does AGGT or its reverse complement (ACCT) occur in the coronavirus genome? E.g. if AGGT occurs 10 times and ACCT occurs 12 times, you should report 22.\n",
    "Answer: "
   ]
  },
  {
   "cell_type": "code",
   "execution_count": 13,
   "metadata": {},
   "outputs": [],
   "source": [
    "appearances = naive_with_rc('AGGT', coronavirusdna)"
   ]
  },
  {
   "cell_type": "code",
   "execution_count": 14,
   "metadata": {},
   "outputs": [
    {
     "data": {
      "text/plain": [
       "265"
      ]
     },
     "execution_count": 14,
     "metadata": {},
     "output_type": "execute_result"
    }
   ],
   "source": [
    "len(appearances[0]) + len(appearances[1])"
   ]
  },
  {
   "cell_type": "code",
   "execution_count": 15,
   "metadata": {},
   "outputs": [
    {
     "data": {
      "text/plain": [
       "([5,\n",
       "  21,\n",
       "  234,\n",
       "  258,\n",
       "  329,\n",
       "  374,\n",
       "  623,\n",
       "  1320,\n",
       "  1557,\n",
       "  1572,\n",
       "  1587,\n",
       "  1596,\n",
       "  1740,\n",
       "  1818,\n",
       "  2070,\n",
       "  2175,\n",
       "  2379,\n",
       "  2729,\n",
       "  2766,\n",
       "  3063,\n",
       "  3132,\n",
       "  3284,\n",
       "  3416,\n",
       "  3471,\n",
       "  3636,\n",
       "  4833,\n",
       "  4854,\n",
       "  4970,\n",
       "  5106,\n",
       "  5197,\n",
       "  5430,\n",
       "  5439,\n",
       "  5607,\n",
       "  5844,\n",
       "  6530,\n",
       "  6615,\n",
       "  6984,\n",
       "  7014,\n",
       "  7270,\n",
       "  7558,\n",
       "  7584,\n",
       "  7863,\n",
       "  8369,\n",
       "  9084,\n",
       "  9174,\n",
       "  9460,\n",
       "  9996,\n",
       "  10322,\n",
       "  10587,\n",
       "  10702,\n",
       "  10956,\n",
       "  11499,\n",
       "  11532,\n",
       "  12563,\n",
       "  12795,\n",
       "  12799,\n",
       "  12904,\n",
       "  12927,\n",
       "  12981,\n",
       "  13302,\n",
       "  13395,\n",
       "  13847,\n",
       "  13973,\n",
       "  14120,\n",
       "  14274,\n",
       "  14492,\n",
       "  15470,\n",
       "  15758,\n",
       "  16179,\n",
       "  16394,\n",
       "  16433,\n",
       "  16841,\n",
       "  16871,\n",
       "  17047,\n",
       "  17531,\n",
       "  18076,\n",
       "  18146,\n",
       "  18365,\n",
       "  18377,\n",
       "  18404,\n",
       "  18788,\n",
       "  18870,\n",
       "  18970,\n",
       "  19475,\n",
       "  19822,\n",
       "  20054,\n",
       "  20066,\n",
       "  20084,\n",
       "  20354,\n",
       "  20474,\n",
       "  20566,\n",
       "  20897,\n",
       "  21149,\n",
       "  21449,\n",
       "  21488,\n",
       "  21793,\n",
       "  22254,\n",
       "  22270,\n",
       "  22329,\n",
       "  22770,\n",
       "  22892,\n",
       "  23013,\n",
       "  23208,\n",
       "  23381,\n",
       "  23475,\n",
       "  23565,\n",
       "  24004,\n",
       "  24231,\n",
       "  24274,\n",
       "  24544,\n",
       "  24837,\n",
       "  25059,\n",
       "  25124,\n",
       "  25215,\n",
       "  25442,\n",
       "  25904,\n",
       "  26270,\n",
       "  26593,\n",
       "  26651,\n",
       "  27085,\n",
       "  27094,\n",
       "  27223,\n",
       "  27467,\n",
       "  28401,\n",
       "  29274],\n",
       " [13,\n",
       "  501,\n",
       "  872,\n",
       "  1023,\n",
       "  1057,\n",
       "  1401,\n",
       "  1610,\n",
       "  2224,\n",
       "  2260,\n",
       "  2568,\n",
       "  2673,\n",
       "  2698,\n",
       "  3138,\n",
       "  3174,\n",
       "  3291,\n",
       "  3455,\n",
       "  3921,\n",
       "  4167,\n",
       "  4701,\n",
       "  4752,\n",
       "  4898,\n",
       "  4918,\n",
       "  4997,\n",
       "  5088,\n",
       "  5127,\n",
       "  5340,\n",
       "  5619,\n",
       "  5670,\n",
       "  5694,\n",
       "  6111,\n",
       "  6228,\n",
       "  6283,\n",
       "  6591,\n",
       "  6924,\n",
       "  7102,\n",
       "  7122,\n",
       "  7162,\n",
       "  7841,\n",
       "  7965,\n",
       "  8290,\n",
       "  8324,\n",
       "  8478,\n",
       "  8637,\n",
       "  8919,\n",
       "  9163,\n",
       "  9167,\n",
       "  9372,\n",
       "  9567,\n",
       "  9663,\n",
       "  9672,\n",
       "  9743,\n",
       "  9808,\n",
       "  9861,\n",
       "  10027,\n",
       "  10036,\n",
       "  10186,\n",
       "  10347,\n",
       "  10602,\n",
       "  10745,\n",
       "  10773,\n",
       "  10806,\n",
       "  10929,\n",
       "  11100,\n",
       "  11187,\n",
       "  11814,\n",
       "  12082,\n",
       "  12450,\n",
       "  12621,\n",
       "  12897,\n",
       "  12921,\n",
       "  12971,\n",
       "  13320,\n",
       "  13816,\n",
       "  14175,\n",
       "  14405,\n",
       "  14929,\n",
       "  15277,\n",
       "  15477,\n",
       "  15850,\n",
       "  15863,\n",
       "  15922,\n",
       "  16190,\n",
       "  16608,\n",
       "  16748,\n",
       "  16830,\n",
       "  16946,\n",
       "  17084,\n",
       "  17237,\n",
       "  17450,\n",
       "  17774,\n",
       "  17974,\n",
       "  18107,\n",
       "  18115,\n",
       "  18164,\n",
       "  18173,\n",
       "  18186,\n",
       "  18353,\n",
       "  18385,\n",
       "  18398,\n",
       "  18419,\n",
       "  18481,\n",
       "  18644,\n",
       "  18654,\n",
       "  18793,\n",
       "  19061,\n",
       "  19261,\n",
       "  19591,\n",
       "  19766,\n",
       "  20186,\n",
       "  20402,\n",
       "  20734,\n",
       "  20765,\n",
       "  21729,\n",
       "  22094,\n",
       "  22374,\n",
       "  22913,\n",
       "  22947,\n",
       "  22995,\n",
       "  23139,\n",
       "  24104,\n",
       "  24147,\n",
       "  24220,\n",
       "  24729,\n",
       "  24987,\n",
       "  25669,\n",
       "  25865,\n",
       "  26076,\n",
       "  26402,\n",
       "  26583,\n",
       "  27009,\n",
       "  27301,\n",
       "  27491,\n",
       "  27641,\n",
       "  28057,\n",
       "  28144,\n",
       "  28168,\n",
       "  28460,\n",
       "  28607,\n",
       "  29247,\n",
       "  29266])"
      ]
     },
     "execution_count": 15,
     "metadata": {},
     "output_type": "execute_result"
    }
   ],
   "source": [
    "appearances"
   ]
  },
  {
   "cell_type": "markdown",
   "metadata": {},
   "source": [
    "### Question 2\n",
    "As we will discuss, sometimes we would like to find **approximate matches** for P in T. That is, we want to find occurrences with one or more differences.\n",
    "\n",
    "For Questions 5 and 6, make a new version of the naive function called naive_2mm that allows up to 2 mismatches per occurrence. Unlike for the previous questions, do not consider the reverse complement here. We're looking for approximate matches for P itself, not its reverse complement. ￼\n",
    "\n",
    "For example, ACTTTA occurs twice in ACTTACTTGATAAAGT, once at offset 0 with 2 mismatches, and once at offset 4 with 1 mismatch. So naive_2mm('ACTTTA', 'ACTTACTTGATAAAGT') should return the list [0, 4].\n",
    "\n",
    "Hint: See this notebook for a few examples you can use to test your naive_2mm function.\n",
    "\n",
    "How many times does TTCAAGCC occur in the Lambda virus genome when allowing up to 2 mismatches?"
   ]
  },
  {
   "cell_type": "code",
   "execution_count": 16,
   "metadata": {},
   "outputs": [],
   "source": [
    "def naive_2mm(p, t):\n",
    "    appearance = []    \n",
    "    \n",
    "    for i in range(len(t) - len(p) + 1):\n",
    "        mismatch = 0\n",
    "        for j in range(len(p)):            \n",
    "            if t[i + j] != p[j]:\n",
    "                mismatch += 1\n",
    "                if mismatch == 3:\n",
    "                    break                \n",
    "        if mismatch <= 2:\n",
    "            appearance.append(i)\n",
    "            \n",
    "    return appearance"
   ]
  },
  {
   "cell_type": "code",
   "execution_count": 17,
   "metadata": {},
   "outputs": [
    {
     "data": {
      "text/plain": [
       "119"
      ]
     },
     "execution_count": 17,
     "metadata": {},
     "output_type": "execute_result"
    }
   ],
   "source": [
    "appearances = naive_2mm('TTCAAGCC', coronavirusdna)\n",
    "appearances[0]\n",
    "len(appearances)"
   ]
  },
  {
   "cell_type": "code",
   "execution_count": 18,
   "metadata": {},
   "outputs": [],
   "source": [
    "codon = {'ATT': ('Isoleucine', 'Ile', 'I'),\n",
    "         'ATC': ('Isoleucine', 'Ile', 'I'),\n",
    "         'ATA': ('Isoleucine', 'Ile', 'I'),\n",
    "         \n",
    "         'CTT': ('Leucine', 'Leu', 'L'),\n",
    "         'CTC': ('Leucine', 'Leu', 'L'),\n",
    "         'CTA': ('Leucine', 'Leu', 'L'),\n",
    "         'CTG': ('Leucine', 'Leu', 'L'),\n",
    "         'TTA': ('Leucine', 'Leu', 'L'),\n",
    "         'TTG': ('Leucine', 'Leu', 'L'),\n",
    "         \n",
    "         'GTT': ('Valine', 'Val', 'V'),\n",
    "         'GTC': ('Valine', 'Val', 'V'),\n",
    "         'GTA': ('Valine', 'Val', 'V'),\n",
    "         'GTG': ('Valine', 'Val', 'V'),\n",
    "         \n",
    "         'TTT': ('Phenylalanine', 'Phe', 'F'),\n",
    "         'TTC': ('Phenylalanine', 'Phe', 'F'),\n",
    "         \n",
    "         'ATG': ('Methionine', 'Met', 'M'),\n",
    "         \n",
    "         'TGT': ('Cysteine ', 'Cys', 'C'),\n",
    "         'TGC': ('Cysteine ', 'Cys', 'C'),         \n",
    "         \n",
    "         'GCT': ('Alanine', 'Ala', 'A'),\n",
    "         'GCC': ('Alanine', 'Ala', 'A'),\n",
    "         'GCA': ('Alanine', 'Ala', 'A'),\n",
    "         'GCG': ('Alanine', 'Ala', 'A'),\n",
    "         \n",
    "         'GGT': ('Glycine ', 'Gly', 'G'),\n",
    "         'GGC': ('Glycine ', 'Gly', 'G'),\n",
    "         'GGA': ('Glycine ', 'Gly', 'G'),\n",
    "         'GGG': ('Glycine ', 'Gly', 'G'),\n",
    "         \n",
    "         'CCT': ('Proline', 'Pro', 'P'),\n",
    "         'CCC': ('Proline', 'Pro', 'P'),\n",
    "         'CCA': ('Proline', 'Pro', 'P'),\n",
    "         'CCG': ('Proline', 'Pro', 'P'),\n",
    "         \n",
    "         'ACT': ('Threonine', 'Thr', 'T'),\n",
    "         'ACC': ('Threonine', 'Thr', 'T'),\n",
    "         'ACA': ('Threonine', 'Thr', 'T'),\n",
    "         'ACG': ('Threonine', 'Thr', 'T'),\n",
    "         \n",
    "         'TCT': ('Serine', 'Ser', 'S'),\n",
    "         'TCC': ('Serine', 'Ser', 'S'),\n",
    "         'TCA': ('Serine', 'Ser', 'S'),\n",
    "         'TCG': ('Serine', 'Ser', 'S'),\n",
    "         'AGT': ('Serine', 'Ser', 'S'),\n",
    "         'AGC': ('Serine', 'Ser', 'S'),\n",
    "         \n",
    "         'TAT': ('Tyrosine', 'Tyr', 'Y'),\n",
    "         'TAC': ('Tyrosine', 'Tyr', 'Y'),\n",
    "         \n",
    "         'TGG': ('Tryptophan', 'Trp', 'W'),\n",
    "         \n",
    "         'CAA': ('Glutamine', 'Gln', 'Q'),\n",
    "         'CAG': ('Glutamine', 'Gln', 'Q'),\n",
    "         \n",
    "         'AAT': ('Asparagine', 'Asn', 'N'),\n",
    "         'AAC': ('Asparagine', 'Asn', 'N'),\n",
    "         \n",
    "         'CAT': ('Histidine ', 'His', 'H'),\n",
    "         'CAC': ('Histidine ', 'His', 'H'),\n",
    "         \n",
    "         'GAA': ('Glutamic acid', 'Glu', 'E'),\n",
    "         'GAG': ('Glutamic acid', 'Glu', 'E'),\n",
    "         \n",
    "         'GAT': ('Aspartic acid', 'Asp', 'D'),\n",
    "         'GAC': ('Aspartic acid', 'Asp', 'D'),\n",
    "                  \n",
    "         'AAA': ('Lysine', 'Lys', 'K'),\n",
    "         'AAG': ('Lysine', 'Lys', 'K'),\n",
    "         \n",
    "         'CGT': ('Arginine', 'Arg', 'R'),\n",
    "         'CGC': ('Arginine', 'Arg', 'R'),\n",
    "         'CGA': ('Arginine', 'Arg', 'R'),\n",
    "         'CGG': ('Arginine', 'Arg', 'R'),\n",
    "         'AGA': ('Arginine', 'Arg', 'R'),\n",
    "         'AGG': ('Arginine', 'Arg', 'R'),\n",
    "         \n",
    "         'TAA': ('Stop', 'Stop', '___'),\n",
    "         'TAG': ('Stop', 'Stop', '___'),\n",
    "         'TGA': ('Stop', 'Stop', '___')\n",
    "         }"
   ]
  },
  {
   "cell_type": "code",
   "execution_count": 19,
   "metadata": {},
   "outputs": [],
   "source": [
    "def translate(dna):\n",
    "    aminoacid = ''\n",
    "    amino = ''\n",
    "    a = ''\n",
    "    i = 0\n",
    "    dna_len = len(dna)\n",
    "    DNA = dna.upper()\n",
    "    \n",
    "    while(1):\n",
    "        if i+3 <= dna_len:\n",
    "            c = DNA[i:i+3]\n",
    "            residue = codon[c][0]\n",
    "            res = codon[c][1]\n",
    "            r = codon[c][2]\n",
    "            \n",
    "            if i == 0:\n",
    "                aminoacid = residue\n",
    "                amino = res\n",
    "                a = a + r\n",
    "                \n",
    "            else:\n",
    "                aminoacid = aminoacid + '-' + residue\n",
    "                amino = amino + '-' + res\n",
    "                a = a + r\n",
    "\n",
    "            i = i + 3\n",
    "        else:\n",
    "            break\n",
    "    return aminoacid, amino, a"
   ]
  },
  {
   "cell_type": "code",
   "execution_count": 20,
   "metadata": {},
   "outputs": [],
   "source": [
    "seq = 'ATTGCTTCTTTCAGACTGTTTGCGCGTACGCGTTCCATGTGGTCATTCAATCCAGAAACTAACATTCTTC'"
   ]
  },
  {
   "cell_type": "code",
   "execution_count": 21,
   "metadata": {},
   "outputs": [],
   "source": [
    "result = translate(seq)"
   ]
  },
  {
   "cell_type": "code",
   "execution_count": 22,
   "metadata": {},
   "outputs": [
    {
     "data": {
      "text/plain": [
       "('Isoleucine-Alanine-Serine-Phenylalanine-Arginine-Leucine-Phenylalanine-Alanine-Arginine-Threonine-Arginine-Serine-Methionine-Tryptophan-Serine-Phenylalanine-Asparagine-Proline-Glutamic acid-Threonine-Asparagine-Isoleucine-Leucine',\n",
       " 'Ile-Ala-Ser-Phe-Arg-Leu-Phe-Ala-Arg-Thr-Arg-Ser-Met-Trp-Ser-Phe-Asn-Pro-Glu-Thr-Asn-Ile-Leu',\n",
       " 'IASFRLFARTRSMWSFNPETNIL')"
      ]
     },
     "execution_count": 22,
     "metadata": {},
     "output_type": "execute_result"
    }
   ],
   "source": [
    "result"
   ]
  },
  {
   "cell_type": "code",
   "execution_count": 23,
   "metadata": {
    "scrolled": true
   },
   "outputs": [],
   "source": [
    "protein_tuple = translate(coronavirusdna[26522:27190])"
   ]
  },
  {
   "cell_type": "code",
   "execution_count": 24,
   "metadata": {},
   "outputs": [
    {
     "data": {
      "text/plain": [
       "'MADSNGTITVEELKKLLEQWNLVIGFLFLTWICLLQFAYANRNRFLYIIKLIFLWLLWPVTLACFVLAAVYRINWITGGIAIAMACLVGLMWLSYFIASFRLFARTRSMWSFNPETNILLNVPLHGTILTRPLLESELVIGAVILRGHLRIAGHHLGRCDIKDLPKEITVATSRTLSYYKLGASQRVAGDSGFAAYSRYRIGNYKLNTDHSSSSDNIALLVQ'"
      ]
     },
     "execution_count": 24,
     "metadata": {},
     "output_type": "execute_result"
    }
   ],
   "source": [
    "protein_tuple[2]"
   ]
  },
  {
   "cell_type": "code",
   "execution_count": 26,
   "metadata": {},
   "outputs": [
    {
     "data": {
      "text/plain": [
       "'ATGTTTGTTTTTCTTGTTTTATTGCCACTAGTCTCTAGTCAGTGTGTTAATCTTACAACCAGAACTCAATTACCCCCTGCATACACTAATTCTTTCACACGTGGTGTTTATTACCCTGACAAAGTTTTCAGATCCTCAGTTTTACATTCAACTCAGGACTTGTTCTTACCTTTCTTTTCCAATGTTACTTGGTTCCATGCTATACATGTCTCTGGGACCAATGGTACTAAGAGGTTTGATAACCCTGTCCTACCATTTAATGATGGTGTTTATTTTGCTTCCACTGAGAAGTCTAACATAATAAGAGGCTGGATTTTTGGTACTACTTTAGATTCGAAGACCCAGTCCCTACTTATTGTTAATAACGCTACTAATGTTGTTATTAAAGTCTGTGAATTTCAATTTTGTAATGATCCATTTTTGGGTGTTTATTACCACAAAAACAACAAAAGTTGGATGGAAAGTGAGTTCAGAGTTTATTCTAGTGCGAATAATTGCACTTTTGAATATGTCTCTCAGCCTTTTCTTATGGACCTTGAAGGAAAACAGGGTAATTTCAAAAATCTTAGGGAATTTGTGTTTAAGAATATTGATGGTTATTTTAAAATATATTCTAAGCACACGCCTATTAATTTAGTGCGTGATCTCCCTCAGGGTTTTTCGGCTTTAGAACCATTGGTAGATTTGCCAATAGGTATTAACATCACTAGGTTTCAAACTTTACTTGCTTTACATAGAAGTTATTTGACTCCTGGTGATTCTTCTTCAGGTTGGACAGCTGGTGCTGCAGCTTATTATGTGGGTTATCTTCAACCTAGGACTTTTCTATTAAAATATAATGAAAATGGAACCATTACAGATGCTGTAGACTGTGCACTTGACCCTCTCTCAGAAACAAAGTGTACGTTGAAATCCTTCACTGTAGAAAAAGGAATCTATCAAACTTCTAACTTTAGAGTCCAACCAACAGAATCTATTGTTAGATTTCCTAATATTACAAACTTGTGCCCTTTTGGTGAAGTTTTTAACGCCACCAGATTTGCATCTGTTTATGCTTGGAACAGGAAGAGAATCAGCAACTGTGTTGCTGATTATTCTGTCCTATATAATTCCGCATCATTTTCCACTTTTAAGTGTTATGGAGTGTCTCCTACTAAATTAAATGATCTCTGCTTTACTAATGTCTATGCAGATTCATTTGTAATTAGAGGTGATGAAGTCAGACAAATCGCTCCAGGGCAAACTGGAAAGATTGCTGATTATAATTATAAATTACCAGATGATTTTACAGGCTGCGTTATAGCTTGGAATTCTAACAATCTTGATTCTAAGGTTGGTGGTAATTATAATTACCTGTATAGATTGTTTAGGAAGTCTAATCTCAAACCTTTTGAGAGAGATATTTCAACTGAAATCTATCAGGCCGGTAGCACACCTTGTAATGGTGTTGAAGGTTTTAATTGTTACTTTCCTTTACAATCATATGGTTTCCAACCCACTAATGGTGTTGGTTACCAACCATACAGAGTAGTAGTACTTTCTTTTGAACTTCTACATGCACCAGCAACTGTTTGTGGACCTAAAAAGTCTACTAATTTGGTTAAAAACAAATGTGTCAATTTCAACTTCAATGGTTTAACAGGCACAGGTGTTCTTACTGAGTCTAACAAAAAGTTTCTGCCTTTCCAACAATTTGGCAGAGACATTGCTGACACTACTGATGCTGTCCGTGATCCACAGACACTTGAGATTCTTGACATTACACCATGTTCTTTTGGTGGTGTCAGTGTTATAACACCAGGAACAAATACTTCTAACCAGGTTGCTGTTCTTTATCAGGATGTTAACTGCACAGAAGTCCCTGTTGCTATTCATGCAGATCAACTTACTCCTACTTGGCGTGTTTATTCTACAGGTTCTAATGTTTTTCAAACACGTGCAGGCTGTTTAATAGGGGCTGAACATGTCAACAACTCATATGAGTGTGACATACCCATTGGTGCAGGTATATGCGCTAGTTATCAGACTCAGACTAATTCTCCTCGGCGGGCACGTAGTGTAGCTAGTCAATCCATCATTGCCTACACTATGTCACTTGGTGCAGAAAATTCAGTTGCTTACTCTAATAACTCTATTGCCATACCCACAAATTTTACTATTAGTGTTACCACAGAAATTCTACCAGTGTCTATGACCAAGACATCAGTAGATTGTACAATGTACATTTGTGGTGATTCAACTGAATGCAGCAATCTTTTGTTGCAATATGGCAGTTTTTGTACACAATTAAACCGTGCTTTAACTGGAATAGCTGTTGAACAAGACAAAAACACCCAAGAAGTTTTTGCACAAGTCAAACAAATTTACAAAACACCACCAATTAAAGATTTTGGTGGTTTTAATTTTTCACAAATATTACCAGATCCATCAAAACCAAGCAAGAGGTCATTTATTGAAGATCTACTTTTCAACAAAGTGACACTTGCAGATGCTGGCTTCATCAAACAATATGGTGATTGCCTTGGTGATATTGCTGCTAGAGACCTCATTTGTGCACAAAAGTTTAACGGCCTTACTGTTTTGCCACCTTTGCTCACAGATGAAATGATTGCTCAATACACTTCTGCACTGTTAGCGGGTACAATCACTTCTGGTTGGACCTTTGGTGCAGGTGCTGCATTACAAATACCATTTGCTATGCAAATGGCTTATAGGTTTAATGGTATTGGAGTTACACAGAATGTTCTCTATGAGAACCAAAAATTGATTGCCAACCAATTTAATAGTGCTATTGGCAAAATTCAAGACTCACTTTCTTCCACAGCAAGTGCACTTGGAAAACTTCAAGATGTGGTCAACCAAAATGCACAAGCTTTAAACACGCTTGTTAAACAACTTAGCTCCAATTTTGGTGCAATTTCAAGTGTTTTAAATGATATCCTTTCACGTCTTGACAAAGTTGAGGCTGAAGTGCAAATTGATAGGTTGATCACAGGCAGACTTCAAAGTTTGCAGACATATGTGACTCAACAATTAATTAGAGCTGCAGAAATCAGAGCTTCTGCTAATCTTGCTGCTACTAAAATGTCAGAGTGTGTACTTGGACAATCAAAAAGAGTTGATTTTTGTGGAAAGGGCTATCATCTTATGTCCTTCCCTCAGTCAGCACCTCATGGTGTAGTCTTCTTGCATGTGACTTATGTCCCTGCACAAGAAAAGAACTTCACAACTGCTCCTGCCATTTGTCATGATGGAAAAGCACACTTTCCTCGTGAAGGTGTCTTTGTTTCAAATGGCACACACTGGTTTGTAACACAAAGGAATTTTTATGAACCACAAATCATTACTACAGACAACACATTTGTGTCTGGTAACTGTGATGTTGTAATAGGAATTGTCAACAACACAGTTTATGATCCTTTGCAACCTGAATTAGACTCATTCAAGGAGGAGTTAGATAAATATTTTAAGAATCATACATCACCAGATGTTGATTTAGGTGACATCTCTGGCATTAATGCTTCAGTTGTAAACATTCAAAAAGAAATTGACCGCCTCAATGAGGTTGCCAAGAATTTAAATGAATCTCTCATCGATCTCCAAGAACTTGGAAAGTATGAGCAGTATATAAAATGGCCATGGTACATTTGGCTAGGTTTTATAGCTGGCTTGATTGCCATAGTAATGGTGACAATTATGCTTTGCTGTATGACCAGTTGCTGTAGTTGTCTCAAGGGCTGTTGTTCTTGTGGATCCTGCTGCAAATTTGATGAAGACGACTCTGAGCCAGTGCTCAAAGGAGTCAAATTACATTACACATA'"
      ]
     },
     "execution_count": 26,
     "metadata": {},
     "output_type": "execute_result"
    }
   ],
   "source": [
    "coronavirusdna[21562:25383]"
   ]
  },
  {
   "cell_type": "markdown",
   "metadata": {},
   "source": [
    "# Protein"
   ]
  },
  {
   "cell_type": "markdown",
   "metadata": {},
   "source": [
    "## 1. Spike Glycoprotein of 2019 nCov"
   ]
  },
  {
   "cell_type": "markdown",
   "metadata": {},
   "source": [
    "gene            21563..25384\n",
    "                     /gene=\"S\"\n",
    "                     \n",
    "CDS             21563..25384\n",
    "                     /gene=\"S\"\n",
    "                     /note=\"structural protein\"\n",
    "                     /codon_start=1\n",
    "                     /product=\"surface glycoprotein\"\n",
    "                     /protein_id=\"QHD43416.1\""
   ]
  },
  {
   "cell_type": "code",
   "execution_count": 27,
   "metadata": {},
   "outputs": [
    {
     "data": {
      "text/plain": [
       "'MFVFLVLLPLVSSQCVNLTTRTQLPPAYTNSFTRGVYYPDKVFRSSVLHSTQDLFLPFFSNVTWFHAIHVSGTNGTKRFDNPVLPFNDGVYFASTEKSNIIRGWIFGTTLDSKTQSLLIVNNATNVVIKVCEFQFCNDPFLGVYYHKNNKSWMESEFRVYSSANNCTFEYVSQPFLMDLEGKQGNFKNLREFVFKNIDGYFKIYSKHTPINLVRDLPQGFSALEPLVDLPIGINITRFQTLLALHRSYLTPGDSSSGWTAGAAAYYVGYLQPRTFLLKYNENGTITDAVDCALDPLSETKCTLKSFTVEKGIYQTSNFRVQPTESIVRFPNITNLCPFGEVFNATRFASVYAWNRKRISNCVADYSVLYNSASFSTFKCYGVSPTKLNDLCFTNVYADSFVIRGDEVRQIAPGQTGKIADYNYKLPDDFTGCVIAWNSNNLDSKVGGNYNYLYRLFRKSNLKPFERDISTEIYQAGSTPCNGVEGFNCYFPLQSYGFQPTNGVGYQPYRVVVLSFELLHAPATVCGPKKSTNLVKNKCVNFNFNGLTGTGVLTESNKKFLPFQQFGRDIADTTDAVRDPQTLEILDITPCSFGGVSVITPGTNTSNQVAVLYQDVNCTEVPVAIHADQLTPTWRVYSTGSNVFQTRAGCLIGAEHVNNSYECDIPIGAGICASYQTQTNSPRRARSVASQSIIAYTMSLGAENSVAYSNNSIAIPTNFTISVTTEILPVSMTKTSVDCTMYICGDSTECSNLLLQYGSFCTQLNRALTGIAVEQDKNTQEVFAQVKQIYKTPPIKDFGGFNFSQILPDPSKPSKRSFIEDLLFNKVTLADAGFIKQYGDCLGDIAARDLICAQKFNGLTVLPPLLTDEMIAQYTSALLAGTITSGWTFGAGAALQIPFAMQMAYRFNGIGVTQNVLYENQKLIANQFNSAIGKIQDSLSSTASALGKLQDVVNQNAQALNTLVKQLSSNFGAISSVLNDILSRLDKVEAEVQIDRLITGRLQSLQTYVTQQLIRAAEIRASANLAATKMSECVLGQSKRVDFCGKGYHLMSFPQSAPHGVVFLHVTYVPAQEKNFTTAPAICHDGKAHFPREGVFVSNGTHWFVTQRNFYEPQIITTDNTFVSGNCDVVIGIVNNTVYDPLQPELDSFKEELDKYFKNHTSPDVDLGDISGINASVVNIQKEIDRLNEVAKNLNESLIDLQELGKYEQYIKWPWYIWLGFIAGLIAIVMVTIMLCCMTSCCSCLKGCCSCGSCCKFDEDDSEPVLKGVKLHYT'"
      ]
     },
     "execution_count": 27,
     "metadata": {},
     "output_type": "execute_result"
    }
   ],
   "source": [
    "spike_dna = coronavirusdna[21562:25383]\n",
    "spike_protein_tuple = translate(spike_dna)\n",
    "spike_protein_tuple[2]"
   ]
  },
  {
   "cell_type": "code",
   "execution_count": 28,
   "metadata": {},
   "outputs": [],
   "source": [
    "spike_protein = spike_protein_tuple[2]"
   ]
  },
  {
   "cell_type": "code",
   "execution_count": 29,
   "metadata": {},
   "outputs": [
    {
     "data": {
      "text/plain": [
       "'MFVFLVLLPLVSSQCVNLTTRTQLPPAYTNSFTRGVYYPDKVFRSSVLHSTQDLFLPFFSNVTWFHAIHVSGTNGTKRFDNPVLPFNDGVYFASTEKSNIIRGWIFGTTLDSKTQSLLIVNNATNVVIKVCEFQFCNDPFLGVYYHKNNKSWMESEFRVYSSANNCTFEYVSQPFLMDLEGKQGNFKNLREFVFKNIDGYFKIYSKHTPINLVRDLPQGFSALEPLVDLPIGINITRFQTLLALHRSYLTPGDSSSGWTAGAAAYYVGYLQPRTFLLKYNENGTITDAVDCALDPLSETKCTLKSFTVEKGIYQTSNFRVQPTESIVRFPNITNLCPFGEVFNATRFASVYAWNRKRISNCVADYSVLYNSASFSTFKCYGVSPTKLNDLCFTNVYADSFVIRGDEVRQIAPGQTGKIADYNYKLPDDFTGCVIAWNSNNLDSKVGGNYNYLYRLFRKSNLKPFERDISTEIYQAGSTPCNGVEGFNCYFPLQSYGFQPTNGVGYQPYRVVVLSFELLHAPATVCGPKKSTNLVKNKCVNFNFNGLTGTGVLTESNKKFLPFQQFGRDIADTTDAVRDPQTLEILDITPCSFGGVSVITPGTNTSNQVAVLYQDVNCTEVPVAIHADQLTPTWRVYSTGSNVFQTRAGCLIGAEHVNNSYECDIPIGAGICASYQTQTNSPRRARSVASQSIIAYTMSLGAENSVAYSNNSIAIPTNFTISVTTEILPVSMTKTSVDCTMYICGDSTECSNLLLQYGSFCTQLNRALTGIAVEQDKNTQEVFAQVKQIYKTPPIKDFGGFNFSQILPDPSKPSKRSFIEDLLFNKVTLADAGFIKQYGDCLGDIAARDLICAQKFNGLTVLPPLLTDEMIAQYTSALLAGTITSGWTFGAGAALQIPFAMQMAYRFNGIGVTQNVLYENQKLIANQFNSAIGKIQDSLSSTASALGKLQDVVNQNAQALNTLVKQLSSNFGAISSVLNDILSRLDKVEAEVQIDRLITGRLQSLQTYVTQQLIRAAEIRASANLAATKMSECVLGQSKRVDFCGKGYHLMSFPQSAPHGVVFLHVTYVPAQEKNFTTAPAICHDGKAHFPREGVFVSNGTHWFVTQRNFYEPQIITTDNTFVSGNCDVVIGIVNNTVYDPLQPELDSFKEELDKYFKNHTSPDVDLGDISGINASVVNIQKEIDRLNEVAKNLNESLIDLQELGKYEQYIKWPWYIWLGFIAGLIAIVMVTIMLCCMTSCCSCLKGCCSCGSCCKFDEDDSEPVLKGVKLHYT'"
      ]
     },
     "execution_count": 29,
     "metadata": {},
     "output_type": "execute_result"
    }
   ],
   "source": [
    "spike_protein"
   ]
  },
  {
   "cell_type": "code",
   "execution_count": 30,
   "metadata": {},
   "outputs": [
    {
     "data": {
      "text/plain": [
       "1273"
      ]
     },
     "execution_count": 30,
     "metadata": {},
     "output_type": "execute_result"
    }
   ],
   "source": [
    "len(spike_protein)"
   ]
  },
  {
   "cell_type": "code",
   "execution_count": 31,
   "metadata": {},
   "outputs": [
    {
     "data": {
      "text/plain": [
       "'GTNGTKR'"
      ]
     },
     "execution_count": 31,
     "metadata": {},
     "output_type": "execute_result"
    }
   ],
   "source": [
    "insert1 = spike_protein[71:78]\n",
    "insert1"
   ]
  },
  {
   "cell_type": "code",
   "execution_count": 49,
   "metadata": {},
   "outputs": [
    {
     "data": {
      "text/plain": [
       "'YYHKNNKS'"
      ]
     },
     "execution_count": 49,
     "metadata": {},
     "output_type": "execute_result"
    }
   ],
   "source": [
    "insert2 = spike_protein[143:151]\n",
    "insert2"
   ]
  },
  {
   "cell_type": "code",
   "execution_count": 46,
   "metadata": {},
   "outputs": [
    {
     "data": {
      "text/plain": [
       "'GDSSSG'"
      ]
     },
     "execution_count": 46,
     "metadata": {},
     "output_type": "execute_result"
    }
   ],
   "source": [
    "insert3 = spike_protein[251:257]\n",
    "insert3"
   ]
  },
  {
   "cell_type": "code",
   "execution_count": 52,
   "metadata": {},
   "outputs": [
    {
     "data": {
      "text/plain": [
       "'QTNSPRRA'"
      ]
     },
     "execution_count": 52,
     "metadata": {},
     "output_type": "execute_result"
    }
   ],
   "source": [
    "insert4 = spike_protein[676:684]\n",
    "insert4"
   ]
  },
  {
   "cell_type": "markdown",
   "metadata": {},
   "source": [
    "## 2. Spike Protein of 2013 SARS Coronavirus"
   ]
  },
  {
   "cell_type": "markdown",
   "metadata": {},
   "source": [
    "gene            21492..25259\n",
    "                     /gene=\"S\"\n",
    "                     \n",
    "CDS             21492..25259\n",
    "                     /gene=\"S\"\n",
    "                     /note=\"putative\"\n",
    "                     /codon_start=1\n",
    "                     /product=\"spike glycoprotein\"\n",
    "                     /protein_id=\"AAS00003.1\""
   ]
  },
  {
   "cell_type": "code",
   "execution_count": 34,
   "metadata": {
    "scrolled": true
   },
   "outputs": [
    {
     "data": {
      "text/plain": [
       "'MFIFLLFLTLTSGSDLDRCTTFDDVQAPNYTQHTSSMRGVYYPDEIFRSDTLYLTQDLFLPFYSNVTGFHTINHTFDNPVIPFKDGIYFAATEKSNVVRGWVFGSTMNNKSQSVIIINNSTNVVIRACNFELCDNPFFAVSKPMGTQTHTMIFDNAFNCTFEYISDAFSLDVSEKSGNFKHLREFVFKNKDGFLYVYKGYQPIDVVRDLPSGFNTLKPIFKLPLGINITNFRAILTAFLPAQDTWGTSAAAYFVGYLKPTTFMLKYDENGTITDAVDCSQNPLAELKCSVKSFEIDKGIYQTSNFRVVPSRDVVRFPNITNLCPFGEVFNATKFPSVYAWERKRISNCVADYSVLYNSTFFSTFKCYGVSATKLNDLCFSNVYADSFVVKGDDVRQIAPGQTGVIADYNYKLPDDFMGCVLAWNTRNIDATSTGNYNYKYRYLRHGKLRPFERDISNVPFSPDGKPCTPPALNCYWPLNDYGFYTTTGIGYQPYRVVVLSFELLNAPATVCGPKLSTDLIKNQCVNFNFNGLTGTGVLTPSSKRFQPFQQFGRDVSDFTDSVRDPKTSEILDISPCSFGGVSVITPGTNASSEVAVLYQDVNCTDVSTAIHADQLTPAWRIYSTGNNVFQTQAGCLIGAEHVDTSYECDIPIGAGICASYHTVSLLRSTSQKSIVAYTMSLGADSSIAYSNNTIAIPTNFSISITTEVMPVSMAKTSVDCNMYICGDSTECANLLLQYGSFCTQLNRALSGIAAEQDRNTREVFAQVKQMYKTPTLKDFGGFNFSQILPDPLKPTKRSFIEDLLFNKVTLADAGFMKQYGECLGDINARDLICAQKFNGLTVLPPLLTDDMIAAYTAALVSGTATAGWTFGAGAALQIPFAMQMAYRFNGIGVTQNVLYENQKQIANQFNKAISQIQESLTTTSTALGKLQDVVNQNAQALNTLVKQLSSNFGAISSVLNDILSRLDKVEAEVQIDRLITGRLQSLQTYVTQQLIRAAEIRASANLAATKMSECVLGQSKRVDFCGKGYHLMSFPQAAPHGVVFLHVTYVPSQERNFTTAPAICHEGKAYFPREGVFVFNGTSWFITQRNFFSPQIITTDNTFVSGNCDVVIGIINNTVYDPLQPELDSFKEELDKYFKNHTSPDVDLGDISGINASVVNIQEEIDRLNEVAKNLNESLIDLQELGKYEQYIKWPWYVWLGFIAGLIAIVMVTILLCCMTSCCSCLKGACSCGSCCKFDEDDSEPVLKGVKLHYT'"
      ]
     },
     "execution_count": 34,
     "metadata": {},
     "output_type": "execute_result"
    }
   ],
   "source": [
    "sars_spike_dna = sarscoronavirusdna[21491:25258]\n",
    "sars_spike_protein_tuple = translate(sars_spike_dna)\n",
    "sars_spike_protein_tuple[2]"
   ]
  },
  {
   "cell_type": "code",
   "execution_count": 35,
   "metadata": {
    "scrolled": true
   },
   "outputs": [
    {
     "data": {
      "text/plain": [
       "1255"
      ]
     },
     "execution_count": 35,
     "metadata": {},
     "output_type": "execute_result"
    }
   ],
   "source": [
    "sars_spike_protein = sars_spike_protein_tuple[2]\n",
    "len(sars_spike_protein)"
   ]
  },
  {
   "cell_type": "code",
   "execution_count": 68,
   "metadata": {},
   "outputs": [
    {
     "data": {
      "text/plain": [
       "'HTVSLLRSTS'"
      ]
     },
     "execution_count": 68,
     "metadata": {},
     "output_type": "execute_result"
    }
   ],
   "source": [
    "sars_spike_protein[660:670]"
   ]
  },
  {
   "cell_type": "code",
   "execution_count": 69,
   "metadata": {},
   "outputs": [],
   "source": [
    "beInserted1 = sars_spike_protein[70:78]\n",
    "beInserted2 = sars_spike_protein[136:145]\n",
    "beInserted3 = sars_spike_protein[236:253]\n",
    "beInserted4 = sars_spike_protein[660:670]"
   ]
  },
  {
   "cell_type": "code",
   "execution_count": 70,
   "metadata": {},
   "outputs": [
    {
     "name": "stdout",
     "output_type": "stream",
     "text": [
      "TINHTFDN FFAVSKPMG AFLPAQDTWGTSAAAYF HTVSLLRSTS\n"
     ]
    }
   ],
   "source": [
    "print(beInserted1, beInserted2, beInserted3, beInserted4)"
   ]
  },
  {
   "cell_type": "markdown",
   "metadata": {},
   "source": [
    "## 3. HIV gp120 Protein"
   ]
  },
  {
   "cell_type": "code",
   "execution_count": 36,
   "metadata": {},
   "outputs": [
    {
     "data": {
      "text/plain": [
       "'MRVKEKYQHLWRWGWRWGTMLLGMLMICSATEKLWVTVYYGVPVWKEATTTLFCASDAKAYDTEVHNVWATHACVPTDPNPQEVVLVNVTENFNMWKNDMVEQMHEDIISLWDQSLKPCVKLTPLCVSLKCTDLKNDTNTNSSSGRMIMEKGEIKNCSFNISTSIRGKVQKEYAFFYKLDIIPIDNDTTSYKLTSCNTSVITQACPKVSFEPIPIHYCAPAGFAILKCNNKTFNGTGPCTNVSTVQCTHGIRPVVSTQLLLNGSLAEEEVVIRSVNFTDNAKTIIVQLNTSVEINCTRPNNNTRKRIRIQRGPGRAFVTIGKIGNMRQAHCNISRAKWNNTLKQIASKLREQFGNNKTIIFKQSSGGDPEIVTHSFNCGGEFFYCNSTQLFNSTWFNSTWSTEGSNNTEGSDTITLPCRIKQIINMWQKVGKAMYAPPISGQIRCSSNITGLLLTRDGGNSNNESEIFRPGGGDMRDNWRSELYKYKVVKIEPLGVAPTKAKRRVVQREKRAVGIGALFLGFLGAAGSTMGAASMTLTVQARQLLSGIVQQQNNLLRAIEAQQHLLQLTVWGIKQLQARILAVERYLKDQQLLGIWGCSGKLICTTAVPWNASWSNKSLEQIWNHTTWMEWDREINNYTSLIHSLIEESQNQQEKNEQELLELDKWASLWNWFNITNWLWYIKLFIMIVGGLVGLRIVFAVLSIVNRVRQGYSPLSFQTHLPTPRGPDRPEGIEEEGGERDRDRSIRLVNGSLALIWDDLRSLCLFSYHRLRDLLLIVTRIVELLGRRGWEALKYWWNLLQYWSQELKNSAVSLLNATAIAVAEGTDRVIEVVQGACRAIRHIPRRIRQGLERILL'"
      ]
     },
     "execution_count": 36,
     "metadata": {},
     "output_type": "execute_result"
    }
   ],
   "source": [
    "env_dna = hivdna[5770:8340]\n",
    "env_tuple = translate(env_dna)\n",
    "env_tuple[2]"
   ]
  },
  {
   "cell_type": "code",
   "execution_count": 37,
   "metadata": {},
   "outputs": [],
   "source": [
    "gp = env_tuple[2]"
   ]
  },
  {
   "cell_type": "code",
   "execution_count": 81,
   "metadata": {},
   "outputs": [],
   "source": [
    "whole = translate(hivdna)[2]"
   ]
  },
  {
   "cell_type": "code",
   "execution_count": 87,
   "metadata": {},
   "outputs": [
    {
     "data": {
      "text/plain": [
       "-1"
      ]
     },
     "execution_count": 87,
     "metadata": {},
     "output_type": "execute_result"
    }
   ],
   "source": [
    "whole.find('HKNN')"
   ]
  },
  {
   "cell_type": "code",
   "execution_count": 39,
   "metadata": {},
   "outputs": [
    {
     "data": {
      "text/plain": [
       "[]"
      ]
     },
     "execution_count": 39,
     "metadata": {},
     "output_type": "execute_result"
    }
   ],
   "source": [
    "naive_2mm('GTNGTKR', gp)"
   ]
  },
  {
   "cell_type": "code",
   "execution_count": 43,
   "metadata": {},
   "outputs": [],
   "source": [
    "def naive_4mm(p, t):\n",
    "    appearance = []    \n",
    "    \n",
    "    for i in range(len(t) - len(p) + 1):\n",
    "        mismatch = 0\n",
    "        for j in range(len(p)):            \n",
    "            if t[i + j] != p[j]:\n",
    "                mismatch += 1\n",
    "                if mismatch == 5:\n",
    "                    break                \n",
    "        if mismatch <= 4:\n",
    "            appearance.append(i)\n",
    "            \n",
    "    return appearance"
   ]
  },
  {
   "cell_type": "code",
   "execution_count": 44,
   "metadata": {},
   "outputs": [
    {
     "data": {
      "text/plain": [
       "[]"
      ]
     },
     "execution_count": 44,
     "metadata": {},
     "output_type": "execute_result"
    }
   ],
   "source": [
    "naive_3mm('GTNGTKR', gp)"
   ]
  },
  {
   "cell_type": "code",
   "execution_count": 45,
   "metadata": {},
   "outputs": [
    {
     "data": {
      "text/plain": [
       "'MRVKEKYQHLWRWGWRWGTMLLGMLMICSATEKLWVTVYYGVPVWKEATTTLFCASDAKAYDTEVHNVWATHACVPTDPNPQEVVLVNVTENFNMWKNDMVEQMHEDIISLWDQSLKPCVKLTPLCVSLKCTDLKNDTNTNSSSGRMIMEKGEIKNCSFNISTSIRGKVQKEYAFFYKLDIIPIDNDTTSYKLTSCNTSVITQACPKVSFEPIPIHYCAPAGFAILKCNNKTFNGTGPCTNVSTVQCTHGIRPVVSTQLLLNGSLAEEEVVIRSVNFTDNAKTIIVQLNTSVEINCTRPNNNTRKRIRIQRGPGRAFVTIGKIGNMRQAHCNISRAKWNNTLKQIASKLREQFGNNKTIIFKQSSGGDPEIVTHSFNCGGEFFYCNSTQLFNSTWFNSTWSTEGSNNTEGSDTITLPCRIKQIINMWQKVGKAMYAPPISGQIRCSSNITGLLLTRDGGNSNNESEIFRPGGGDMRDNWRSELYKYKVVKIEPLGVAPTKAKRRVVQREKRAVGIGALFLGFLGAAGSTMGAASMTLTVQARQLLSGIVQQQNNLLRAIEAQQHLLQLTVWGIKQLQARILAVERYLKDQQLLGIWGCSGKLICTTAVPWNASWSNKSLEQIWNHTTWMEWDREINNYTSLIHSLIEESQNQQEKNEQELLELDKWASLWNWFNITNWLWYIKLFIMIVGGLVGLRIVFAVLSIVNRVRQGYSPLSFQTHLPTPRGPDRPEGIEEEGGERDRDRSIRLVNGSLALIWDDLRSLCLFSYHRLRDLLLIVTRIVELLGRRGWEALKYWWNLLQYWSQELKNSAVSLLNATAIAVAEGTDRVIEVVQGACRAIRHIPRRIRQGLERILL'"
      ]
     },
     "execution_count": 45,
     "metadata": {},
     "output_type": "execute_result"
    }
   ],
   "source": [
    "gp"
   ]
  },
  {
   "cell_type": "code",
   "execution_count": null,
   "metadata": {},
   "outputs": [],
   "source": []
  }
 ],
 "metadata": {
  "kernelspec": {
   "display_name": "Python 3",
   "language": "python",
   "name": "python3"
  },
  "language_info": {
   "codemirror_mode": {
    "name": "ipython",
    "version": 3
   },
   "file_extension": ".py",
   "mimetype": "text/x-python",
   "name": "python",
   "nbconvert_exporter": "python",
   "pygments_lexer": "ipython3",
   "version": "3.7.4"
  }
 },
 "nbformat": 4,
 "nbformat_minor": 2
}
